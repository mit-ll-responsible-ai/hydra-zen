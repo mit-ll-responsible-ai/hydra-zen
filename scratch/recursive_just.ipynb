{
 "cells": [
  {
   "cell_type": "markdown",
   "id": "39637ca0",
   "metadata": {},
   "source": [
    "## Notes\n",
    "- Found bug / limitation in `builds` when doing populate full signature on a dataclass that has a default factory for a field.\n",
    "- Need to think about UI for applying recursive just. Should recursive just also work on dataclass types rather than just instances? `builds(..., zen_recursive=<bool>)`?\n",
    "- Take care to associate \n",
    "\n",
    "If `just_recursive` is producing a \"sanitized\" version of a dataclass, how should it handle inheritance? Should it mirror the parents of the target dataclass?\n",
    "\n",
    "Jasha's proposal shows a dataclass *instance* with... \n",
    "1. Annotations that need to be sanitized\n",
    "2. A field that stores a dataclass *instance* whose fields/values similarly need to be sanitized "
   ]
  },
  {
   "cell_type": "code",
   "execution_count": null,
   "id": "2bac9bf2",
   "metadata": {},
   "outputs": [],
   "source": []
  },
  {
   "cell_type": "markdown",
   "id": "3c060f92",
   "metadata": {},
   "source": [
    "## Jasha proposal"
   ]
  },
  {
   "cell_type": "code",
   "execution_count": 1,
   "id": "8ceea2c7",
   "metadata": {},
   "outputs": [],
   "source": [
    "\"\"\"\n",
    "A few months ago @rsokl shared a vision with me: what if arbitrary python objects could be\n",
    "serialized to an OmegaConf-compatible format, then modified and composed using Hydra, and finally\n",
    "reanimated with a call to `instantiate`?\n",
    "\n",
    "In this literate program, I outline an approach to automatic, recursive conversion of\n",
    "OmegaConf-incompatible dataclass instances to an OmegaConf-compatible form. This is something like a\n",
    "poor man's implementation of the auto-config support proposed in hydra-zen issue\n",
    "https://github.com/mit-ll-responsible-ai/hydra-zen/issues/257 .\n",
    "\"\"\"\n",
    "\n",
    "#######################\n",
    "# Motivating use case #\n",
    "#######################\n",
    "\n",
    "# Below we create an object `foobar` containing data and type-hints unsupported by Hydra.\n",
    "\n",
    "from dataclasses import dataclass\n",
    "from typing import Any, Callable\n",
    "from typing_extensions import TypeAlias\n",
    "\n",
    "Interface1: TypeAlias = Callable[[int], int]\n",
    "Interface2: TypeAlias = Callable[[str], str]\n",
    "\n",
    "\n",
    "@dataclass\n",
    "class Nested:\n",
    "    x: Any\n",
    "\n",
    "\n",
    "@dataclass\n",
    "class Stuff:\n",
    "    field1: Interface1\n",
    "    field2: Interface2\n",
    "    field3: Nested\n",
    "\n",
    "\n",
    "def foo(i: int) -> int:\n",
    "    return i\n",
    "\n",
    "\n",
    "def bar(s: str) -> str:\n",
    "    return s\n",
    "\n",
    "\n",
    "def baz(f: float) -> float:\n",
    "    return f\n",
    "\n",
    "\n",
    "foobar = Stuff(foo, bar, Nested(baz))\n"
   ]
  },
  {
   "cell_type": "code",
   "execution_count": 2,
   "id": "13aa9a91",
   "metadata": {},
   "outputs": [],
   "source": [
    "\n",
    "###############\n",
    "# The problem #\n",
    "###############\n",
    "\n",
    "# The type hints `Interface1` and `Interface2` are not supported by OmegaConf, and neither are the\n",
    "# values `foo`/`bar`/`baz`. As such, we cannot serialize the object `foobar` using OmegaConf:\n",
    "\n",
    "from omegaconf import OmegaConf, ValidationError\n",
    "from omegaconf.errors import ConfigTypeError\n",
    "from pytest import raises\n",
    "\n",
    "with raises((ValidationError, ConfigTypeError)):  # I get ConfigTypeError\n",
    "    OmegaConf.structured(foobar)"
   ]
  },
  {
   "cell_type": "code",
   "execution_count": 3,
   "id": "e08ef83a",
   "metadata": {},
   "outputs": [],
   "source": [
    "\n",
    "\n",
    "# This means `foobar` cannot pariticipate in config composition via Hydra.\n",
    "\n",
    "############\n",
    "# The Goal #\n",
    "############\n",
    "\n",
    "# Given `foobar`, how can we create a Hydra-compatible dataclass `BuildsFooBar` such that\n",
    "# `instantiate(BuildsFooBar) == foobar`?\n",
    "\n",
    "# Here is a solution using `hydra_zen.builds`:\n",
    "\n",
    "from hydra.utils import instantiate\n",
    "from hydra_zen import builds\n",
    "\n",
    "BuildsFooBar = builds(Stuff, foo, bar, builds(Nested, baz))\n",
    "assert instantiate(BuildsFooBar) == foobar\n",
    "assert OmegaConf.to_yaml(BuildsFooBar) == \"\"\"\\\n",
    "_target_: __main__.Stuff\n",
    "_args_:\n",
    "- _target_: hydra_zen.funcs.get_obj\n",
    "  path: __main__.foo\n",
    "- _target_: hydra_zen.funcs.get_obj\n",
    "  path: __main__.bar\n",
    "- _target_: __main__.Nested\n",
    "  _args_:\n",
    "  - _target_: hydra_zen.funcs.get_obj\n",
    "    path: __main__.baz\n",
    "\"\"\""
   ]
  },
  {
   "cell_type": "code",
   "execution_count": 77,
   "id": "e40c7bb5",
   "metadata": {},
   "outputs": [],
   "source": [
    "# Unlike `foobar` itself, the dataclass `BuildsFooBar` (and its instances) are fully \n",
    "# compatible with OmegaConf + Hydra.\n",
    "\n",
    "# How can the above workflow be improved? Ideally, we'd be able to transform the \n",
    "# instance `foobar` into the class `BuildsFooBar` in a fully-automatic fashion. I \n",
    "# envision something like this:\n",
    "\n",
    "#   BuildsFooBar2 = recursive_just(foobar)\n",
    "#   assert instantiate(BuildsFooBar2) == foobar\n",
    "\n",
    "# The idea is for `recursive_just(obj)` to visit sub-objects of `obj`, converting each of them\n",
    "# to be Hydra-compatible. Like the non-recursive `hydra_zen.just` function, this proposed \"recursive\n",
    "# just\" operator is idempotent.\n",
    "\n",
    "\n",
    "############################\n",
    "# Prototype implementation #\n",
    "############################\n",
    "\n",
    "from dataclasses import fields, is_dataclass\n",
    "from hydra_zen import just\n",
    "\n",
    "\n",
    "def recursive_just(obj):\n",
    "    if is_dataclass(obj) and not isinstance(obj, type):\n",
    "        # obj is a dataclass instance\n",
    "        converted_fields = {}\n",
    "        for field in fields(obj):\n",
    "            value = getattr(obj, field.name)\n",
    "            converted_fields[field.name] = recursive_just(value)\n",
    "        return builds(type(obj), **converted_fields)\n",
    "\n",
    "    else:\n",
    "        return just(obj)\n",
    "\n",
    "\n",
    "BuildsFooBar2 = recursive_just(foobar)\n",
    "assert instantiate(BuildsFooBar2) == foobar\n",
    "assert OmegaConf.to_yaml(BuildsFooBar2) == \"\"\"\\\n",
    "_target_: __main__.Stuff\n",
    "field1:\n",
    "  _target_: hydra_zen.funcs.get_obj\n",
    "  path: __main__.foo\n",
    "field2:\n",
    "  _target_: hydra_zen.funcs.get_obj\n",
    "  path: __main__.bar\n",
    "field3:\n",
    "  _target_: __main__.Nested\n",
    "  x:\n",
    "    _target_: hydra_zen.funcs.get_obj\n",
    "    path: __main__.baz\n",
    "\"\"\""
   ]
  },
  {
   "cell_type": "code",
   "execution_count": 76,
   "id": "f9a0dd56",
   "metadata": {},
   "outputs": [
    {
     "ename": "ValidationError",
     "evalue": "Invalid type assigned: Builds_Nested is not a subclass of Nested. value: Builds_Nested(_target_='__main__.Nested', _convert_='all', x=<class 'types.Just_baz'>)\n    full_key: field3\n    object_type=None",
     "output_type": "error",
     "traceback": [
      "\u001b[1;31m---------------------------------------------------------------------------\u001b[0m",
      "\u001b[1;31mValidationError\u001b[0m                           Traceback (most recent call last)",
      "\u001b[1;32mc:\\Users\\rsokl\\hydra-zen\\scratch\\recursive_just.ipynb Cell 8\u001b[0m in \u001b[0;36m<cell line: 18>\u001b[1;34m()\u001b[0m\n\u001b[0;32m     <a href='vscode-notebook-cell:/c%3A/Users/rsokl/hydra-zen/scratch/recursive_just.ipynb#X10sZmlsZQ%3D%3D?line=14'>15</a>\u001b[0m     \u001b[39melse\u001b[39;00m:\n\u001b[0;32m     <a href='vscode-notebook-cell:/c%3A/Users/rsokl/hydra-zen/scratch/recursive_just.ipynb#X10sZmlsZQ%3D%3D?line=15'>16</a>\u001b[0m         \u001b[39mreturn\u001b[39;00m just(obj)\n\u001b[1;32m---> <a href='vscode-notebook-cell:/c%3A/Users/rsokl/hydra-zen/scratch/recursive_just.ipynb#X10sZmlsZQ%3D%3D?line=17'>18</a>\u001b[0m instantiate(recursive_just(foobar))\n",
      "File \u001b[1;32mc:\\Users\\rsokl\\miniconda3\\envs\\hydra-zen\\lib\\site-packages\\hydra\\_internal\\instantiate\\_instantiate2.py:202\u001b[0m, in \u001b[0;36minstantiate\u001b[1;34m(config, *args, **kwargs)\u001b[0m\n\u001b[0;32m    200\u001b[0m \u001b[39m# Structured Config always converted first to OmegaConf\u001b[39;00m\n\u001b[0;32m    201\u001b[0m \u001b[39mif\u001b[39;00m is_structured_config(config) \u001b[39mor\u001b[39;00m \u001b[39misinstance\u001b[39m(config, (\u001b[39mdict\u001b[39m, \u001b[39mlist\u001b[39m)):\n\u001b[1;32m--> 202\u001b[0m     config \u001b[39m=\u001b[39m OmegaConf\u001b[39m.\u001b[39;49mstructured(config, flags\u001b[39m=\u001b[39;49m{\u001b[39m\"\u001b[39;49m\u001b[39mallow_objects\u001b[39;49m\u001b[39m\"\u001b[39;49m: \u001b[39mTrue\u001b[39;49;00m})\n\u001b[0;32m    204\u001b[0m \u001b[39mif\u001b[39;00m OmegaConf\u001b[39m.\u001b[39mis_dict(config):\n\u001b[0;32m    205\u001b[0m     \u001b[39m# Finalize config (convert targets to strings, merge with kwargs)\u001b[39;00m\n\u001b[0;32m    206\u001b[0m     config_copy \u001b[39m=\u001b[39m copy\u001b[39m.\u001b[39mdeepcopy(config)\n",
      "File \u001b[1;32mc:\\Users\\rsokl\\miniconda3\\envs\\hydra-zen\\lib\\site-packages\\omegaconf\\omegaconf.py:123\u001b[0m, in \u001b[0;36mOmegaConf.structured\u001b[1;34m(obj, parent, flags)\u001b[0m\n\u001b[0;32m    117\u001b[0m \u001b[39m@staticmethod\u001b[39m\n\u001b[0;32m    118\u001b[0m \u001b[39mdef\u001b[39;00m \u001b[39mstructured\u001b[39m(\n\u001b[0;32m    119\u001b[0m     obj: Any,\n\u001b[0;32m    120\u001b[0m     parent: Optional[BaseContainer] \u001b[39m=\u001b[39m \u001b[39mNone\u001b[39;00m,\n\u001b[0;32m    121\u001b[0m     flags: Optional[Dict[\u001b[39mstr\u001b[39m, \u001b[39mbool\u001b[39m]] \u001b[39m=\u001b[39m \u001b[39mNone\u001b[39;00m,\n\u001b[0;32m    122\u001b[0m ) \u001b[39m-\u001b[39m\u001b[39m>\u001b[39m Any:\n\u001b[1;32m--> 123\u001b[0m     \u001b[39mreturn\u001b[39;00m OmegaConf\u001b[39m.\u001b[39;49mcreate(obj, parent, flags)\n",
      "File \u001b[1;32mc:\\Users\\rsokl\\miniconda3\\envs\\hydra-zen\\lib\\site-packages\\omegaconf\\omegaconf.py:176\u001b[0m, in \u001b[0;36mOmegaConf.create\u001b[1;34m(obj, parent, flags)\u001b[0m\n\u001b[0;32m    170\u001b[0m \u001b[39m@staticmethod\u001b[39m\n\u001b[0;32m    171\u001b[0m \u001b[39mdef\u001b[39;00m \u001b[39mcreate\u001b[39m(  \u001b[39m# noqa F811\u001b[39;00m\n\u001b[0;32m    172\u001b[0m     obj: Any \u001b[39m=\u001b[39m _DEFAULT_MARKER_,\n\u001b[0;32m    173\u001b[0m     parent: Optional[BaseContainer] \u001b[39m=\u001b[39m \u001b[39mNone\u001b[39;00m,\n\u001b[0;32m    174\u001b[0m     flags: Optional[Dict[\u001b[39mstr\u001b[39m, \u001b[39mbool\u001b[39m]] \u001b[39m=\u001b[39m \u001b[39mNone\u001b[39;00m,\n\u001b[0;32m    175\u001b[0m ) \u001b[39m-\u001b[39m\u001b[39m>\u001b[39m Union[DictConfig, ListConfig]:\n\u001b[1;32m--> 176\u001b[0m     \u001b[39mreturn\u001b[39;00m OmegaConf\u001b[39m.\u001b[39;49m_create_impl(\n\u001b[0;32m    177\u001b[0m         obj\u001b[39m=\u001b[39;49mobj,\n\u001b[0;32m    178\u001b[0m         parent\u001b[39m=\u001b[39;49mparent,\n\u001b[0;32m    179\u001b[0m         flags\u001b[39m=\u001b[39;49mflags,\n\u001b[0;32m    180\u001b[0m     )\n",
      "File \u001b[1;32mc:\\Users\\rsokl\\miniconda3\\envs\\hydra-zen\\lib\\site-packages\\omegaconf\\omegaconf.py:882\u001b[0m, in \u001b[0;36mOmegaConf._create_impl\u001b[1;34m(obj, parent, flags)\u001b[0m\n\u001b[0;32m    878\u001b[0m                 \u001b[39mraise\u001b[39;00m ValidationError(\n\u001b[0;32m    879\u001b[0m                     \u001b[39mf\u001b[39m\u001b[39m\"\u001b[39m\u001b[39mObject of unsupported type: \u001b[39m\u001b[39m'\u001b[39m\u001b[39m{\u001b[39;00m\u001b[39mtype\u001b[39m(obj)\u001b[39m.\u001b[39m\u001b[39m__name__\u001b[39m\u001b[39m}\u001b[39;00m\u001b[39m'\u001b[39m\u001b[39m\"\u001b[39m\n\u001b[0;32m    880\u001b[0m                 )\n\u001b[0;32m    881\u001b[0m \u001b[39mexcept\u001b[39;00m OmegaConfBaseException \u001b[39mas\u001b[39;00m e:\n\u001b[1;32m--> 882\u001b[0m     format_and_raise(node\u001b[39m=\u001b[39;49m\u001b[39mNone\u001b[39;49;00m, key\u001b[39m=\u001b[39;49m\u001b[39mNone\u001b[39;49;00m, value\u001b[39m=\u001b[39;49m\u001b[39mNone\u001b[39;49;00m, msg\u001b[39m=\u001b[39;49m\u001b[39mstr\u001b[39;49m(e), cause\u001b[39m=\u001b[39;49me)\n\u001b[0;32m    883\u001b[0m     \u001b[39massert\u001b[39;00m \u001b[39mFalse\u001b[39;00m\n",
      "File \u001b[1;32mc:\\Users\\rsokl\\miniconda3\\envs\\hydra-zen\\lib\\site-packages\\omegaconf\\_utils.py:793\u001b[0m, in \u001b[0;36mformat_and_raise\u001b[1;34m(node, key, value, msg, cause, type_override)\u001b[0m\n\u001b[0;32m    791\u001b[0m         ex \u001b[39m=\u001b[39m type_override(\u001b[39mstr\u001b[39m(cause))\n\u001b[0;32m    792\u001b[0m         ex\u001b[39m.\u001b[39m\u001b[39m__dict__\u001b[39m \u001b[39m=\u001b[39m copy\u001b[39m.\u001b[39mdeepcopy(cause\u001b[39m.\u001b[39m\u001b[39m__dict__\u001b[39m)\n\u001b[1;32m--> 793\u001b[0m     _raise(ex, cause)\n\u001b[0;32m    795\u001b[0m object_type: Optional[Type[Any]]\n\u001b[0;32m    796\u001b[0m object_type_str: Optional[\u001b[39mstr\u001b[39m] \u001b[39m=\u001b[39m \u001b[39mNone\u001b[39;00m\n",
      "File \u001b[1;32mc:\\Users\\rsokl\\miniconda3\\envs\\hydra-zen\\lib\\site-packages\\omegaconf\\_utils.py:771\u001b[0m, in \u001b[0;36m_raise\u001b[1;34m(ex, cause)\u001b[0m\n\u001b[0;32m    769\u001b[0m \u001b[39melse\u001b[39;00m:\n\u001b[0;32m    770\u001b[0m     ex\u001b[39m.\u001b[39m__cause__ \u001b[39m=\u001b[39m \u001b[39mNone\u001b[39;00m\n\u001b[1;32m--> 771\u001b[0m \u001b[39mraise\u001b[39;00m ex\u001b[39m.\u001b[39mwith_traceback(sys\u001b[39m.\u001b[39mexc_info()[\u001b[39m2\u001b[39m])\n",
      "File \u001b[1;32mc:\\Users\\rsokl\\miniconda3\\envs\\hydra-zen\\lib\\site-packages\\omegaconf\\omegaconf.py:843\u001b[0m, in \u001b[0;36mOmegaConf._create_impl\u001b[1;34m(obj, parent, flags)\u001b[0m\n\u001b[0;32m    841\u001b[0m         obj_type \u001b[39m=\u001b[39m OmegaConf\u001b[39m.\u001b[39mget_type(obj)\n\u001b[0;32m    842\u001b[0m         key_type, element_type \u001b[39m=\u001b[39m get_dict_key_value_types(obj_type)\n\u001b[1;32m--> 843\u001b[0m         \u001b[39mreturn\u001b[39;00m DictConfig(\n\u001b[0;32m    844\u001b[0m             content\u001b[39m=\u001b[39;49mobj,\n\u001b[0;32m    845\u001b[0m             parent\u001b[39m=\u001b[39;49mparent,\n\u001b[0;32m    846\u001b[0m             key_type\u001b[39m=\u001b[39;49mkey_type,\n\u001b[0;32m    847\u001b[0m             element_type\u001b[39m=\u001b[39;49melement_type,\n\u001b[0;32m    848\u001b[0m             flags\u001b[39m=\u001b[39;49mflags,\n\u001b[0;32m    849\u001b[0m         )\n\u001b[0;32m    850\u001b[0m \u001b[39melif\u001b[39;00m is_primitive_list(obj) \u001b[39mor\u001b[39;00m OmegaConf\u001b[39m.\u001b[39mis_list(obj):\n\u001b[0;32m    851\u001b[0m     \u001b[39mif\u001b[39;00m \u001b[39misinstance\u001b[39m(obj, ListConfig):\n",
      "File \u001b[1;32mc:\\Users\\rsokl\\miniconda3\\envs\\hydra-zen\\lib\\site-packages\\omegaconf\\dictconfig.py:111\u001b[0m, in \u001b[0;36mDictConfig.__init__\u001b[1;34m(self, content, key, parent, ref_type, key_type, element_type, is_optional, flags)\u001b[0m\n\u001b[0;32m    109\u001b[0m         \u001b[39mself\u001b[39m\u001b[39m.\u001b[39m_set_value(content, flags\u001b[39m=\u001b[39mflags)\n\u001b[0;32m    110\u001b[0m \u001b[39mexcept\u001b[39;00m \u001b[39mException\u001b[39;00m \u001b[39mas\u001b[39;00m ex:\n\u001b[1;32m--> 111\u001b[0m     format_and_raise(node\u001b[39m=\u001b[39;49m\u001b[39mNone\u001b[39;49;00m, key\u001b[39m=\u001b[39;49mkey, value\u001b[39m=\u001b[39;49m\u001b[39mNone\u001b[39;49;00m, cause\u001b[39m=\u001b[39;49mex, msg\u001b[39m=\u001b[39;49m\u001b[39mstr\u001b[39;49m(ex))\n",
      "File \u001b[1;32mc:\\Users\\rsokl\\miniconda3\\envs\\hydra-zen\\lib\\site-packages\\omegaconf\\_utils.py:793\u001b[0m, in \u001b[0;36mformat_and_raise\u001b[1;34m(node, key, value, msg, cause, type_override)\u001b[0m\n\u001b[0;32m    791\u001b[0m         ex \u001b[39m=\u001b[39m type_override(\u001b[39mstr\u001b[39m(cause))\n\u001b[0;32m    792\u001b[0m         ex\u001b[39m.\u001b[39m\u001b[39m__dict__\u001b[39m \u001b[39m=\u001b[39m copy\u001b[39m.\u001b[39mdeepcopy(cause\u001b[39m.\u001b[39m\u001b[39m__dict__\u001b[39m)\n\u001b[1;32m--> 793\u001b[0m     _raise(ex, cause)\n\u001b[0;32m    795\u001b[0m object_type: Optional[Type[Any]]\n\u001b[0;32m    796\u001b[0m object_type_str: Optional[\u001b[39mstr\u001b[39m] \u001b[39m=\u001b[39m \u001b[39mNone\u001b[39;00m\n",
      "File \u001b[1;32mc:\\Users\\rsokl\\miniconda3\\envs\\hydra-zen\\lib\\site-packages\\omegaconf\\_utils.py:771\u001b[0m, in \u001b[0;36m_raise\u001b[1;34m(ex, cause)\u001b[0m\n\u001b[0;32m    769\u001b[0m \u001b[39melse\u001b[39;00m:\n\u001b[0;32m    770\u001b[0m     ex\u001b[39m.\u001b[39m__cause__ \u001b[39m=\u001b[39m \u001b[39mNone\u001b[39;00m\n\u001b[1;32m--> 771\u001b[0m \u001b[39mraise\u001b[39;00m ex\u001b[39m.\u001b[39mwith_traceback(sys\u001b[39m.\u001b[39mexc_info()[\u001b[39m2\u001b[39m])\n",
      "File \u001b[1;32mc:\\Users\\rsokl\\miniconda3\\envs\\hydra-zen\\lib\\site-packages\\omegaconf\\dictconfig.py:94\u001b[0m, in \u001b[0;36mDictConfig.__init__\u001b[1;34m(self, content, key, parent, ref_type, key_type, element_type, is_optional, flags)\u001b[0m\n\u001b[0;32m     91\u001b[0m     \u001b[39mraise\u001b[39;00m KeyValidationError(\u001b[39mf\u001b[39m\u001b[39m\"\u001b[39m\u001b[39mUnsupported key type \u001b[39m\u001b[39m{\u001b[39;00mkey_type\u001b[39m}\u001b[39;00m\u001b[39m\"\u001b[39m)\n\u001b[0;32m     93\u001b[0m \u001b[39mif\u001b[39;00m is_structured_config(content) \u001b[39mor\u001b[39;00m is_structured_config(ref_type):\n\u001b[1;32m---> 94\u001b[0m     \u001b[39mself\u001b[39;49m\u001b[39m.\u001b[39;49m_set_value(content, flags\u001b[39m=\u001b[39;49mflags)\n\u001b[0;32m     95\u001b[0m     \u001b[39mif\u001b[39;00m is_structured_config_frozen(content) \u001b[39mor\u001b[39;00m is_structured_config_frozen(\n\u001b[0;32m     96\u001b[0m         ref_type\n\u001b[0;32m     97\u001b[0m     ):\n\u001b[0;32m     98\u001b[0m         \u001b[39mself\u001b[39m\u001b[39m.\u001b[39m_set_flag(\u001b[39m\"\u001b[39m\u001b[39mreadonly\u001b[39m\u001b[39m\"\u001b[39m, \u001b[39mTrue\u001b[39;00m)\n",
      "File \u001b[1;32mc:\\Users\\rsokl\\miniconda3\\envs\\hydra-zen\\lib\\site-packages\\omegaconf\\dictconfig.py:649\u001b[0m, in \u001b[0;36mDictConfig._set_value\u001b[1;34m(self, value, flags)\u001b[0m\n\u001b[0;32m    647\u001b[0m \u001b[39mexcept\u001b[39;00m \u001b[39mException\u001b[39;00m \u001b[39mas\u001b[39;00m e:\n\u001b[0;32m    648\u001b[0m     \u001b[39mself\u001b[39m\u001b[39m.\u001b[39m\u001b[39m__dict__\u001b[39m[\u001b[39m\"\u001b[39m\u001b[39m_content\u001b[39m\u001b[39m\"\u001b[39m] \u001b[39m=\u001b[39m previous_content\n\u001b[1;32m--> 649\u001b[0m     \u001b[39mraise\u001b[39;00m e\n",
      "File \u001b[1;32mc:\\Users\\rsokl\\miniconda3\\envs\\hydra-zen\\lib\\site-packages\\omegaconf\\dictconfig.py:646\u001b[0m, in \u001b[0;36mDictConfig._set_value\u001b[1;34m(self, value, flags)\u001b[0m\n\u001b[0;32m    644\u001b[0m \u001b[39mtry\u001b[39;00m:\n\u001b[0;32m    645\u001b[0m     previous_content \u001b[39m=\u001b[39m \u001b[39mself\u001b[39m\u001b[39m.\u001b[39m\u001b[39m__dict__\u001b[39m[\u001b[39m\"\u001b[39m\u001b[39m_content\u001b[39m\u001b[39m\"\u001b[39m]\n\u001b[1;32m--> 646\u001b[0m     \u001b[39mself\u001b[39;49m\u001b[39m.\u001b[39;49m_set_value_impl(value, flags)\n\u001b[0;32m    647\u001b[0m \u001b[39mexcept\u001b[39;00m \u001b[39mException\u001b[39;00m \u001b[39mas\u001b[39;00m e:\n\u001b[0;32m    648\u001b[0m     \u001b[39mself\u001b[39m\u001b[39m.\u001b[39m\u001b[39m__dict__\u001b[39m[\u001b[39m\"\u001b[39m\u001b[39m_content\u001b[39m\u001b[39m\"\u001b[39m] \u001b[39m=\u001b[39m previous_content\n",
      "File \u001b[1;32mc:\\Users\\rsokl\\miniconda3\\envs\\hydra-zen\\lib\\site-packages\\omegaconf\\dictconfig.py:676\u001b[0m, in \u001b[0;36mDictConfig._set_value_impl\u001b[1;34m(self, value, flags)\u001b[0m\n\u001b[0;32m    674\u001b[0m \u001b[39mself\u001b[39m\u001b[39m.\u001b[39m_metadata\u001b[39m.\u001b[39mobject_type \u001b[39m=\u001b[39m \u001b[39mNone\u001b[39;00m\n\u001b[0;32m    675\u001b[0m ao \u001b[39m=\u001b[39m \u001b[39mself\u001b[39m\u001b[39m.\u001b[39m_get_flag(\u001b[39m\"\u001b[39m\u001b[39mallow_objects\u001b[39m\u001b[39m\"\u001b[39m)\n\u001b[1;32m--> 676\u001b[0m data \u001b[39m=\u001b[39m get_structured_config_data(value, allow_objects\u001b[39m=\u001b[39;49mao)\n\u001b[0;32m    677\u001b[0m \u001b[39mwith\u001b[39;00m flag_override(\u001b[39mself\u001b[39m, [\u001b[39m\"\u001b[39m\u001b[39mstruct\u001b[39m\u001b[39m\"\u001b[39m, \u001b[39m\"\u001b[39m\u001b[39mreadonly\u001b[39m\u001b[39m\"\u001b[39m], \u001b[39mFalse\u001b[39;00m):\n\u001b[0;32m    678\u001b[0m     \u001b[39mfor\u001b[39;00m k, v \u001b[39min\u001b[39;00m data\u001b[39m.\u001b[39mitems():\n",
      "File \u001b[1;32mc:\\Users\\rsokl\\miniconda3\\envs\\hydra-zen\\lib\\site-packages\\omegaconf\\_utils.py:481\u001b[0m, in \u001b[0;36mget_structured_config_data\u001b[1;34m(obj, allow_objects)\u001b[0m\n\u001b[0;32m    477\u001b[0m \u001b[39mdef\u001b[39;00m \u001b[39mget_structured_config_data\u001b[39m(\n\u001b[0;32m    478\u001b[0m     obj: Any, allow_objects: Optional[\u001b[39mbool\u001b[39m] \u001b[39m=\u001b[39m \u001b[39mNone\u001b[39;00m\n\u001b[0;32m    479\u001b[0m ) \u001b[39m-\u001b[39m\u001b[39m>\u001b[39m Dict[\u001b[39mstr\u001b[39m, Any]:\n\u001b[0;32m    480\u001b[0m     \u001b[39mif\u001b[39;00m is_dataclass(obj):\n\u001b[1;32m--> 481\u001b[0m         \u001b[39mreturn\u001b[39;00m get_dataclass_data(obj, allow_objects\u001b[39m=\u001b[39;49mallow_objects)\n\u001b[0;32m    482\u001b[0m     \u001b[39melif\u001b[39;00m is_attr_class(obj):\n\u001b[0;32m    483\u001b[0m         \u001b[39mreturn\u001b[39;00m get_attr_data(obj, allow_objects\u001b[39m=\u001b[39mallow_objects)\n",
      "File \u001b[1;32mc:\\Users\\rsokl\\miniconda3\\envs\\hydra-zen\\lib\\site-packages\\omegaconf\\_utils.py:409\u001b[0m, in \u001b[0;36mget_dataclass_data\u001b[1;34m(obj, allow_objects)\u001b[0m\n\u001b[0;32m    401\u001b[0m         d[name] \u001b[39m=\u001b[39m _maybe_wrap(\n\u001b[0;32m    402\u001b[0m             ref_type\u001b[39m=\u001b[39mtype_,\n\u001b[0;32m    403\u001b[0m             is_optional\u001b[39m=\u001b[39mis_optional,\n\u001b[1;32m   (...)\u001b[0m\n\u001b[0;32m    406\u001b[0m             parent\u001b[39m=\u001b[39mdummy_parent,\n\u001b[0;32m    407\u001b[0m         )\n\u001b[0;32m    408\u001b[0m     \u001b[39mexcept\u001b[39;00m (ValidationError, GrammarParseError) \u001b[39mas\u001b[39;00m ex:\n\u001b[1;32m--> 409\u001b[0m         format_and_raise(\n\u001b[0;32m    410\u001b[0m             node\u001b[39m=\u001b[39;49mdummy_parent, key\u001b[39m=\u001b[39;49mname, value\u001b[39m=\u001b[39;49mvalue, cause\u001b[39m=\u001b[39;49mex, msg\u001b[39m=\u001b[39;49m\u001b[39mstr\u001b[39;49m(ex)\n\u001b[0;32m    411\u001b[0m         )\n\u001b[0;32m    412\u001b[0m     d[name]\u001b[39m.\u001b[39m_set_parent(\u001b[39mNone\u001b[39;00m)\n\u001b[0;32m    413\u001b[0m dict_subclass_data \u001b[39m=\u001b[39m extract_dict_subclass_data(obj\u001b[39m=\u001b[39mobj, parent\u001b[39m=\u001b[39mdummy_parent)\n",
      "File \u001b[1;32mc:\\Users\\rsokl\\miniconda3\\envs\\hydra-zen\\lib\\site-packages\\omegaconf\\_utils.py:793\u001b[0m, in \u001b[0;36mformat_and_raise\u001b[1;34m(node, key, value, msg, cause, type_override)\u001b[0m\n\u001b[0;32m    791\u001b[0m         ex \u001b[39m=\u001b[39m type_override(\u001b[39mstr\u001b[39m(cause))\n\u001b[0;32m    792\u001b[0m         ex\u001b[39m.\u001b[39m\u001b[39m__dict__\u001b[39m \u001b[39m=\u001b[39m copy\u001b[39m.\u001b[39mdeepcopy(cause\u001b[39m.\u001b[39m\u001b[39m__dict__\u001b[39m)\n\u001b[1;32m--> 793\u001b[0m     _raise(ex, cause)\n\u001b[0;32m    795\u001b[0m object_type: Optional[Type[Any]]\n\u001b[0;32m    796\u001b[0m object_type_str: Optional[\u001b[39mstr\u001b[39m] \u001b[39m=\u001b[39m \u001b[39mNone\u001b[39;00m\n",
      "File \u001b[1;32mc:\\Users\\rsokl\\miniconda3\\envs\\hydra-zen\\lib\\site-packages\\omegaconf\\_utils.py:771\u001b[0m, in \u001b[0;36m_raise\u001b[1;34m(ex, cause)\u001b[0m\n\u001b[0;32m    769\u001b[0m \u001b[39melse\u001b[39;00m:\n\u001b[0;32m    770\u001b[0m     ex\u001b[39m.\u001b[39m__cause__ \u001b[39m=\u001b[39m \u001b[39mNone\u001b[39;00m\n\u001b[1;32m--> 771\u001b[0m \u001b[39mraise\u001b[39;00m ex\u001b[39m.\u001b[39mwith_traceback(sys\u001b[39m.\u001b[39mexc_info()[\u001b[39m2\u001b[39m])\n",
      "File \u001b[1;32mc:\\Users\\rsokl\\miniconda3\\envs\\hydra-zen\\lib\\site-packages\\omegaconf\\_utils.py:401\u001b[0m, in \u001b[0;36mget_dataclass_data\u001b[1;34m(obj, allow_objects)\u001b[0m\n\u001b[0;32m    399\u001b[0m     format_and_raise(node\u001b[39m=\u001b[39m\u001b[39mNone\u001b[39;00m, key\u001b[39m=\u001b[39m\u001b[39mNone\u001b[39;00m, value\u001b[39m=\u001b[39mvalue, cause\u001b[39m=\u001b[39me, msg\u001b[39m=\u001b[39m\u001b[39mstr\u001b[39m(e))\n\u001b[0;32m    400\u001b[0m \u001b[39mtry\u001b[39;00m:\n\u001b[1;32m--> 401\u001b[0m     d[name] \u001b[39m=\u001b[39m _maybe_wrap(\n\u001b[0;32m    402\u001b[0m         ref_type\u001b[39m=\u001b[39;49mtype_,\n\u001b[0;32m    403\u001b[0m         is_optional\u001b[39m=\u001b[39;49mis_optional,\n\u001b[0;32m    404\u001b[0m         key\u001b[39m=\u001b[39;49mname,\n\u001b[0;32m    405\u001b[0m         value\u001b[39m=\u001b[39;49mvalue,\n\u001b[0;32m    406\u001b[0m         parent\u001b[39m=\u001b[39;49mdummy_parent,\n\u001b[0;32m    407\u001b[0m     )\n\u001b[0;32m    408\u001b[0m \u001b[39mexcept\u001b[39;00m (ValidationError, GrammarParseError) \u001b[39mas\u001b[39;00m ex:\n\u001b[0;32m    409\u001b[0m     format_and_raise(\n\u001b[0;32m    410\u001b[0m         node\u001b[39m=\u001b[39mdummy_parent, key\u001b[39m=\u001b[39mname, value\u001b[39m=\u001b[39mvalue, cause\u001b[39m=\u001b[39mex, msg\u001b[39m=\u001b[39m\u001b[39mstr\u001b[39m(ex)\n\u001b[0;32m    411\u001b[0m     )\n",
      "File \u001b[1;32mc:\\Users\\rsokl\\miniconda3\\envs\\hydra-zen\\lib\\site-packages\\omegaconf\\omegaconf.py:1070\u001b[0m, in \u001b[0;36m_maybe_wrap\u001b[1;34m(ref_type, key, value, is_optional, parent)\u001b[0m\n\u001b[0;32m   1068\u001b[0m     \u001b[39mreturn\u001b[39;00m value\n\u001b[0;32m   1069\u001b[0m \u001b[39melse\u001b[39;00m:\n\u001b[1;32m-> 1070\u001b[0m     \u001b[39mreturn\u001b[39;00m _node_wrap(\n\u001b[0;32m   1071\u001b[0m         ref_type\u001b[39m=\u001b[39;49mref_type,\n\u001b[0;32m   1072\u001b[0m         parent\u001b[39m=\u001b[39;49mparent,\n\u001b[0;32m   1073\u001b[0m         is_optional\u001b[39m=\u001b[39;49mis_optional,\n\u001b[0;32m   1074\u001b[0m         value\u001b[39m=\u001b[39;49mvalue,\n\u001b[0;32m   1075\u001b[0m         key\u001b[39m=\u001b[39;49mkey,\n\u001b[0;32m   1076\u001b[0m     )\n",
      "File \u001b[1;32mc:\\Users\\rsokl\\miniconda3\\envs\\hydra-zen\\lib\\site-packages\\omegaconf\\omegaconf.py:1009\u001b[0m, in \u001b[0;36m_node_wrap\u001b[1;34m(parent, is_optional, value, key, ref_type)\u001b[0m\n\u001b[0;32m   1007\u001b[0m \u001b[39melif\u001b[39;00m is_structured_config(ref_type) \u001b[39mor\u001b[39;00m is_structured_config(value):\n\u001b[0;32m   1008\u001b[0m     key_type, element_type \u001b[39m=\u001b[39m get_dict_key_value_types(value)\n\u001b[1;32m-> 1009\u001b[0m     node \u001b[39m=\u001b[39m DictConfig(\n\u001b[0;32m   1010\u001b[0m         ref_type\u001b[39m=\u001b[39;49mref_type,\n\u001b[0;32m   1011\u001b[0m         is_optional\u001b[39m=\u001b[39;49mis_optional,\n\u001b[0;32m   1012\u001b[0m         content\u001b[39m=\u001b[39;49mvalue,\n\u001b[0;32m   1013\u001b[0m         key\u001b[39m=\u001b[39;49mkey,\n\u001b[0;32m   1014\u001b[0m         parent\u001b[39m=\u001b[39;49mparent,\n\u001b[0;32m   1015\u001b[0m         key_type\u001b[39m=\u001b[39;49mkey_type,\n\u001b[0;32m   1016\u001b[0m         element_type\u001b[39m=\u001b[39;49melement_type,\n\u001b[0;32m   1017\u001b[0m     )\n\u001b[0;32m   1018\u001b[0m \u001b[39melif\u001b[39;00m is_union_annotation(ref_type):\n\u001b[0;32m   1019\u001b[0m     node \u001b[39m=\u001b[39m UnionNode(\n\u001b[0;32m   1020\u001b[0m         content\u001b[39m=\u001b[39mvalue,\n\u001b[0;32m   1021\u001b[0m         ref_type\u001b[39m=\u001b[39mref_type,\n\u001b[1;32m   (...)\u001b[0m\n\u001b[0;32m   1024\u001b[0m         parent\u001b[39m=\u001b[39mparent,\n\u001b[0;32m   1025\u001b[0m     )\n",
      "File \u001b[1;32mc:\\Users\\rsokl\\miniconda3\\envs\\hydra-zen\\lib\\site-packages\\omegaconf\\dictconfig.py:111\u001b[0m, in \u001b[0;36mDictConfig.__init__\u001b[1;34m(self, content, key, parent, ref_type, key_type, element_type, is_optional, flags)\u001b[0m\n\u001b[0;32m    109\u001b[0m         \u001b[39mself\u001b[39m\u001b[39m.\u001b[39m_set_value(content, flags\u001b[39m=\u001b[39mflags)\n\u001b[0;32m    110\u001b[0m \u001b[39mexcept\u001b[39;00m \u001b[39mException\u001b[39;00m \u001b[39mas\u001b[39;00m ex:\n\u001b[1;32m--> 111\u001b[0m     format_and_raise(node\u001b[39m=\u001b[39;49m\u001b[39mNone\u001b[39;49;00m, key\u001b[39m=\u001b[39;49mkey, value\u001b[39m=\u001b[39;49m\u001b[39mNone\u001b[39;49;00m, cause\u001b[39m=\u001b[39;49mex, msg\u001b[39m=\u001b[39;49m\u001b[39mstr\u001b[39;49m(ex))\n",
      "File \u001b[1;32mc:\\Users\\rsokl\\miniconda3\\envs\\hydra-zen\\lib\\site-packages\\omegaconf\\_utils.py:873\u001b[0m, in \u001b[0;36mformat_and_raise\u001b[1;34m(node, key, value, msg, cause, type_override)\u001b[0m\n\u001b[0;32m    870\u001b[0m     ex\u001b[39m.\u001b[39mref_type \u001b[39m=\u001b[39m ref_type\n\u001b[0;32m    871\u001b[0m     ex\u001b[39m.\u001b[39mref_type_str \u001b[39m=\u001b[39m ref_type_str\n\u001b[1;32m--> 873\u001b[0m _raise(ex, cause)\n",
      "File \u001b[1;32mc:\\Users\\rsokl\\miniconda3\\envs\\hydra-zen\\lib\\site-packages\\omegaconf\\_utils.py:771\u001b[0m, in \u001b[0;36m_raise\u001b[1;34m(ex, cause)\u001b[0m\n\u001b[0;32m    769\u001b[0m \u001b[39melse\u001b[39;00m:\n\u001b[0;32m    770\u001b[0m     ex\u001b[39m.\u001b[39m__cause__ \u001b[39m=\u001b[39m \u001b[39mNone\u001b[39;00m\n\u001b[1;32m--> 771\u001b[0m \u001b[39mraise\u001b[39;00m ex\u001b[39m.\u001b[39mwith_traceback(sys\u001b[39m.\u001b[39mexc_info()[\u001b[39m2\u001b[39m])\n",
      "File \u001b[1;32mc:\\Users\\rsokl\\miniconda3\\envs\\hydra-zen\\lib\\site-packages\\omegaconf\\dictconfig.py:94\u001b[0m, in \u001b[0;36mDictConfig.__init__\u001b[1;34m(self, content, key, parent, ref_type, key_type, element_type, is_optional, flags)\u001b[0m\n\u001b[0;32m     91\u001b[0m     \u001b[39mraise\u001b[39;00m KeyValidationError(\u001b[39mf\u001b[39m\u001b[39m\"\u001b[39m\u001b[39mUnsupported key type \u001b[39m\u001b[39m{\u001b[39;00mkey_type\u001b[39m}\u001b[39;00m\u001b[39m\"\u001b[39m)\n\u001b[0;32m     93\u001b[0m \u001b[39mif\u001b[39;00m is_structured_config(content) \u001b[39mor\u001b[39;00m is_structured_config(ref_type):\n\u001b[1;32m---> 94\u001b[0m     \u001b[39mself\u001b[39;49m\u001b[39m.\u001b[39;49m_set_value(content, flags\u001b[39m=\u001b[39;49mflags)\n\u001b[0;32m     95\u001b[0m     \u001b[39mif\u001b[39;00m is_structured_config_frozen(content) \u001b[39mor\u001b[39;00m is_structured_config_frozen(\n\u001b[0;32m     96\u001b[0m         ref_type\n\u001b[0;32m     97\u001b[0m     ):\n\u001b[0;32m     98\u001b[0m         \u001b[39mself\u001b[39m\u001b[39m.\u001b[39m_set_flag(\u001b[39m\"\u001b[39m\u001b[39mreadonly\u001b[39m\u001b[39m\"\u001b[39m, \u001b[39mTrue\u001b[39;00m)\n",
      "File \u001b[1;32mc:\\Users\\rsokl\\miniconda3\\envs\\hydra-zen\\lib\\site-packages\\omegaconf\\dictconfig.py:649\u001b[0m, in \u001b[0;36mDictConfig._set_value\u001b[1;34m(self, value, flags)\u001b[0m\n\u001b[0;32m    647\u001b[0m \u001b[39mexcept\u001b[39;00m \u001b[39mException\u001b[39;00m \u001b[39mas\u001b[39;00m e:\n\u001b[0;32m    648\u001b[0m     \u001b[39mself\u001b[39m\u001b[39m.\u001b[39m\u001b[39m__dict__\u001b[39m[\u001b[39m\"\u001b[39m\u001b[39m_content\u001b[39m\u001b[39m\"\u001b[39m] \u001b[39m=\u001b[39m previous_content\n\u001b[1;32m--> 649\u001b[0m     \u001b[39mraise\u001b[39;00m e\n",
      "File \u001b[1;32mc:\\Users\\rsokl\\miniconda3\\envs\\hydra-zen\\lib\\site-packages\\omegaconf\\dictconfig.py:646\u001b[0m, in \u001b[0;36mDictConfig._set_value\u001b[1;34m(self, value, flags)\u001b[0m\n\u001b[0;32m    644\u001b[0m \u001b[39mtry\u001b[39;00m:\n\u001b[0;32m    645\u001b[0m     previous_content \u001b[39m=\u001b[39m \u001b[39mself\u001b[39m\u001b[39m.\u001b[39m\u001b[39m__dict__\u001b[39m[\u001b[39m\"\u001b[39m\u001b[39m_content\u001b[39m\u001b[39m\"\u001b[39m]\n\u001b[1;32m--> 646\u001b[0m     \u001b[39mself\u001b[39;49m\u001b[39m.\u001b[39;49m_set_value_impl(value, flags)\n\u001b[0;32m    647\u001b[0m \u001b[39mexcept\u001b[39;00m \u001b[39mException\u001b[39;00m \u001b[39mas\u001b[39;00m e:\n\u001b[0;32m    648\u001b[0m     \u001b[39mself\u001b[39m\u001b[39m.\u001b[39m\u001b[39m__dict__\u001b[39m[\u001b[39m\"\u001b[39m\u001b[39m_content\u001b[39m\u001b[39m\"\u001b[39m] \u001b[39m=\u001b[39m previous_content\n",
      "File \u001b[1;32mc:\\Users\\rsokl\\miniconda3\\envs\\hydra-zen\\lib\\site-packages\\omegaconf\\dictconfig.py:660\u001b[0m, in \u001b[0;36mDictConfig._set_value_impl\u001b[1;34m(self, value, flags)\u001b[0m\n\u001b[0;32m    657\u001b[0m     flags \u001b[39m=\u001b[39m {}\n\u001b[0;32m    659\u001b[0m \u001b[39massert\u001b[39;00m \u001b[39mnot\u001b[39;00m \u001b[39misinstance\u001b[39m(value, ValueNode)\n\u001b[1;32m--> 660\u001b[0m \u001b[39mself\u001b[39;49m\u001b[39m.\u001b[39;49m_validate_set(key\u001b[39m=\u001b[39;49m\u001b[39mNone\u001b[39;49;00m, value\u001b[39m=\u001b[39;49mvalue)\n\u001b[0;32m    662\u001b[0m \u001b[39mif\u001b[39;00m _is_none(value, resolve\u001b[39m=\u001b[39m\u001b[39mTrue\u001b[39;00m):\n\u001b[0;32m    663\u001b[0m     \u001b[39mself\u001b[39m\u001b[39m.\u001b[39m\u001b[39m__dict__\u001b[39m[\u001b[39m\"\u001b[39m\u001b[39m_content\u001b[39m\u001b[39m\"\u001b[39m] \u001b[39m=\u001b[39m \u001b[39mNone\u001b[39;00m\n",
      "File \u001b[1;32mc:\\Users\\rsokl\\miniconda3\\envs\\hydra-zen\\lib\\site-packages\\omegaconf\\dictconfig.py:209\u001b[0m, in \u001b[0;36mDictConfig._validate_set\u001b[1;34m(self, key, value)\u001b[0m\n\u001b[0;32m    203\u001b[0m validation_error \u001b[39m=\u001b[39m (\n\u001b[0;32m    204\u001b[0m     target_type \u001b[39mis\u001b[39;00m \u001b[39mnot\u001b[39;00m \u001b[39mNone\u001b[39;00m\n\u001b[0;32m    205\u001b[0m     \u001b[39mand\u001b[39;00m value_type \u001b[39mis\u001b[39;00m \u001b[39mnot\u001b[39;00m \u001b[39mNone\u001b[39;00m\n\u001b[0;32m    206\u001b[0m     \u001b[39mand\u001b[39;00m \u001b[39mnot\u001b[39;00m \u001b[39missubclass\u001b[39m(value_type, target_type)\n\u001b[0;32m    207\u001b[0m )\n\u001b[0;32m    208\u001b[0m \u001b[39mif\u001b[39;00m validation_error:\n\u001b[1;32m--> 209\u001b[0m     \u001b[39mself\u001b[39;49m\u001b[39m.\u001b[39;49m_raise_invalid_value(value, value_type, target_type)\n",
      "File \u001b[1;32mc:\\Users\\rsokl\\miniconda3\\envs\\hydra-zen\\lib\\site-packages\\omegaconf\\dictconfig.py:274\u001b[0m, in \u001b[0;36mDictConfig._raise_invalid_value\u001b[1;34m(self, value, value_type, target_type)\u001b[0m\n\u001b[0;32m    269\u001b[0m \u001b[39massert\u001b[39;00m target_type \u001b[39mis\u001b[39;00m \u001b[39mnot\u001b[39;00m \u001b[39mNone\u001b[39;00m\n\u001b[0;32m    270\u001b[0m msg \u001b[39m=\u001b[39m (\n\u001b[0;32m    271\u001b[0m     \u001b[39mf\u001b[39m\u001b[39m\"\u001b[39m\u001b[39mInvalid type assigned: \u001b[39m\u001b[39m{\u001b[39;00mtype_str(value_type)\u001b[39m}\u001b[39;00m\u001b[39m is not a \u001b[39m\u001b[39m\"\u001b[39m\n\u001b[0;32m    272\u001b[0m     \u001b[39mf\u001b[39m\u001b[39m\"\u001b[39m\u001b[39msubclass of \u001b[39m\u001b[39m{\u001b[39;00mtype_str(target_type)\u001b[39m}\u001b[39;00m\u001b[39m. value: \u001b[39m\u001b[39m{\u001b[39;00mvalue\u001b[39m}\u001b[39;00m\u001b[39m\"\u001b[39m\n\u001b[0;32m    273\u001b[0m )\n\u001b[1;32m--> 274\u001b[0m \u001b[39mraise\u001b[39;00m ValidationError(msg)\n",
      "\u001b[1;31mValidationError\u001b[0m: Invalid type assigned: Builds_Nested is not a subclass of Nested. value: Builds_Nested(_target_='__main__.Nested', _convert_='all', x=<class 'types.Just_baz'>)\n    full_key: field3\n    object_type=None"
     ]
    }
   ],
   "source": [
    "def recursive_just(obj):\n",
    "    if is_dataclass(obj) and not isinstance(obj, type):\n",
    "        # obj is a dataclass instance\n",
    "        converted_fields = {}\n",
    "        for field in fields(obj):\n",
    "            if field.init:\n",
    "                value = getattr(obj, field.name)\n",
    "                converted_fields[field.name] = recursive_just(value)\n",
    "        return builds(\n",
    "            type(obj),\n",
    "            populate_full_signature=True,\n",
    "            hydra_convert=\"all\"\n",
    "        )(**converted_fields)\n",
    "\n",
    "    else:\n",
    "        return just(obj)\n",
    "        \n",
    "instantiate(recursive_just(foobar))"
   ]
  },
  {
   "cell_type": "code",
   "execution_count": 6,
   "id": "dddae1ee",
   "metadata": {},
   "outputs": [
    {
     "data": {
      "text/plain": [
       "Stuff(field1=<function foo at 0x000002B9B719A1F0>, field2=<function bar at 0x000002B9B6F87A60>, field3=Nested(x=<function baz at 0x000002B9B6F87C10>))"
      ]
     },
     "execution_count": 6,
     "metadata": {},
     "output_type": "execute_result"
    }
   ],
   "source": [
    "instantiate(BuildsFooBar2)"
   ]
  },
  {
   "cell_type": "code",
   "execution_count": 7,
   "id": "6a74036d",
   "metadata": {},
   "outputs": [],
   "source": [
    "# Current behavior of `just` on dataclasses\n",
    "\n",
    "from hydra_zen import make_config\n",
    "\n",
    "Conf = make_config(x=1, y=\"hi\")\n",
    "conf = Conf()\n",
    "\n",
    "assert just(Conf) is Conf\n",
    "assert just(conf) is conf"
   ]
  },
  {
   "cell_type": "code",
   "execution_count": null,
   "id": "42bda668",
   "metadata": {},
   "outputs": [],
   "source": []
  },
  {
   "cell_type": "markdown",
   "id": "566321af",
   "metadata": {},
   "source": [
    "Thanks so much for taking the time to write this up, Jasha! I like `recursive_just` and feel like it fits in quite nicely with the current behavior of `just`.\n",
    "\n",
    "### A brief introduction to `just`\n",
    "For those who aren't familiar with `just`, I'll provide a brief introduction.\n",
    "\n",
    "The idea behind `just` is: you give it an object that is not natively supported by Hydra, and it will create a config that, when instantiated, \"just\" returns that object. Originally `just` was used to make it easy to create a config that simply imports an object upon instantiation:\n",
    "\n",
    "```python\n",
    "class A: ...\n",
    "\n",
    "instantiate(just(A)) is A\n",
    "\n",
    "print(to_yaml(just(A)))\n",
    "\n",
    "# prints..\n",
    "```\n",
    "\n",
    "```\n",
    "_target_: hydra_zen.funcs.get_obj\n",
    "path: __main__.A\n",
    "```\n",
    "\n",
    "But `just` has since become more general-purpose, and can create configs for values from [a wider variety of types](https://mit-ll-responsible-ai.github.io/hydra-zen/api_reference.html#additional-types-supported-via-hydra-zen).\n",
    "Let me summarize the current behaviors of `just` to demonstrate:\n"
   ]
  },
  {
   "cell_type": "code",
   "execution_count": 8,
   "id": "0cf125e7",
   "metadata": {},
   "outputs": [],
   "source": [
    "# basic `just` behavior\n",
    "\n",
    "\n",
    "# `just` returns Hydra-compatible primitives unchanged. \n",
    "# This includes *all* dataclass objects & instances. That is, `just` does not perform\n",
    "# any compatibility checks on config-like inputs \n",
    "assert just(1) == 1\n",
    "\n",
    "assert is_dataclass(foobar)\n",
    "assert just(foobar) is foobar  # note: foobar is not compatible with Hydra\n",
    "\n",
    "assert just([1, 2]) == [1, 2]"
   ]
  },
  {
   "cell_type": "code",
   "execution_count": 9,
   "id": "fd123992",
   "metadata": {},
   "outputs": [],
   "source": [
    "from hydra_zen import to_yaml"
   ]
  },
  {
   "cell_type": "code",
   "execution_count": 10,
   "id": "75a6b7d1",
   "metadata": {},
   "outputs": [],
   "source": [
    "# `just` creates `builds(get_obj, <target>)` when `<target>` is a function or (non-dataclass) class-object\n",
    "class A: ...\n",
    "\n",
    "def func(x): ...\n",
    "    \n",
    "assert instantiate(just(A)) is A\n",
    "assert instantiate(just(func)) is func"
   ]
  },
  {
   "cell_type": "code",
   "execution_count": 11,
   "id": "ad88a237",
   "metadata": {},
   "outputs": [],
   "source": [
    "# `just` uses `builds` to create targeted structured configs to describe data that\n",
    "# is not compatible with Hydra, but that has specialized support via hydra-zen\n",
    "#\n",
    "# See https://mit-ll-responsible-ai.github.io/hydra-zen/api_reference.html#additional-types-supported-via-hydra-zen\n",
    "\n",
    "# Support for complex numbers\n",
    "assert instantiate(just(1+2j)) == 1+2j\n",
    "\n",
    "# Support for partial'd functions\n",
    "from functools import partial\n",
    "\n",
    "partial_f = partial(func, x=2)\n",
    "just_partial_f = just(partial_f)\n",
    "\n",
    "assert OmegaConf.to_yaml(just_partial_f) == \"\"\"\\\n",
    "_target_: __main__.func\n",
    "_partial_: true\n",
    "x: 2\n",
    "\"\"\""
   ]
  },
  {
   "cell_type": "code",
   "execution_count": 12,
   "id": "edcbb7cb",
   "metadata": {},
   "outputs": [],
   "source": [
    "# `just` automatically applies itself recursively on lists and dictionary values\n",
    "\n",
    "just_recursive_example = just({\"a\": [1+2j, func]})\n",
    "assert str(just_recursive_example) == \"\\\n",
    "{'a': [ConfigComplex(real=1.0, imag=2.0, _target_='builtins.complex'), <class 'types.Just_func'>]}\"\n",
    "\n",
    "assert instantiate(just_recursive_example) == {\"a\": [1+2j, func]}"
   ]
  },
  {
   "cell_type": "markdown",
   "id": "b3537d44",
   "metadata": {},
   "source": [
    "Lastly, it is useful to note that hydra-zen's `builds` function automatically applies `just` on the target's configured values"
   ]
  },
  {
   "cell_type": "code",
   "execution_count": 13,
   "id": "7b688105",
   "metadata": {},
   "outputs": [],
   "source": [
    "# equivalent to: builds(tuple, [just(1+2j), just(func)])\n",
    "assert instantiate(builds(tuple, [1+2j, func])) == (1+2j, func)"
   ]
  },
  {
   "cell_type": "markdown",
   "id": "d27832e2",
   "metadata": {},
   "source": [
    "This includes fields that are populated from the function's signature via `builds(..., populate_full_signature=True)`."
   ]
  },
  {
   "cell_type": "code",
   "execution_count": 14,
   "id": "93f9b1f5",
   "metadata": {},
   "outputs": [],
   "source": [
    "def has_sig(x=[1+2j, func]): return x\n",
    "\n",
    "Conf = builds(has_sig, populate_full_signature=True)\n",
    "assert OmegaConf.to_yaml(Conf) == \"\"\"\\\n",
    "_target_: __main__.has_sig\n",
    "x:\n",
    "- real: 1.0\n",
    "  imag: 2.0\n",
    "  _target_: builtins.complex\n",
    "- _target_: hydra_zen.funcs.get_obj\n",
    "  path: __main__.func\n",
    "\"\"\"\n",
    "\n",
    "assert instantiate(Conf) == [(1+2j), func]"
   ]
  },
  {
   "cell_type": "markdown",
   "id": "26406865",
   "metadata": {},
   "source": [
    "### Incorporating `recursive_just`\n",
    "\n",
    "As noted above, `just` is currently a pass-through returns all dataclass types and instances. This is true even if the dataclass contains fields that are not compatible with Hydra. \n",
    "\n",
    "Given the "
   ]
  },
  {
   "cell_type": "code",
   "execution_count": 41,
   "id": "1bce7e1e",
   "metadata": {},
   "outputs": [],
   "source": [
    "from typing import Literal\n",
    "@dataclass\n",
    "class A:\n",
    "    x: Literal[1]"
   ]
  },
  {
   "cell_type": "code",
   "execution_count": 45,
   "id": "d0011073",
   "metadata": {},
   "outputs": [],
   "source": [
    "def recursive_just(obj):\n",
    "    if is_dataclass(obj) and not isinstance(obj, type):\n",
    "        # obj is a dataclass instance\n",
    "        converted_fields = {}\n",
    "        for field in fields(obj):\n",
    "            if field.init:\n",
    "                value = getattr(obj, field.name)\n",
    "                converted_fields[field.name] = recursive_just(value)\n",
    "        return builds(\n",
    "            type(obj),\n",
    "            populate_full_signature=True,\n",
    "            hydra_convert=\"all\"\n",
    "        )(**converted_fields)\n",
    "\n",
    "    else:\n",
    "        return just(obj)\n"
   ]
  },
  {
   "cell_type": "code",
   "execution_count": 46,
   "id": "c4f8af5e",
   "metadata": {},
   "outputs": [
    {
     "data": {
      "text/plain": [
       "True"
      ]
     },
     "execution_count": 46,
     "metadata": {},
     "output_type": "execute_result"
    }
   ],
   "source": [
    "instantiate(recursive_just(A(1))) == A(1)"
   ]
  },
  {
   "cell_type": "code",
   "execution_count": 37,
   "id": "0c32abc0",
   "metadata": {},
   "outputs": [],
   "source": [
    "from pydantic.dataclasses import dataclass"
   ]
  },
  {
   "cell_type": "code",
   "execution_count": 61,
   "id": "06a2a958",
   "metadata": {},
   "outputs": [],
   "source": [
    "@dataclass\n",
    "class A:\n",
    "    x: int"
   ]
  },
  {
   "cell_type": "code",
   "execution_count": 62,
   "id": "261e43ed",
   "metadata": {},
   "outputs": [
    {
     "data": {
      "text/plain": [
       "A(x=1)"
      ]
     },
     "execution_count": 62,
     "metadata": {},
     "output_type": "execute_result"
    }
   ],
   "source": [
    "A(1)"
   ]
  },
  {
   "cell_type": "code",
   "execution_count": 84,
   "id": "3a5e30fb",
   "metadata": {},
   "outputs": [],
   "source": [
    "import dataclasses\n",
    "from typing import List, Optional, Literal\n",
    "\n",
    "from pydantic import Field\n",
    "from pydantic.dataclasses import dataclass as pydantic_dataclass\n",
    "from pydantic import PositiveInt\n",
    "\n",
    "\n",
    "@pydantic_dataclass\n",
    "class User:\n",
    "    name: str\n",
    "    age: PositiveInt\n",
    "\n",
    "@pydantic_dataclass\n",
    "class Match:\n",
    "    user_a: User = User(name=\"Bob\", age=25)\n",
    "    user_b: User = User(name=\"Alice\", age=27)\n"
   ]
  },
  {
   "cell_type": "code",
   "execution_count": 113,
   "id": "227550bd",
   "metadata": {},
   "outputs": [
    {
     "data": {
      "text/plain": [
       "Match(user_a=User(name='bob', age=24), user_b=User(name='alice', age=26))"
      ]
     },
     "execution_count": 113,
     "metadata": {},
     "output_type": "execute_result"
    }
   ],
   "source": [
    "# def recursive_just(obj):\n",
    "#     if is_dataclass(obj) and not isinstance(obj, type):\n",
    "#         # obj is a dataclass instance\n",
    "#         converted_fields = {}\n",
    "#         for field in fields(obj):\n",
    "#             if field.init:\n",
    "#                 value = getattr(obj, field.name)\n",
    "#                 converted_fields[field.name] = recursive_just(value)\n",
    "#         return builds(\n",
    "#             type(obj),\n",
    "#             populate_full_signature=True,\n",
    "#             hydra_convert=\"all\"\n",
    "#         )(**converted_fields)\n",
    "\n",
    "#     else:\n",
    "#         return just(obj)\n",
    "\n",
    "\n",
    "\n",
    "def recursive_just(obj):\n",
    "    if is_dataclass(obj) and not isinstance(obj, type):\n",
    "        # obj is a dataclass instance\n",
    "        converted_fields = {}\n",
    "        for field in fields(obj):\n",
    "            value = getattr(obj, field.name)\n",
    "            converted_fields[field.name] = recursive_just(value)\n",
    "        return builds(type(obj), **converted_fields)\n",
    "\n",
    "    else:\n",
    "        return just(obj)\n",
    "\n",
    "conf = recursive_just(Match(User(\"bob\", 24), User(\"alice\", 26)))\n",
    "instantiate(conf)"
   ]
  },
  {
   "cell_type": "code",
   "execution_count": 94,
   "id": "7d8ae8b9",
   "metadata": {},
   "outputs": [],
   "source": [
    "#from pydantic.errors import ValidationError as PydValidationError\n",
    "from hydra.errors import InstantiationException\n",
    "conf = recursive_just((User(name=\"Bob\", age=20)))\n",
    "\n",
    "with raises(InstantiationException):  # raises \n",
    "    # Pydantic validation error: ensure this value is greater than 0\n",
    "    instantiate(conf, age=-10)  \n",
    "\n",
    "profile = instantiate(conf, age=11)\n",
    "assert isinstance(profile, User)\n",
    "assert profile == User(\"Bob\", 11)"
   ]
  },
  {
   "cell_type": "code",
   "execution_count": 81,
   "id": "11e801b6",
   "metadata": {},
   "outputs": [
    {
     "ename": "ValidationError",
     "evalue": "1 validation error for User\nage\n  ensure this value is greater than 0 (type=value_error.number.not_gt; limit_value=0)",
     "output_type": "error",
     "traceback": [
      "\u001b[1;31m---------------------------------------------------------------------------\u001b[0m",
      "\u001b[1;31mValidationError\u001b[0m                           Traceback (most recent call last)",
      "\u001b[1;32mc:\\Users\\rsokl\\hydra-zen\\scratch\\recursive_just.ipynb Cell 31\u001b[0m in \u001b[0;36m<cell line: 1>\u001b[1;34m()\u001b[0m\n\u001b[1;32m----> <a href='vscode-notebook-cell:/c%3A/Users/rsokl/hydra-zen/scratch/recursive_just.ipynb#Y105sZmlsZQ%3D%3D?line=0'>1</a>\u001b[0m conf \u001b[39m=\u001b[39m recursive_just(Match(User(\u001b[39m\"\u001b[39;49m\u001b[39mbob\u001b[39;49m\u001b[39m\"\u001b[39;49m, \u001b[39m-\u001b[39;49m\u001b[39m20\u001b[39;49m), User(\u001b[39m\"\u001b[39m\u001b[39malice\u001b[39m\u001b[39m\"\u001b[39m, \u001b[39m26\u001b[39m)))\n\u001b[0;32m      <a href='vscode-notebook-cell:/c%3A/Users/rsokl/hydra-zen/scratch/recursive_just.ipynb#Y105sZmlsZQ%3D%3D?line=1'>2</a>\u001b[0m instantiate(conf)\n",
      "File \u001b[1;32m<string>:5\u001b[0m, in \u001b[0;36m__init__\u001b[1;34m(self, name, age)\u001b[0m\n",
      "File \u001b[1;32mc:\\Users\\rsokl\\miniconda3\\envs\\hydra-zen\\lib\\site-packages\\pydantic\\dataclasses.py:100\u001b[0m, in \u001b[0;36mpydantic.dataclasses._generate_pydantic_post_init._pydantic_post_init\u001b[1;34m()\u001b[0m\n",
      "\u001b[1;31mValidationError\u001b[0m: 1 validation error for User\nage\n  ensure this value is greater than 0 (type=value_error.number.not_gt; limit_value=0)"
     ]
    }
   ],
   "source": [
    "conf = recursive_just(Match(User(\"bob\", -20), User(\"alice\", 26)))\n",
    "instantiate(conf)"
   ]
  },
  {
   "cell_type": "code",
   "execution_count": 39,
   "id": "0d7ef24a",
   "metadata": {},
   "outputs": [],
   "source": [
    "from hydra_zen import to_yaml\n",
    "def pretty_print(x): print(to_yaml(x))"
   ]
  },
  {
   "cell_type": "code",
   "execution_count": 40,
   "id": "1058add9",
   "metadata": {},
   "outputs": [
    {
     "ename": "HydraZenUnsupportedPrimitiveError",
     "evalue": "Building: User ..\n The configured value <factory>, for field `friends`, is not supported by Hydra -- serializing or instantiating this config would ultimately result in an error.\n\nConsider using `hydra_zen.builds(<class 'dataclasses._HAS_DEFAULT_FACTORY_CLASS'>, ...)` create a config for this particular value.",
     "output_type": "error",
     "traceback": [
      "\u001b[1;31m---------------------------------------------------------------------------\u001b[0m",
      "\u001b[1;31mHydraZenUnsupportedPrimitiveError\u001b[0m         Traceback (most recent call last)",
      "\u001b[1;32mc:\\Users\\rsokl\\hydra-zen\\scratch\\recursive_just.ipynb Cell 27\u001b[0m in \u001b[0;36m<cell line: 1>\u001b[1;34m()\u001b[0m\n\u001b[1;32m----> <a href='vscode-notebook-cell:/c%3A/Users/rsokl/hydra-zen/scratch/recursive_just.ipynb#X34sZmlsZQ%3D%3D?line=0'>1</a>\u001b[0m conf \u001b[39m=\u001b[39m recursive_just(User(\u001b[39mid\u001b[39;49m\u001b[39m=\u001b[39;49m\u001b[39m\"\u001b[39;49m\u001b[39m22\u001b[39;49m\u001b[39m\"\u001b[39;49m))\n\u001b[0;32m      <a href='vscode-notebook-cell:/c%3A/Users/rsokl/hydra-zen/scratch/recursive_just.ipynb#X34sZmlsZQ%3D%3D?line=2'>3</a>\u001b[0m pretty_print(recursive_just(User(\u001b[39mid\u001b[39m\u001b[39m=\u001b[39m\u001b[39m\"\u001b[39m\u001b[39m22\u001b[39m\u001b[39m\"\u001b[39m)))\n",
      "\u001b[1;32mc:\\Users\\rsokl\\hydra-zen\\scratch\\recursive_just.ipynb Cell 27\u001b[0m in \u001b[0;36mrecursive_just\u001b[1;34m(obj)\u001b[0m\n\u001b[0;32m      <a href='vscode-notebook-cell:/c%3A/Users/rsokl/hydra-zen/scratch/recursive_just.ipynb#X34sZmlsZQ%3D%3D?line=5'>6</a>\u001b[0m         value \u001b[39m=\u001b[39m \u001b[39mgetattr\u001b[39m(obj, field\u001b[39m.\u001b[39mname)\n\u001b[0;32m      <a href='vscode-notebook-cell:/c%3A/Users/rsokl/hydra-zen/scratch/recursive_just.ipynb#X34sZmlsZQ%3D%3D?line=6'>7</a>\u001b[0m         converted_fields[field\u001b[39m.\u001b[39mname] \u001b[39m=\u001b[39m recursive_just(value)\n\u001b[1;32m----> <a href='vscode-notebook-cell:/c%3A/Users/rsokl/hydra-zen/scratch/recursive_just.ipynb#X34sZmlsZQ%3D%3D?line=7'>8</a>\u001b[0m     \u001b[39mreturn\u001b[39;00m builds(\n\u001b[0;32m      <a href='vscode-notebook-cell:/c%3A/Users/rsokl/hydra-zen/scratch/recursive_just.ipynb#X34sZmlsZQ%3D%3D?line=8'>9</a>\u001b[0m         \u001b[39mtype\u001b[39;49m(obj),\n\u001b[0;32m     <a href='vscode-notebook-cell:/c%3A/Users/rsokl/hydra-zen/scratch/recursive_just.ipynb#X34sZmlsZQ%3D%3D?line=9'>10</a>\u001b[0m         populate_full_signature\u001b[39m=\u001b[39;49m\u001b[39mTrue\u001b[39;49;00m,\n\u001b[0;32m     <a href='vscode-notebook-cell:/c%3A/Users/rsokl/hydra-zen/scratch/recursive_just.ipynb#X34sZmlsZQ%3D%3D?line=10'>11</a>\u001b[0m         hydra_convert\u001b[39m=\u001b[39;49m\u001b[39m\"\u001b[39;49m\u001b[39mall\u001b[39;49m\u001b[39m\"\u001b[39;49m\n\u001b[0;32m     <a href='vscode-notebook-cell:/c%3A/Users/rsokl/hydra-zen/scratch/recursive_just.ipynb#X34sZmlsZQ%3D%3D?line=11'>12</a>\u001b[0m     )(\u001b[39m*\u001b[39m\u001b[39m*\u001b[39mconverted_fields)\n\u001b[0;32m     <a href='vscode-notebook-cell:/c%3A/Users/rsokl/hydra-zen/scratch/recursive_just.ipynb#X34sZmlsZQ%3D%3D?line=13'>14</a>\u001b[0m \u001b[39melse\u001b[39;00m:\n\u001b[0;32m     <a href='vscode-notebook-cell:/c%3A/Users/rsokl/hydra-zen/scratch/recursive_just.ipynb#X34sZmlsZQ%3D%3D?line=14'>15</a>\u001b[0m     \u001b[39mreturn\u001b[39;00m just(obj)\n",
      "File \u001b[1;32mc:\\users\\rsokl\\hydra-zen\\src\\hydra_zen\\structured_configs\\_implementations.py:1643\u001b[0m, in \u001b[0;36mbuilds\u001b[1;34m(***failed resolving arguments***)\u001b[0m\n\u001b[0;32m   1640\u001b[0m value \u001b[39m=\u001b[39m item[\u001b[39m-\u001b[39m\u001b[39m1\u001b[39m]\n\u001b[0;32m   1642\u001b[0m \u001b[39mif\u001b[39;00m \u001b[39mnot\u001b[39;00m \u001b[39misinstance\u001b[39m(value, _Field):\n\u001b[1;32m-> 1643\u001b[0m     _field \u001b[39m=\u001b[39m sanitized_field(\n\u001b[0;32m   1644\u001b[0m         value,\n\u001b[0;32m   1645\u001b[0m         error_prefix\u001b[39m=\u001b[39;49mBUILDS_ERROR_PREFIX,\n\u001b[0;32m   1646\u001b[0m         field_name\u001b[39m=\u001b[39;49mitem[\u001b[39m0\u001b[39;49m],\n\u001b[0;32m   1647\u001b[0m         _mutable_default_permitted\u001b[39m=\u001b[39;49m_utils\u001b[39m.\u001b[39;49mmutable_default_permitted(\n\u001b[0;32m   1648\u001b[0m             builds_bases, name\n\u001b[0;32m   1649\u001b[0m         ),\n\u001b[0;32m   1650\u001b[0m     )\n\u001b[0;32m   1651\u001b[0m \u001b[39melif\u001b[39;00m (\n\u001b[0;32m   1652\u001b[0m     PATCH_OMEGACONF_830\n\u001b[0;32m   1653\u001b[0m     \u001b[39mand\u001b[39;00m builds_bases\n\u001b[1;32m   (...)\u001b[0m\n\u001b[0;32m   1659\u001b[0m     \u001b[39m# Value was passed as a field-with-default-factory, we'll\u001b[39;00m\n\u001b[0;32m   1660\u001b[0m     \u001b[39m# access the default from the factory and will reconstruct the field\u001b[39;00m\n\u001b[0;32m   1661\u001b[0m     _field \u001b[39m=\u001b[39m sanitized_field(\n\u001b[0;32m   1662\u001b[0m         value\u001b[39m.\u001b[39mdefault_factory(),\n\u001b[0;32m   1663\u001b[0m         error_prefix\u001b[39m=\u001b[39mBUILDS_ERROR_PREFIX,\n\u001b[1;32m   (...)\u001b[0m\n\u001b[0;32m   1667\u001b[0m         ),\n\u001b[0;32m   1668\u001b[0m     )\n",
      "File \u001b[1;32mc:\\users\\rsokl\\hydra-zen\\src\\hydra_zen\\structured_configs\\_implementations.py:551\u001b[0m, in \u001b[0;36msanitized_field\u001b[1;34m(value, init, allow_zen_conversion, error_prefix, field_name, _mutable_default_permitted)\u001b[0m\n\u001b[0;32m    547\u001b[0m     \u001b[39melse\u001b[39;00m:  \u001b[39m# pragma: no cover\u001b[39;00m\n\u001b[0;32m    548\u001b[0m         value \u001b[39m=\u001b[39m builds(\u001b[39mtype\u001b[39m(value), value)\n\u001b[0;32m    550\u001b[0m \u001b[39mreturn\u001b[39;00m _utils\u001b[39m.\u001b[39mfield(\n\u001b[1;32m--> 551\u001b[0m     default\u001b[39m=\u001b[39msanitized_default_value(\n\u001b[0;32m    552\u001b[0m         value,\n\u001b[0;32m    553\u001b[0m         allow_zen_conversion\u001b[39m=\u001b[39;49mallow_zen_conversion,\n\u001b[0;32m    554\u001b[0m         error_prefix\u001b[39m=\u001b[39;49merror_prefix,\n\u001b[0;32m    555\u001b[0m         field_name\u001b[39m=\u001b[39;49mfield_name,\n\u001b[0;32m    556\u001b[0m     ),\n\u001b[0;32m    557\u001b[0m     init\u001b[39m=\u001b[39minit,\n\u001b[0;32m    558\u001b[0m )\n",
      "File \u001b[1;32mc:\\users\\rsokl\\hydra-zen\\src\\hydra_zen\\structured_configs\\_implementations.py:506\u001b[0m, in \u001b[0;36msanitized_default_value\u001b[1;34m(value, allow_zen_conversion, error_prefix, field_name, structured_conf_permitted)\u001b[0m\n\u001b[0;32m    500\u001b[0m \u001b[39mif\u001b[39;00m structured_conf_permitted:\n\u001b[0;32m    501\u001b[0m     err_msg \u001b[39m+\u001b[39m\u001b[39m=\u001b[39m (\n\u001b[0;32m    502\u001b[0m         \u001b[39mf\u001b[39m\u001b[39m\"\u001b[39m\u001b[39m\\n\u001b[39;00m\u001b[39m\\n\u001b[39;00m\u001b[39mConsider using `hydra_zen.builds(\u001b[39m\u001b[39m{\u001b[39;00m\u001b[39mtype\u001b[39m(value)\u001b[39m}\u001b[39;00m\u001b[39m, ...)` create \u001b[39m\u001b[39m\"\u001b[39m\n\u001b[0;32m    503\u001b[0m         \u001b[39m\"\u001b[39m\u001b[39ma config for this particular value.\u001b[39m\u001b[39m\"\u001b[39m\n\u001b[0;32m    504\u001b[0m     )\n\u001b[1;32m--> 506\u001b[0m \u001b[39mraise\u001b[39;00m HydraZenUnsupportedPrimitiveError(err_msg)\n",
      "\u001b[1;31mHydraZenUnsupportedPrimitiveError\u001b[0m: Building: User ..\n The configured value <factory>, for field `friends`, is not supported by Hydra -- serializing or instantiating this config would ultimately result in an error.\n\nConsider using `hydra_zen.builds(<class 'dataclasses._HAS_DEFAULT_FACTORY_CLASS'>, ...)` create a config for this particular value."
     ]
    }
   ],
   "source": [
    "conf = recursive_just(User(id=\"22\"))\n",
    "\n",
    "pretty_print(recursive_just(User(id=\"22\")))"
   ]
  },
  {
   "cell_type": "code",
   "execution_count": 35,
   "id": "9451a795",
   "metadata": {},
   "outputs": [
    {
     "data": {
      "text/plain": [
       "User(id=22, name='John Doe', friends=[0], age=None, height=50)"
      ]
     },
     "execution_count": 35,
     "metadata": {},
     "output_type": "execute_result"
    }
   ],
   "source": [
    "def create_sanitized_config(obj):\n",
    "    if is_dataclass(obj) and not isinstance(obj, type):\n",
    "        # obj is a dataclass instance\n",
    "        converted_fields = {}\n",
    "        for field in fields(obj):\n",
    "            if field.init:\n",
    "                value = getattr(obj, field.name)\n",
    "                converted_fields[field.name] = recursive_just(value)\n",
    "        return builds(\n",
    "            type(obj),\n",
    "            populate_full_signature=True,\n",
    "            hydra_convert=\"all\",\n",
    "            **converted_fields\n",
    "        )(**converted_fields)\n",
    "\n",
    "    else:\n",
    "        return just(obj)"
   ]
  },
  {
   "cell_type": "code",
   "execution_count": 108,
   "id": "55eb8b3f",
   "metadata": {},
   "outputs": [
    {
     "data": {
      "text/plain": [
       "types.Builds_User"
      ]
     },
     "execution_count": 108,
     "metadata": {},
     "output_type": "execute_result"
    }
   ],
   "source": [
    ">>> recursive_just(User)\n",
    "Builds_User\n",
    "\n",
    ">>> recursive_just(User(age=10))\n",
    "Builds_User(age=1)"
   ]
  },
  {
   "cell_type": "code",
   "execution_count": 24,
   "id": "9a50ae98",
   "metadata": {},
   "outputs": [],
   "source": [
    "jj = recursive_just(User(id=\"22\"))"
   ]
  },
  {
   "cell_type": "code",
   "execution_count": 114,
   "id": "9eb589ce",
   "metadata": {},
   "outputs": [],
   "source": [
    "from hydra_zen.typing import Partial\n",
    "from functools import partial\n",
    "class A:\n",
    "    def __init__(self, params, lr):\n",
    "        self.lr=lr\n",
    "        self.params=params\n",
    "\n",
    "@dataclass\n",
    "class Conf:\n",
    "    optim: Partial[A] = partial(A, lr=1e-4)\n"
   ]
  },
  {
   "cell_type": "code",
   "execution_count": 118,
   "id": "0a93ed43",
   "metadata": {},
   "outputs": [
    {
     "data": {
      "text/plain": [
       "Conf(optim=functools.partial(<class '__main__.A'>, lr=0.0001))"
      ]
     },
     "execution_count": 118,
     "metadata": {},
     "output_type": "execute_result"
    }
   ],
   "source": [
    "instantiate(recursive_just(Conf()))"
   ]
  },
  {
   "cell_type": "markdown",
   "id": "351e9167",
   "metadata": {},
   "source": [
    "## Response\n",
    "\n",
    "Hi Jasha, I am finished teaching and am back in the swing of things at work! Thanks for your patience and understanding for the past few weeks.\n",
    "\n",
    "## A Brief Review of This Proposal\n",
    "\n",
    "Let me first summarize my understanding of the novel functionality that is being proposed here. Wherease `builds` and `just` are used to both used construct a config that describes a single object in one's program, `recursive_just` is meant to operate on hierarchical/nested structured configs. Specifically one to can write a hierearchical structured config without paying heed to Hydra's [1^] limited support for various type annotations[2^] and values[3^], and `recursive_just` will automatically create a Hydra-compatible form for it.\n",
    "\n",
    "[1^]: For simplicity's sake, I am going to ignore the distinction between Hydra and omegaconf here, and just use Hydra as a catch-all.\n",
    "\n",
    "[2^]: Because the \"sanitized\" config will instantiate to an instance of the original dataclass type, users can rely on this post-instantiation type information within their task function. \n",
    "\n",
    "[3^]: Values of types that [have registered support with hydra-zen](https://mit-ll-responsible-ai.github.io/hydra-zen/api_reference.html#configuration-value-types-supported-by-hydra-and-hydra-zen), e.g. `complex` numbers, will be automatically supported as well. \n",
    "\n",
    "\n",
    "To demonstrate the utility of this in practice, let's design a structured config using a pydantic-based dataclass, which we can make compatible with Hydra while retaining the runtime type-checking and rich types associated with our original dataclass.\n",
    "\n",
    "\n",
    "```python\n",
    "import dataclasses\n",
    "from typing import List, Optional, Literal\n",
    "\n",
    "from pydantic.dataclasses import dataclass as pydantic_dataclass\n",
    "from pydantic import PositiveInt\n",
    "\n",
    "\n",
    "@pydantic_dataclass\n",
    "class User:\n",
    "    name: str\n",
    "    age: PositiveInt  # typically Hydra users would have to use `int` here\n",
    "\n",
    "\n",
    "@pydantic_dataclass\n",
    "class Match:\n",
    "    user_a: User = User(name=\"Bob\", age=25)\n",
    "    user_b: User = User(name=\"Alice\", age=27)\n",
    "```\n",
    "\n",
    "Now we can use `recursive_just` to make an Hydra-compatible config from this pydantic-based dataclass, and we still benefit from our rich type annotations and pydrantic's runtime type-checking via instantiation:  \n",
    "\n",
    "```python\n",
    "from hydra.errors import InstantiationException\n",
    "conf = recursive_just((User(name=\"Bob\", age=20)))\n",
    "\n",
    "# Attempting to overwrite age with a negative number..\n",
    "with raises(InstantiationException):\n",
    "    # Pydantic's runtime type-checking raises an error during the instantiation process.\n",
    "    instantiate(conf, age=-10)  # error: age < 0\n",
    "\n",
    "profile: User = instantiate(conf, age=11)\n",
    "assert isinstance(profile, User)\n",
    "assert profile == User(\"Bob\", 11)\n",
    "```\n",
    "\n",
    "\n",
    "And here is the recursion in action:\n",
    "\n",
    "```python\n",
    "from hydra_zen import to_yaml\n",
    "sanitized_match = recursive_just(Match())\n",
    "\n",
    "assert to_yaml(sanitized_match) == \"\"\"\\\n",
    "_target_: __main__.Match\n",
    "user_a:\n",
    "  _target_: __main__.User\n",
    "  name: Bob\n",
    "  age: 25\n",
    "user_b:\n",
    "  _target_: __main__.User\n",
    "  name: Alice\n",
    "  age: 27\n",
    "\"\"\"\n",
    "\n",
    "assert instantiate(sanitized_match) == Match()\n",
    "```\n",
    "\n",
    "I like this proposal a lot! I think that point 1 both reduces the barrier to entry for new Hydra users while also enabling advanced patterns (e.g., the demonstrated cross-compatibility with pydantic!). The improved ergonomics identified point 2 is also a big win, and the gains here will grow as hydra-zen's auto-config support continues to improve (ISSUES).\n",
    "\n",
    "## Implementation Details\n",
    "\n",
    "One change to this prototype that I have identified thus far is that I would like to support dataclass-types in addition to the proposed dataclass-instances; this is motivated by the fact that Hydra largely treats dataclass types and instances on an equaly footing. Thus `recursive_just` could be applied directly to the `User` pydanatic-dataclass type [4^].\n",
    "\n",
    "```python\n",
    "# support for dataclass types (in addition to instances)\n",
    "assert to_yaml(recursive_just(User)) == \"\"\"\\\n",
    "_target_: __main__.User\n",
    "name: ???\n",
    "age: ???\n",
    "\"\"\"\n",
    "\n",
    "assert isinstance(recursive_just(User), type)  # Builds_User\n",
    "assert not isinstance(recursive_just(User(\"bob\", 12)), type)  # Builds_User(\"bob\", 12)  \n",
    "```\n",
    "\n",
    "This is effectively identical to `builds(User, populate_full_signature=True)`, but it also includes recursion over fields that store nested structured configs, which is what makes the functionality unique. \n",
    "\n",
    "Supporting dataclass types impacts the nice property of idempotence that Jasha's implementation possesses. To remedy this, `recursive_just` will only apply to dataclasses that do not have a `_target_` field. This restriction prevents people from accidentally creating a structured config that instantiates to a structured config that instantiates to a structured config... and so on.\n",
    "\n",
    "The original prototype should \n",
    "\n",
    "[4^]: One thought that I had is: is there value to perserving basic parent/child parity through `recursive_just`?:\n",
    "\n",
    "  ```python\n",
    "  assert isinstance(User(age=10), User)\n",
    "\n",
    "  CompatUser = recursive_just(User)\n",
    "  compat_user = recursive_just(User(age=10))  # \n",
    "  assert isinstance(compat_user, CompatUser)\n",
    "  ```\n",
    "\n",
    "  This would add substantial complications to the implementation, so I'd prefer to forego this unless there is a truly pressing benefit.\n",
    "\n",
    "\n",
    "## The API\n",
    "\n",
    "I was tempted to merge this functionality with `just`, perhaps via `just(..., recursive=True)`. Were we to stick with the original proposal, and only process "
   ]
  },
  {
   "cell_type": "code",
   "execution_count": 147,
   "id": "b5fa8bdb",
   "metadata": {},
   "outputs": [
    {
     "ename": "ValueError",
     "evalue": "The field-name specified via `builds(..., _target_=<...>)` is reserved by Hydra.",
     "output_type": "error",
     "traceback": [
      "\u001b[1;31m---------------------------------------------------------------------------\u001b[0m",
      "\u001b[1;31mValueError\u001b[0m                                Traceback (most recent call last)",
      "\u001b[1;32mc:\\Users\\rsokl\\hydra-zen\\scratch\\recursive_just.ipynb Cell 41\u001b[0m in \u001b[0;36m<cell line: 1>\u001b[1;34m()\u001b[0m\n\u001b[1;32m----> <a href='vscode-notebook-cell:/c%3A/Users/rsokl/hydra-zen/scratch/recursive_just.ipynb#Y133sZmlsZQ%3D%3D?line=0'>1</a>\u001b[0m recursive_just(builds(\u001b[39mdict\u001b[39;49m, a\u001b[39m=\u001b[39;49m\u001b[39m1\u001b[39;49m)(a\u001b[39m=\u001b[39;49m\u001b[39m2\u001b[39;49m))\n",
      "\u001b[1;32mc:\\Users\\rsokl\\hydra-zen\\scratch\\recursive_just.ipynb Cell 41\u001b[0m in \u001b[0;36mrecursive_just\u001b[1;34m(obj)\u001b[0m\n\u001b[0;32m     <a href='vscode-notebook-cell:/c%3A/Users/rsokl/hydra-zen/scratch/recursive_just.ipynb#Y133sZmlsZQ%3D%3D?line=24'>25</a>\u001b[0m         value \u001b[39m=\u001b[39m \u001b[39mgetattr\u001b[39m(obj, field\u001b[39m.\u001b[39mname)\n\u001b[0;32m     <a href='vscode-notebook-cell:/c%3A/Users/rsokl/hydra-zen/scratch/recursive_just.ipynb#Y133sZmlsZQ%3D%3D?line=25'>26</a>\u001b[0m         converted_fields[field\u001b[39m.\u001b[39mname] \u001b[39m=\u001b[39m recursive_just(value)\n\u001b[1;32m---> <a href='vscode-notebook-cell:/c%3A/Users/rsokl/hydra-zen/scratch/recursive_just.ipynb#Y133sZmlsZQ%3D%3D?line=26'>27</a>\u001b[0m     \u001b[39mreturn\u001b[39;00m builds(\u001b[39mtype\u001b[39m(obj), \u001b[39m*\u001b[39m\u001b[39m*\u001b[39mconverted_fields)\n\u001b[0;32m     <a href='vscode-notebook-cell:/c%3A/Users/rsokl/hydra-zen/scratch/recursive_just.ipynb#Y133sZmlsZQ%3D%3D?line=28'>29</a>\u001b[0m \u001b[39melse\u001b[39;00m:\n\u001b[0;32m     <a href='vscode-notebook-cell:/c%3A/Users/rsokl/hydra-zen/scratch/recursive_just.ipynb#Y133sZmlsZQ%3D%3D?line=29'>30</a>\u001b[0m     \u001b[39mreturn\u001b[39;00m just(obj)\n",
      "File \u001b[1;32mc:\\users\\rsokl\\hydra-zen\\src\\hydra_zen\\structured_configs\\_implementations.py:1154\u001b[0m, in \u001b[0;36mbuilds\u001b[1;34m(***failed resolving arguments***)\u001b[0m\n\u001b[0;32m   1149\u001b[0m         \u001b[39mraise\u001b[39;00m \u001b[39mValueError\u001b[39;00m(\n\u001b[0;32m   1150\u001b[0m             err_msg\n\u001b[0;32m   1151\u001b[0m             \u001b[39m+\u001b[39m \u001b[39mf\u001b[39m\u001b[39m\"\u001b[39m\u001b[39m You can set this parameter via `builds(..., hydra_\u001b[39m\u001b[39m{\u001b[39;00m_name[\u001b[39m1\u001b[39m:\u001b[39m-\u001b[39m\u001b[39m1\u001b[39m]\u001b[39m}\u001b[39;00m\u001b[39m=<...>)`\u001b[39m\u001b[39m\"\u001b[39m\n\u001b[0;32m   1152\u001b[0m         )\n\u001b[0;32m   1153\u001b[0m     \u001b[39melse\u001b[39;00m:\n\u001b[1;32m-> 1154\u001b[0m         \u001b[39mraise\u001b[39;00m \u001b[39mValueError\u001b[39;00m(err_msg)\n\u001b[0;32m   1155\u001b[0m \u001b[39mif\u001b[39;00m _name\u001b[39m.\u001b[39mstartswith((\u001b[39m\"\u001b[39m\u001b[39mhydra_\u001b[39m\u001b[39m\"\u001b[39m, \u001b[39m\"\u001b[39m\u001b[39m_zen_\u001b[39m\u001b[39m\"\u001b[39m, \u001b[39m\"\u001b[39m\u001b[39mzen_\u001b[39m\u001b[39m\"\u001b[39m)):\n\u001b[0;32m   1156\u001b[0m     \u001b[39mraise\u001b[39;00m \u001b[39mValueError\u001b[39;00m(\n\u001b[0;32m   1157\u001b[0m         \u001b[39mf\u001b[39m\u001b[39m\"\u001b[39m\u001b[39mThe field-name specified via `\u001b[39m\u001b[39m{\u001b[39;00m_name\u001b[39m}\u001b[39;00m\u001b[39m=<...>` is reserved by hydra-zen.\u001b[39m\u001b[39m\"\u001b[39m\n\u001b[0;32m   1158\u001b[0m         \u001b[39m\"\u001b[39m\u001b[39m You can manually create a dataclass to utilize this name in a structured config.\u001b[39m\u001b[39m\"\u001b[39m\n\u001b[0;32m   1159\u001b[0m     )\n",
      "\u001b[1;31mValueError\u001b[0m: The field-name specified via `builds(..., _target_=<...>)` is reserved by Hydra."
     ]
    }
   ],
   "source": [
    "recursive_just(builds(dict, a=1)(a=2))"
   ]
  },
  {
   "cell_type": "code",
   "execution_count": 130,
   "id": "231ab893",
   "metadata": {},
   "outputs": [],
   "source": [
    "from hydra_zen.structured_configs._type_guards import is_builds\n",
    "\n",
    "def rjust(obj):\n",
    "    if is_dataclass(obj) and not is_builds(obj):\n",
    "        # obj is a dataclass type or instance that does not have a _target_ field\n",
    "        type_ = obj if isinstance(obj, type) else type(obj)\n",
    "\n",
    "        converted_fields = {}\n",
    "\n",
    "        for field in fields(obj):\n",
    "            if field.init and hasattr(obj, field.name):\n",
    "                value = getattr(obj, field.name)\n",
    "                converted_fields[field.name] = rjust(value)\n",
    "        Conf = builds(\n",
    "            type_,\n",
    "            populate_full_signature=True,\n",
    "            hydra_convert=\"all\",\n",
    "            **converted_fields\n",
    "        )\n",
    "        return Conf if type_ is obj else Conf()\n",
    "\n",
    "    else:\n",
    "        return just(obj)"
   ]
  },
  {
   "cell_type": "code",
   "execution_count": 144,
   "id": "514b97ac",
   "metadata": {},
   "outputs": [
    {
     "data": {
      "text/plain": [
       "Builds_User(_target_='__main__.User', _convert_='all', name='bob', age=12)"
      ]
     },
     "execution_count": 144,
     "metadata": {},
     "output_type": "execute_result"
    }
   ],
   "source": [
    "rjust(User(\"bob\", 12))"
   ]
  },
  {
   "cell_type": "code",
   "execution_count": null,
   "id": "d7b0b7e0",
   "metadata": {},
   "outputs": [],
   "source": []
  },
  {
   "cell_type": "code",
   "execution_count": 146,
   "id": "dc815cbd",
   "metadata": {},
   "outputs": [
    {
     "name": "stdout",
     "output_type": "stream",
     "text": [
      "_target_: types.Config\n",
      "_convert_: all\n",
      "x: ???\n",
      "'y':\n",
      "  _target_: types.Config\n",
      "  _convert_: all\n",
      "  z:\n",
      "    real: 1.0\n",
      "    imag: 2.0\n",
      "    _target_: builtins.complex\n",
      "\n"
     ]
    },
    {
     "data": {
      "text/plain": [
       "True"
      ]
     },
     "execution_count": 146,
     "metadata": {},
     "output_type": "execute_result"
    }
   ],
   "source": [
    "DC1 = make_config(z=3)\n",
    "DC = make_config(\"x\", y=DC1(z=1+2j))\n",
    "\n",
    "a = rjust(DC)\n",
    "assert a is rjust(a)\n",
    "pretty_print(rjust(rjust(DC)))\n",
    "a.y is rjust(a).y"
   ]
  },
  {
   "cell_type": "code",
   "execution_count": 138,
   "id": "7b0d83a5",
   "metadata": {},
   "outputs": [
    {
     "data": {
      "text/plain": [
       "Builds_Config(_target_='types.Config', _convert_='all', x=1, y=2)"
      ]
     },
     "execution_count": 138,
     "metadata": {},
     "output_type": "execute_result"
    }
   ],
   "source": [
    "rjust(DC(1, 2))"
   ]
  },
  {
   "cell_type": "markdown",
   "id": "5a863544",
   "metadata": {},
   "source": []
  },
  {
   "cell_type": "markdown",
   "id": "db73c0ee",
   "metadata": {},
   "source": []
  },
  {
   "cell_type": "code",
   "execution_count": 123,
   "id": "8f924359",
   "metadata": {},
   "outputs": [
    {
     "ename": "ValueError",
     "evalue": "The field-name specified via `builds(..., _target_=<...>)` is reserved by Hydra.",
     "output_type": "error",
     "traceback": [
      "\u001b[1;31m---------------------------------------------------------------------------\u001b[0m",
      "\u001b[1;31mValueError\u001b[0m                                Traceback (most recent call last)",
      "\u001b[1;32mc:\\Users\\rsokl\\hydra-zen\\scratch\\recursive_just.ipynb Cell 42\u001b[0m in \u001b[0;36m<cell line: 1>\u001b[1;34m()\u001b[0m\n\u001b[1;32m----> <a href='vscode-notebook-cell:/c%3A/Users/rsokl/hydra-zen/scratch/recursive_just.ipynb#Y113sZmlsZQ%3D%3D?line=0'>1</a>\u001b[0m pretty_print(recursive_just(recursive_just(User(\u001b[39m\"\u001b[39;49m\u001b[39mhi\u001b[39;49m\u001b[39m\"\u001b[39;49m, \u001b[39m1\u001b[39;49m))()))\n",
      "\u001b[1;32mc:\\Users\\rsokl\\hydra-zen\\scratch\\recursive_just.ipynb Cell 42\u001b[0m in \u001b[0;36mrecursive_just\u001b[1;34m(obj)\u001b[0m\n\u001b[0;32m     <a href='vscode-notebook-cell:/c%3A/Users/rsokl/hydra-zen/scratch/recursive_just.ipynb#Y113sZmlsZQ%3D%3D?line=24'>25</a>\u001b[0m         value \u001b[39m=\u001b[39m \u001b[39mgetattr\u001b[39m(obj, field\u001b[39m.\u001b[39mname)\n\u001b[0;32m     <a href='vscode-notebook-cell:/c%3A/Users/rsokl/hydra-zen/scratch/recursive_just.ipynb#Y113sZmlsZQ%3D%3D?line=25'>26</a>\u001b[0m         converted_fields[field\u001b[39m.\u001b[39mname] \u001b[39m=\u001b[39m recursive_just(value)\n\u001b[1;32m---> <a href='vscode-notebook-cell:/c%3A/Users/rsokl/hydra-zen/scratch/recursive_just.ipynb#Y113sZmlsZQ%3D%3D?line=26'>27</a>\u001b[0m     \u001b[39mreturn\u001b[39;00m builds(\u001b[39mtype\u001b[39m(obj), \u001b[39m*\u001b[39m\u001b[39m*\u001b[39mconverted_fields)\n\u001b[0;32m     <a href='vscode-notebook-cell:/c%3A/Users/rsokl/hydra-zen/scratch/recursive_just.ipynb#Y113sZmlsZQ%3D%3D?line=28'>29</a>\u001b[0m \u001b[39melse\u001b[39;00m:\n\u001b[0;32m     <a href='vscode-notebook-cell:/c%3A/Users/rsokl/hydra-zen/scratch/recursive_just.ipynb#Y113sZmlsZQ%3D%3D?line=29'>30</a>\u001b[0m     \u001b[39mreturn\u001b[39;00m just(obj)\n",
      "File \u001b[1;32mc:\\users\\rsokl\\hydra-zen\\src\\hydra_zen\\structured_configs\\_implementations.py:1154\u001b[0m, in \u001b[0;36mbuilds\u001b[1;34m(***failed resolving arguments***)\u001b[0m\n\u001b[0;32m   1149\u001b[0m         \u001b[39mraise\u001b[39;00m \u001b[39mValueError\u001b[39;00m(\n\u001b[0;32m   1150\u001b[0m             err_msg\n\u001b[0;32m   1151\u001b[0m             \u001b[39m+\u001b[39m \u001b[39mf\u001b[39m\u001b[39m\"\u001b[39m\u001b[39m You can set this parameter via `builds(..., hydra_\u001b[39m\u001b[39m{\u001b[39;00m_name[\u001b[39m1\u001b[39m:\u001b[39m-\u001b[39m\u001b[39m1\u001b[39m]\u001b[39m}\u001b[39;00m\u001b[39m=<...>)`\u001b[39m\u001b[39m\"\u001b[39m\n\u001b[0;32m   1152\u001b[0m         )\n\u001b[0;32m   1153\u001b[0m     \u001b[39melse\u001b[39;00m:\n\u001b[1;32m-> 1154\u001b[0m         \u001b[39mraise\u001b[39;00m \u001b[39mValueError\u001b[39;00m(err_msg)\n\u001b[0;32m   1155\u001b[0m \u001b[39mif\u001b[39;00m _name\u001b[39m.\u001b[39mstartswith((\u001b[39m\"\u001b[39m\u001b[39mhydra_\u001b[39m\u001b[39m\"\u001b[39m, \u001b[39m\"\u001b[39m\u001b[39m_zen_\u001b[39m\u001b[39m\"\u001b[39m, \u001b[39m\"\u001b[39m\u001b[39mzen_\u001b[39m\u001b[39m\"\u001b[39m)):\n\u001b[0;32m   1156\u001b[0m     \u001b[39mraise\u001b[39;00m \u001b[39mValueError\u001b[39;00m(\n\u001b[0;32m   1157\u001b[0m         \u001b[39mf\u001b[39m\u001b[39m\"\u001b[39m\u001b[39mThe field-name specified via `\u001b[39m\u001b[39m{\u001b[39;00m_name\u001b[39m}\u001b[39;00m\u001b[39m=<...>` is reserved by hydra-zen.\u001b[39m\u001b[39m\"\u001b[39m\n\u001b[0;32m   1158\u001b[0m         \u001b[39m\"\u001b[39m\u001b[39m You can manually create a dataclass to utilize this name in a structured config.\u001b[39m\u001b[39m\"\u001b[39m\n\u001b[0;32m   1159\u001b[0m     )\n",
      "\u001b[1;31mValueError\u001b[0m: The field-name specified via `builds(..., _target_=<...>)` is reserved by Hydra."
     ]
    }
   ],
   "source": [
    "pretty_print(recursive_just(recursive_just(User(\"hi\", 1))))"
   ]
  },
  {
   "cell_type": "code",
   "execution_count": 105,
   "id": "28f9b78d",
   "metadata": {},
   "outputs": [],
   "source": [
    "from hydra_zen import to_yaml\n",
    "sanitized_match = recursive_just(Match())\n",
    "\n",
    "assert to_yaml(sanitized_match) == \"\"\"\\\n",
    "_target_: __main__.Match\n",
    "user_a:\n",
    "  _target_: __main__.User\n",
    "  name: Bob\n",
    "  age: 25\n",
    "user_b:\n",
    "  _target_: __main__.User\n",
    "  name: Alice\n",
    "  age: 27\n",
    "\"\"\"\n",
    "\n",
    "assert instantiate(sanitized_match) == Match()"
   ]
  },
  {
   "cell_type": "code",
   "execution_count": 95,
   "id": "7aa63a70",
   "metadata": {},
   "outputs": [],
   "source": [
    "import dataclasses\n",
    "from typing import List, Optional, Literal\n",
    "\n",
    "from pydantic import Field\n",
    "from pydantic.dataclasses import dataclass as pydantic_dataclass\n",
    "from pydantic import PositiveInt\n",
    "\n",
    "\n",
    "@pydantic_dataclass\n",
    "class User:\n",
    "    name: str\n",
    "    age: PositiveInt\n",
    "\n",
    "@pydantic_dataclass\n",
    "class Match:\n",
    "    user_a: User = User(name=\"Bob\", age=25)\n",
    "    user_b: User = User(name=\"Alice\", age=27)"
   ]
  },
  {
   "cell_type": "code",
   "execution_count": 96,
   "id": "1e44b015",
   "metadata": {},
   "outputs": [],
   "source": [
    "#from pydantic.errors import ValidationError as PydValidationError\n",
    "from hydra.errors import InstantiationException\n",
    "conf = recursive_just((User(name=\"Bob\", age=20)))\n",
    "\n",
    "with raises(InstantiationException):\n",
    "    # Pydantic's runtime type-checking is applied by the instantiation process.\n",
    "    instantiate(conf, age=-10)  # error: age < 0\n",
    "\n",
    "profile = instantiate(conf, age=11)\n",
    "assert isinstance(profile, User)\n",
    "assert profile == User(\"Bob\", 11)\n"
   ]
  },
  {
   "cell_type": "code",
   "execution_count": 98,
   "id": "18bd0567",
   "metadata": {},
   "outputs": [
    {
     "data": {
      "text/plain": [
       "True"
      ]
     },
     "execution_count": 98,
     "metadata": {},
     "output_type": "execute_result"
    }
   ],
   "source": [
    "instantiate(recursive_just(Match())) == Match()"
   ]
  },
  {
   "cell_type": "code",
   "execution_count": 60,
   "id": "28ac552f",
   "metadata": {},
   "outputs": [
    {
     "name": "stdout",
     "output_type": "stream",
     "text": [
      "_target_: __main__.Config\n",
      "_convert_: all\n",
      "aggregation:\n",
      "  _target_: __main__.Reducer\n",
      "  _convert_: all\n",
      "  init: 1.0\n",
      "  reduction_fn:\n",
      "    _target_: hydra_zen.funcs.get_obj\n",
      "    path: builtins.sum\n",
      "imag_part:\n",
      "  real: 1.0\n",
      "  imag: 2.0\n",
      "  _target_: builtins.complex\n",
      "\n"
     ]
    }
   ],
   "source": [
    "c = Config(aggregation=Reducer(init=1.))\n",
    "pretty_print(recursive_just(c))"
   ]
  },
  {
   "cell_type": "code",
   "execution_count": 25,
   "id": "5a96d0b1",
   "metadata": {},
   "outputs": [
    {
     "name": "stdout",
     "output_type": "stream",
     "text": [
      "_target_: __main__.User\n",
      "_convert_: all\n",
      "id: 22\n",
      "name: John Doe\n",
      "friends:\n",
      "- 0\n",
      "age: null\n",
      "height: null\n",
      "\n"
     ]
    }
   ],
   "source": [
    "print(to_yaml(jj))"
   ]
  },
  {
   "cell_type": "code",
   "execution_count": 30,
   "id": "4510ea12",
   "metadata": {},
   "outputs": [
    {
     "data": {
      "text/plain": [
       "User(id=22, name='John Doe', friends=[0], age=None, height=100)"
      ]
     },
     "execution_count": 30,
     "metadata": {},
     "output_type": "execute_result"
    }
   ],
   "source": [
    "instantiate(jj, height=100)"
   ]
  },
  {
   "cell_type": "code",
   "execution_count": 31,
   "id": "c76794ec",
   "metadata": {},
   "outputs": [
    {
     "ename": "InstantiationException",
     "evalue": "Error in call to target '__main__.User':\nValidationError(model='User', errors=[{'loc': ('height',), 'msg': 'ensure this value is greater than or equal to 50', 'type': 'value_error.number.not_ge', 'ctx': {'limit_value': 50}}])",
     "output_type": "error",
     "traceback": [
      "\u001b[1;31m---------------------------------------------------------------------------\u001b[0m",
      "\u001b[1;31mValidationError\u001b[0m                           Traceback (most recent call last)",
      "\u001b[1;32m~\\Anaconda3\\envs\\hydra-zen\\lib\\site-packages\\hydra\\_internal\\instantiate\\_instantiate2.py\u001b[0m in \u001b[0;36m_call_target\u001b[1;34m(_target_, _partial_, args, kwargs, full_key)\u001b[0m\n\u001b[0;32m     91\u001b[0m         \u001b[1;32mtry\u001b[0m\u001b[1;33m:\u001b[0m\u001b[1;33m\u001b[0m\u001b[1;33m\u001b[0m\u001b[0m\n\u001b[1;32m---> 92\u001b[1;33m             \u001b[1;32mreturn\u001b[0m \u001b[0m_target_\u001b[0m\u001b[1;33m(\u001b[0m\u001b[1;33m*\u001b[0m\u001b[0margs\u001b[0m\u001b[1;33m,\u001b[0m \u001b[1;33m**\u001b[0m\u001b[0mkwargs\u001b[0m\u001b[1;33m)\u001b[0m\u001b[1;33m\u001b[0m\u001b[1;33m\u001b[0m\u001b[0m\n\u001b[0m\u001b[0;32m     93\u001b[0m         \u001b[1;32mexcept\u001b[0m \u001b[0mException\u001b[0m \u001b[1;32mas\u001b[0m \u001b[0me\u001b[0m\u001b[1;33m:\u001b[0m\u001b[1;33m\u001b[0m\u001b[1;33m\u001b[0m\u001b[0m\n",
      "\u001b[1;32m<string>\u001b[0m in \u001b[0;36m__init__\u001b[1;34m(self, id, name, friends, age, height)\u001b[0m\n",
      "\u001b[1;32m~\\Anaconda3\\envs\\hydra-zen\\lib\\site-packages\\pydantic\\dataclasses.cp38-win_amd64.pyd\u001b[0m in \u001b[0;36mpydantic.dataclasses._generate_pydantic_post_init._pydantic_post_init\u001b[1;34m()\u001b[0m\n",
      "\u001b[1;31mValidationError\u001b[0m: 1 validation error for User\nheight\n  ensure this value is greater than or equal to 50 (type=value_error.number.not_ge; limit_value=50)",
      "\nThe above exception was the direct cause of the following exception:\n",
      "\u001b[1;31mInstantiationException\u001b[0m                    Traceback (most recent call last)",
      "\u001b[1;32m<ipython-input-31-cff78afd8a10>\u001b[0m in \u001b[0;36m<module>\u001b[1;34m\u001b[0m\n\u001b[1;32m----> 1\u001b[1;33m \u001b[0minstantiate\u001b[0m\u001b[1;33m(\u001b[0m\u001b[0mjj\u001b[0m\u001b[1;33m,\u001b[0m \u001b[0mheight\u001b[0m\u001b[1;33m=\u001b[0m\u001b[1;33m-\u001b[0m\u001b[1;36m10\u001b[0m\u001b[1;33m)\u001b[0m\u001b[1;33m\u001b[0m\u001b[1;33m\u001b[0m\u001b[0m\n\u001b[0m",
      "\u001b[1;32m~\\Anaconda3\\envs\\hydra-zen\\lib\\site-packages\\hydra\\_internal\\instantiate\\_instantiate2.py\u001b[0m in \u001b[0;36minstantiate\u001b[1;34m(config, *args, **kwargs)\u001b[0m\n\u001b[0;32m    220\u001b[0m         \u001b[0m_partial_\u001b[0m \u001b[1;33m=\u001b[0m \u001b[0mconfig\u001b[0m\u001b[1;33m.\u001b[0m\u001b[0mpop\u001b[0m\u001b[1;33m(\u001b[0m\u001b[0m_Keys\u001b[0m\u001b[1;33m.\u001b[0m\u001b[0mPARTIAL\u001b[0m\u001b[1;33m,\u001b[0m \u001b[1;32mFalse\u001b[0m\u001b[1;33m)\u001b[0m\u001b[1;33m\u001b[0m\u001b[1;33m\u001b[0m\u001b[0m\n\u001b[0;32m    221\u001b[0m \u001b[1;33m\u001b[0m\u001b[0m\n\u001b[1;32m--> 222\u001b[1;33m         return instantiate_node(\n\u001b[0m\u001b[0;32m    223\u001b[0m             \u001b[0mconfig\u001b[0m\u001b[1;33m,\u001b[0m \u001b[1;33m*\u001b[0m\u001b[0margs\u001b[0m\u001b[1;33m,\u001b[0m \u001b[0mrecursive\u001b[0m\u001b[1;33m=\u001b[0m\u001b[0m_recursive_\u001b[0m\u001b[1;33m,\u001b[0m \u001b[0mconvert\u001b[0m\u001b[1;33m=\u001b[0m\u001b[0m_convert_\u001b[0m\u001b[1;33m,\u001b[0m \u001b[0mpartial\u001b[0m\u001b[1;33m=\u001b[0m\u001b[0m_partial_\u001b[0m\u001b[1;33m\u001b[0m\u001b[1;33m\u001b[0m\u001b[0m\n\u001b[0;32m    224\u001b[0m         )\n",
      "\u001b[1;32m~\\Anaconda3\\envs\\hydra-zen\\lib\\site-packages\\hydra\\_internal\\instantiate\\_instantiate2.py\u001b[0m in \u001b[0;36minstantiate_node\u001b[1;34m(node, convert, recursive, partial, *args)\u001b[0m\n\u001b[0;32m    337\u001b[0m                     \u001b[0mkwargs\u001b[0m\u001b[1;33m[\u001b[0m\u001b[0mkey\u001b[0m\u001b[1;33m]\u001b[0m \u001b[1;33m=\u001b[0m \u001b[0m_convert_node\u001b[0m\u001b[1;33m(\u001b[0m\u001b[0mvalue\u001b[0m\u001b[1;33m,\u001b[0m \u001b[0mconvert\u001b[0m\u001b[1;33m)\u001b[0m\u001b[1;33m\u001b[0m\u001b[1;33m\u001b[0m\u001b[0m\n\u001b[0;32m    338\u001b[0m \u001b[1;33m\u001b[0m\u001b[0m\n\u001b[1;32m--> 339\u001b[1;33m             \u001b[1;32mreturn\u001b[0m \u001b[0m_call_target\u001b[0m\u001b[1;33m(\u001b[0m\u001b[0m_target_\u001b[0m\u001b[1;33m,\u001b[0m \u001b[0mpartial\u001b[0m\u001b[1;33m,\u001b[0m \u001b[0margs\u001b[0m\u001b[1;33m,\u001b[0m \u001b[0mkwargs\u001b[0m\u001b[1;33m,\u001b[0m \u001b[0mfull_key\u001b[0m\u001b[1;33m)\u001b[0m\u001b[1;33m\u001b[0m\u001b[1;33m\u001b[0m\u001b[0m\n\u001b[0m\u001b[0;32m    340\u001b[0m         \u001b[1;32melse\u001b[0m\u001b[1;33m:\u001b[0m\u001b[1;33m\u001b[0m\u001b[1;33m\u001b[0m\u001b[0m\n\u001b[0;32m    341\u001b[0m             \u001b[1;31m# If ALL or PARTIAL non structured, instantiate in dict and resolve interpolations eagerly.\u001b[0m\u001b[1;33m\u001b[0m\u001b[1;33m\u001b[0m\u001b[1;33m\u001b[0m\u001b[0m\n",
      "\u001b[1;32m~\\Anaconda3\\envs\\hydra-zen\\lib\\site-packages\\hydra\\_internal\\instantiate\\_instantiate2.py\u001b[0m in \u001b[0;36m_call_target\u001b[1;34m(_target_, _partial_, args, kwargs, full_key)\u001b[0m\n\u001b[0;32m     95\u001b[0m             \u001b[1;32mif\u001b[0m \u001b[0mfull_key\u001b[0m\u001b[1;33m:\u001b[0m\u001b[1;33m\u001b[0m\u001b[1;33m\u001b[0m\u001b[0m\n\u001b[0;32m     96\u001b[0m                 \u001b[0mmsg\u001b[0m \u001b[1;33m+=\u001b[0m \u001b[1;34mf\"\\nfull_key: {full_key}\"\u001b[0m\u001b[1;33m\u001b[0m\u001b[1;33m\u001b[0m\u001b[0m\n\u001b[1;32m---> 97\u001b[1;33m             \u001b[1;32mraise\u001b[0m \u001b[0mInstantiationException\u001b[0m\u001b[1;33m(\u001b[0m\u001b[0mmsg\u001b[0m\u001b[1;33m)\u001b[0m \u001b[1;32mfrom\u001b[0m \u001b[0me\u001b[0m\u001b[1;33m\u001b[0m\u001b[1;33m\u001b[0m\u001b[0m\n\u001b[0m\u001b[0;32m     98\u001b[0m \u001b[1;33m\u001b[0m\u001b[0m\n\u001b[0;32m     99\u001b[0m \u001b[1;33m\u001b[0m\u001b[0m\n",
      "\u001b[1;31mInstantiationException\u001b[0m: Error in call to target '__main__.User':\nValidationError(model='User', errors=[{'loc': ('height',), 'msg': 'ensure this value is greater than or equal to 50', 'type': 'value_error.number.not_ge', 'ctx': {'limit_value': 50}}])"
     ]
    }
   ],
   "source": [
    "instantiate(jj, height=-10)"
   ]
  },
  {
   "cell_type": "markdown",
   "id": "45e68364",
   "metadata": {},
   "source": [
    "## Scratch"
   ]
  },
  {
   "cell_type": "code",
   "execution_count": 24,
   "id": "f1516060",
   "metadata": {},
   "outputs": [],
   "source": [
    "# def recursive_just_new(obj):\n",
    "#     if is_dataclass(obj):\n",
    "        \n",
    "#         is_class_obj = isinstance(obj, type)\n",
    "#         type_ = type(obj) if not is_class_obj else obj\n",
    "        \n",
    "#         # obj is a dataclass instance\n",
    "        \n",
    "#         converted_fields = {}\n",
    "#         for field in fields(obj):\n",
    "#             value = getattr(obj, field.name)\n",
    "#             converted_fields[field.name] = recursive_just(value)\n",
    "#         out = builds(type_, **converted_fields)\n",
    "#         if not is_class_obj:\n",
    "#             out = out()\n",
    "#         return out\n",
    "\n",
    "#     else:\n",
    "#         return just(obj)\n",
    "\n",
    "# @dataclass\n",
    "# class FooBar:\n",
    "#     field1: Interface1 = foo\n",
    "#     field2: Interface2 = bar\n",
    "#     field3: Any = 1\n",
    "\n",
    "\n",
    "\n",
    "\n",
    "# foobar = Stuff(foo, bar, Nested(baz))\n",
    "\n",
    "# instantiate(recursive_just(foobar)) == foobar\n",
    "# instantiate(recursive_just(FooBar())) == FooBar()"
   ]
  },
  {
   "cell_type": "code",
   "execution_count": 1,
   "id": "7fdee5d6",
   "metadata": {},
   "outputs": [],
   "source": [
    "from dataclasses import dataclass, field\n",
    "from typing import List\n",
    "\n",
    "@dataclass\n",
    "class Foo:\n",
    "    bar : List[int] = field(default_factory=lambda : [0])"
   ]
  },
  {
   "cell_type": "code",
   "execution_count": 2,
   "id": "a153aa4d",
   "metadata": {},
   "outputs": [
    {
     "name": "stdout",
     "output_type": "stream",
     "text": [
      "[('_target_', <class 'str'>, Field(name=None,type=None,default='__main__.Foo',default_factory=<dataclasses._MISSING_TYPE object at 0x000001CF557F14F0>,init=False,repr=True,hash=None,compare=True,metadata=mappingproxy({}),_field_type=None)), ('bar', typing.List[int], <factory>)]\n",
      "HERE bar <factory>\n",
      "\n",
      "\n"
     ]
    },
    {
     "ename": "AttributeError",
     "evalue": "type object 'Foo' has no attribute 'bar'",
     "output_type": "error",
     "traceback": [
      "\u001b[1;31m---------------------------------------------------------------------------\u001b[0m",
      "\u001b[1;31mAttributeError\u001b[0m                            Traceback (most recent call last)",
      "\u001b[1;32m<ipython-input-2-fcf9ba5263ff>\u001b[0m in \u001b[0;36m<module>\u001b[1;34m\u001b[0m\n\u001b[0;32m      1\u001b[0m \u001b[1;32mfrom\u001b[0m \u001b[0mhydra_zen\u001b[0m \u001b[1;32mimport\u001b[0m \u001b[0mbuilds\u001b[0m\u001b[1;33m,\u001b[0m \u001b[0mto_yaml\u001b[0m\u001b[1;33m\u001b[0m\u001b[1;33m\u001b[0m\u001b[0m\n\u001b[0;32m      2\u001b[0m \u001b[1;33m\u001b[0m\u001b[0m\n\u001b[1;32m----> 3\u001b[1;33m \u001b[0mprint\u001b[0m\u001b[1;33m(\u001b[0m\u001b[0mto_yaml\u001b[0m\u001b[1;33m(\u001b[0m\u001b[0mbuilds\u001b[0m\u001b[1;33m(\u001b[0m\u001b[0mFoo\u001b[0m\u001b[1;33m,\u001b[0m \u001b[0mpopulate_full_signature\u001b[0m\u001b[1;33m=\u001b[0m\u001b[1;32mTrue\u001b[0m\u001b[1;33m)\u001b[0m\u001b[1;33m)\u001b[0m\u001b[1;33m)\u001b[0m\u001b[1;33m\u001b[0m\u001b[1;33m\u001b[0m\u001b[0m\n\u001b[0m",
      "\u001b[1;32mc:\\users\\ryan soklaski\\hydra-zen\\src\\hydra_zen\\structured_configs\\_implementations.py\u001b[0m in \u001b[0;36mbuilds\u001b[1;34m(***failed resolving arguments***)\u001b[0m\n\u001b[0;32m   1658\u001b[0m                 \u001b[0mprint\u001b[0m\u001b[1;33m(\u001b[0m\u001b[1;34m\"\\n\"\u001b[0m\u001b[1;33m)\u001b[0m\u001b[1;33m\u001b[0m\u001b[1;33m\u001b[0m\u001b[0m\n\u001b[0;32m   1659\u001b[0m                 \u001b[1;32mif\u001b[0m \u001b[0misinstance\u001b[0m\u001b[1;33m(\u001b[0m\u001b[0mvalue\u001b[0m\u001b[1;33m,\u001b[0m \u001b[0m_default_factory_type\u001b[0m\u001b[1;33m)\u001b[0m\u001b[1;33m:\u001b[0m\u001b[1;33m\u001b[0m\u001b[1;33m\u001b[0m\u001b[0m\n\u001b[1;32m-> 1660\u001b[1;33m                     \u001b[0mvalue\u001b[0m \u001b[1;33m=\u001b[0m \u001b[0mgetattr\u001b[0m\u001b[1;33m(\u001b[0m\u001b[0mtarget\u001b[0m\u001b[1;33m,\u001b[0m \u001b[0mname\u001b[0m\u001b[1;33m)\u001b[0m\u001b[1;33m(\u001b[0m\u001b[1;33m)\u001b[0m\u001b[1;33m\u001b[0m\u001b[1;33m\u001b[0m\u001b[0m\n\u001b[0m\u001b[0;32m   1661\u001b[0m                 _field = sanitized_field(\n\u001b[0;32m   1662\u001b[0m                     \u001b[0mvalue\u001b[0m\u001b[1;33m,\u001b[0m\u001b[1;33m\u001b[0m\u001b[1;33m\u001b[0m\u001b[0m\n",
      "\u001b[1;31mAttributeError\u001b[0m: type object 'Foo' has no attribute 'bar'"
     ]
    }
   ],
   "source": [
    "from hydra_zen import builds, to_yaml\n",
    "\n",
    "print(to_yaml(builds(Foo, populate_full_signature=True)))"
   ]
  },
  {
   "cell_type": "code",
   "execution_count": 3,
   "id": "49f436c8",
   "metadata": {},
   "outputs": [],
   "source": [
    "from inspect import signature\n",
    "from dataclasses import fields"
   ]
  },
  {
   "cell_type": "code",
   "execution_count": 7,
   "id": "931f7b9d",
   "metadata": {},
   "outputs": [
    {
     "data": {
      "text/plain": [
       "[0]"
      ]
     },
     "execution_count": 7,
     "metadata": {},
     "output_type": "execute_result"
    }
   ],
   "source": [
    "fields(Foo)[0].default_factory()"
   ]
  },
  {
   "cell_type": "code",
   "execution_count": 16,
   "id": "47007032",
   "metadata": {},
   "outputs": [
    {
     "data": {
      "text/plain": [
       "<factory>"
      ]
     },
     "execution_count": 16,
     "metadata": {},
     "output_type": "execute_result"
    }
   ],
   "source": [
    "signature(Foo).parameters[\"bar\"].default"
   ]
  },
  {
   "cell_type": "code",
   "execution_count": 17,
   "id": "3d1b3c7d",
   "metadata": {},
   "outputs": [
    {
     "ename": "TypeError",
     "evalue": "'_HAS_DEFAULT_FACTORY_CLASS' object is not callable",
     "output_type": "error",
     "traceback": [
      "\u001b[1;31m---------------------------------------------------------------------------\u001b[0m",
      "\u001b[1;31mTypeError\u001b[0m                                 Traceback (most recent call last)",
      "\u001b[1;32m<ipython-input-17-56c6b59b6587>\u001b[0m in \u001b[0;36m<module>\u001b[1;34m\u001b[0m\n\u001b[1;32m----> 1\u001b[1;33m \u001b[0msignature\u001b[0m\u001b[1;33m(\u001b[0m\u001b[0mFoo\u001b[0m\u001b[1;33m)\u001b[0m\u001b[1;33m.\u001b[0m\u001b[0mparameters\u001b[0m\u001b[1;33m[\u001b[0m\u001b[1;34m\"bar\"\u001b[0m\u001b[1;33m]\u001b[0m\u001b[1;33m.\u001b[0m\u001b[0mdefault\u001b[0m\u001b[1;33m(\u001b[0m\u001b[1;33m)\u001b[0m\u001b[1;33m\u001b[0m\u001b[1;33m\u001b[0m\u001b[0m\n\u001b[0m",
      "\u001b[1;31mTypeError\u001b[0m: '_HAS_DEFAULT_FACTORY_CLASS' object is not callable"
     ]
    }
   ],
   "source": [
    "signature(Foo).parameters[\"bar\"].default()"
   ]
  },
  {
   "cell_type": "code",
   "execution_count": 10,
   "id": "147b5d8d",
   "metadata": {},
   "outputs": [
    {
     "data": {
      "text/plain": [
       "False"
      ]
     },
     "execution_count": 10,
     "metadata": {},
     "output_type": "execute_result"
    }
   ],
   "source": [
    "from dataclasses import Field\n",
    "isinstance(signature(Foo).parameters[\"bar\"].default, Field)"
   ]
  }
 ],
 "metadata": {
  "kernelspec": {
   "display_name": "Python 3.9.13 ('hydra-zen')",
   "language": "python",
   "name": "python3"
  },
  "language_info": {
   "codemirror_mode": {
    "name": "ipython",
    "version": 3
   },
   "file_extension": ".py",
   "mimetype": "text/x-python",
   "name": "python",
   "nbconvert_exporter": "python",
   "pygments_lexer": "ipython3",
   "version": "3.9.13"
  },
  "vscode": {
   "interpreter": {
    "hash": "40b99c54fdc88ca1720ddada354d8d35904ac9c506d40b5cc14277bd5a18920d"
   }
  }
 },
 "nbformat": 4,
 "nbformat_minor": 5
}
