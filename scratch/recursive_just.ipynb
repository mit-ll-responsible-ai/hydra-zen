{
 "cells": [
  {
   "cell_type": "markdown",
   "id": "39637ca0",
   "metadata": {},
   "source": [
    "## Notes\n",
    "- Found bug / limitation in `builds` when doing populate full signature on a dataclass that has a default factory for a field.\n",
    "- Need to think about UI for applying recursive just. Should recursive just also work on dataclass types rather than just instances? `builds(..., zen_recursive=<bool>)`?\n",
    "\n",
    "If `just_recursive` is producing a \"sanitized\" version of a dataclass, how should it handle inheritance? Should it mirror the parents of the target dataclass?"
   ]
  },
  {
   "cell_type": "code",
   "execution_count": null,
   "id": "2bac9bf2",
   "metadata": {},
   "outputs": [],
   "source": []
  },
  {
   "cell_type": "markdown",
   "id": "3c060f92",
   "metadata": {},
   "source": [
    "## Jasha proposal"
   ]
  },
  {
   "cell_type": "code",
   "execution_count": 1,
   "id": "8ceea2c7",
   "metadata": {},
   "outputs": [],
   "source": [
    "\"\"\"\n",
    "A few months ago @rsokl shared a vision with me: what if arbitrary python objects could be\n",
    "serialized to an OmegaConf-compatible format, then modified and composed using Hydra, and finally\n",
    "reanimated with a call to `instantiate`?\n",
    "\n",
    "In this literate program, I outline an approach to automatic, recursive conversion of\n",
    "OmegaConf-incompatible dataclass instances to an OmegaConf-compatible form. This is something like a\n",
    "poor man's implementation of the auto-config support proposed in hydra-zen issue\n",
    "https://github.com/mit-ll-responsible-ai/hydra-zen/issues/257 .\n",
    "\"\"\"\n",
    "\n",
    "#######################\n",
    "# Motivating use case #\n",
    "#######################\n",
    "\n",
    "# Below we create an object `foobar` containing data and type-hints unsupported by Hydra.\n",
    "\n",
    "from dataclasses import dataclass\n",
    "from typing import Any, Callable\n",
    "from typing_extensions import TypeAlias\n",
    "\n",
    "Interface1: TypeAlias = Callable[[int], int]\n",
    "Interface2: TypeAlias = Callable[[str], str]\n",
    "\n",
    "\n",
    "@dataclass\n",
    "class Nested:\n",
    "    x: Any\n",
    "\n",
    "\n",
    "@dataclass\n",
    "class Stuff:\n",
    "    field1: Interface1\n",
    "    field2: Interface2\n",
    "    field3: Nested\n",
    "\n",
    "\n",
    "def foo(i: int) -> int:\n",
    "    return i\n",
    "\n",
    "\n",
    "def bar(s: str) -> str:\n",
    "    return s\n",
    "\n",
    "\n",
    "def baz(f: float) -> float:\n",
    "    return f\n",
    "\n",
    "\n",
    "foobar = Stuff(foo, bar, Nested(baz))\n"
   ]
  },
  {
   "cell_type": "code",
   "execution_count": 2,
   "id": "13aa9a91",
   "metadata": {},
   "outputs": [],
   "source": [
    "\n",
    "###############\n",
    "# The problem #\n",
    "###############\n",
    "\n",
    "# The type hints `Interface1` and `Interface2` are not supported by OmegaConf, and neither are the\n",
    "# values `foo`/`bar`/`baz`. As such, we cannot serialize the object `foobar` using OmegaConf:\n",
    "\n",
    "from omegaconf import OmegaConf, ValidationError\n",
    "from omegaconf.errors import ConfigTypeError\n",
    "from pytest import raises\n",
    "\n",
    "with raises((ValidationError, ConfigTypeError)):  # I get ConfigTypeError\n",
    "    OmegaConf.structured(foobar)"
   ]
  },
  {
   "cell_type": "code",
   "execution_count": 3,
   "id": "e08ef83a",
   "metadata": {},
   "outputs": [],
   "source": [
    "\n",
    "\n",
    "# This means `foobar` cannot pariticipate in config composition via Hydra.\n",
    "\n",
    "############\n",
    "# The Goal #\n",
    "############\n",
    "\n",
    "# Given `foobar`, how can we create a Hydra-compatible dataclass `BuildsFooBar` such that\n",
    "# `instantiate(BuildsFooBar) == foobar`?\n",
    "\n",
    "# Here is a solution using `hydra_zen.builds`:\n",
    "\n",
    "from hydra.utils import instantiate\n",
    "from hydra_zen import builds\n",
    "\n",
    "BuildsFooBar = builds(Stuff, foo, bar, builds(Nested, baz))\n",
    "assert instantiate(BuildsFooBar) == foobar\n",
    "assert OmegaConf.to_yaml(BuildsFooBar) == \"\"\"\\\n",
    "_target_: __main__.Stuff\n",
    "_args_:\n",
    "- _target_: hydra_zen.funcs.get_obj\n",
    "  path: __main__.foo\n",
    "- _target_: hydra_zen.funcs.get_obj\n",
    "  path: __main__.bar\n",
    "- _target_: __main__.Nested\n",
    "  _args_:\n",
    "  - _target_: hydra_zen.funcs.get_obj\n",
    "    path: __main__.baz\n",
    "\"\"\""
   ]
  },
  {
   "cell_type": "code",
   "execution_count": 4,
   "id": "e40c7bb5",
   "metadata": {},
   "outputs": [],
   "source": [
    "# Unlike `foobar` itself, the dataclass `BuildsFooBar` (and its instances) are fully compatible with\n",
    "# OmegaConf + Hydra.\n",
    "\n",
    "# How can the above workflow be improved? Ideally, we'd be able to transform the instance `foobar`\n",
    "# into the class `BuildsFooBar` in a fully-automatic fashion. I envision something like this:\n",
    "\n",
    "#   BuildsFooBar2 = recursive_just(foobar)\n",
    "#   assert instantiate(BuildsFooBar2) == foobar\n",
    "\n",
    "# The idea is for `recursive_just(obj)` to visit sub-objects of `obj`, converting each of them\n",
    "# to be Hydra-compatible. Like the non-recursive `hydra_zen.just` function, this proposed \"recursive\n",
    "# just\" operator is idempotent.\n",
    "\n",
    "\n",
    "############################\n",
    "# Prototype implementation #\n",
    "############################\n",
    "\n",
    "from dataclasses import fields, is_dataclass\n",
    "from hydra_zen import just\n",
    "\n",
    "\n",
    "def recursive_just(obj):\n",
    "    if is_dataclass(obj) and not isinstance(obj, type):\n",
    "        # obj is a dataclass instance\n",
    "        converted_fields = {}\n",
    "        for field in fields(obj):\n",
    "            value = getattr(obj, field.name)\n",
    "            converted_fields[field.name] = recursive_just(value)\n",
    "        return builds(type(obj), **converted_fields)\n",
    "\n",
    "    else:\n",
    "        return just(obj)\n",
    "\n",
    "\n",
    "BuildsFooBar2 = recursive_just(foobar)\n",
    "assert instantiate(BuildsFooBar2) == foobar\n",
    "assert OmegaConf.to_yaml(BuildsFooBar2) == \"\"\"\\\n",
    "_target_: __main__.Stuff\n",
    "field1:\n",
    "  _target_: hydra_zen.funcs.get_obj\n",
    "  path: __main__.foo\n",
    "field2:\n",
    "  _target_: hydra_zen.funcs.get_obj\n",
    "  path: __main__.bar\n",
    "field3:\n",
    "  _target_: __main__.Nested\n",
    "  x:\n",
    "    _target_: hydra_zen.funcs.get_obj\n",
    "    path: __main__.baz\n",
    "\"\"\""
   ]
  },
  {
   "cell_type": "code",
   "execution_count": 5,
   "id": "f9a0dd56",
   "metadata": {},
   "outputs": [
    {
     "data": {
      "text/plain": [
       "Builds_Stuff(_target_='__main__.Stuff', field1=<class 'types.Just_foo'>, field2=<class 'types.Just_bar'>, field3=<class 'types.Builds_Nested'>)"
      ]
     },
     "execution_count": 5,
     "metadata": {},
     "output_type": "execute_result"
    }
   ],
   "source": [
    "BuildsFooBar2()"
   ]
  },
  {
   "cell_type": "code",
   "execution_count": 6,
   "id": "dddae1ee",
   "metadata": {},
   "outputs": [
    {
     "data": {
      "text/plain": [
       "Stuff(field1=<function foo at 0x000001B1BF5E8B80>, field2=<function bar at 0x000001B1BF65AC10>, field3=Nested(x=<function baz at 0x000001B1BF65ADC0>))"
      ]
     },
     "execution_count": 6,
     "metadata": {},
     "output_type": "execute_result"
    }
   ],
   "source": [
    "instantiate(BuildsFooBar2)"
   ]
  },
  {
   "cell_type": "code",
   "execution_count": 7,
   "id": "6a74036d",
   "metadata": {},
   "outputs": [],
   "source": [
    "# Current behavior of `just` on dataclasses\n",
    "\n",
    "from hydra_zen import make_config\n",
    "\n",
    "Conf = make_config(x=1, y=\"hi\")\n",
    "conf = Conf()\n",
    "\n",
    "assert just(Conf) is Conf\n",
    "assert just(conf) is conf"
   ]
  },
  {
   "cell_type": "code",
   "execution_count": null,
   "id": "42bda668",
   "metadata": {},
   "outputs": [],
   "source": []
  },
  {
   "cell_type": "markdown",
   "id": "566321af",
   "metadata": {},
   "source": [
    "Thanks so much for taking the time to write this up, Jasha! I like `recursive_just` and feel like it fits in quite nicely with the current behavior of `just`.\n",
    "\n",
    "### A brief introduction to `just`\n",
    "For those who aren't familiar with `just`, I'll provide a brief introduction.\n",
    "\n",
    "The idea behind `just` is: you give it an object that is not natively supported by Hydra, and it will create a config that, when instantiated, \"just\" returns that object. Originally `just` was used to make it easy to create a config that simply imports an object upon instantiation:\n",
    "\n",
    "```python\n",
    "class A: ...\n",
    "\n",
    "instantiate(just(A)) is A\n",
    "\n",
    "print(to_yaml(just(A)))\n",
    "\n",
    "# prints..\n",
    "```\n",
    "\n",
    "```\n",
    "_target_: hydra_zen.funcs.get_obj\n",
    "path: __main__.A\n",
    "```\n",
    "\n",
    "But `just` has since become more general-purpose, and can create configs for values from [a wider variety of types](https://mit-ll-responsible-ai.github.io/hydra-zen/api_reference.html#additional-types-supported-via-hydra-zen).\n",
    "Let me summarize the current behaviors of `just` to demonstrate:\n"
   ]
  },
  {
   "cell_type": "code",
   "execution_count": 8,
   "id": "0cf125e7",
   "metadata": {},
   "outputs": [],
   "source": [
    "# basic `just` behavior\n",
    "\n",
    "\n",
    "# `just` is a no-op on Hydra-compatible primitives. \n",
    "# This includes all dataclass objects & instances – even those with fields incompatible with Hydra\n",
    "assert just(1) == 1\n",
    "\n",
    "assert is_dataclass(foobar)\n",
    "assert just(foobar) is foobar  # note: foobar is not compatible \n",
    "\n",
    "assert just([1, 2]) == [1, 2]"
   ]
  },
  {
   "cell_type": "code",
   "execution_count": 9,
   "id": "fd123992",
   "metadata": {},
   "outputs": [],
   "source": [
    "from hydra_zen import to_yaml"
   ]
  },
  {
   "cell_type": "code",
   "execution_count": 10,
   "id": "75a6b7d1",
   "metadata": {},
   "outputs": [],
   "source": [
    "# `just` creates `builds(get_obj, <target>)` when `<target>` is a function or (non-dataclass) class-object\n",
    "class A: ...\n",
    "\n",
    "def func(x): ...\n",
    "    \n",
    "assert instantiate(just(A)) is A\n",
    "assert instantiate(just(func)) is func"
   ]
  },
  {
   "cell_type": "code",
   "execution_count": 11,
   "id": "ad88a237",
   "metadata": {},
   "outputs": [],
   "source": [
    "# `just` uses `builds` to create targeted structured configs to describe data that\n",
    "# is not compatible with Hydra, but that has specialized support via hydra-zen\n",
    "#\n",
    "# See https://mit-ll-responsible-ai.github.io/hydra-zen/api_reference.html#additional-types-supported-via-hydra-zen\n",
    "\n",
    "# Support for complex numbers\n",
    "assert instantiate(just(1+2j)) == 1+2j\n",
    "\n",
    "# Support for partial'd functions\n",
    "from functools import partial\n",
    "\n",
    "partial_f = partial(func, x=2)\n",
    "just_partial_f = just(partial_f)\n",
    "\n",
    "assert OmegaConf.to_yaml(just_partial_f) == \"\"\"\\\n",
    "_target_: __main__.func\n",
    "_partial_: true\n",
    "x: 2\n",
    "\"\"\""
   ]
  },
  {
   "cell_type": "code",
   "execution_count": 12,
   "id": "edcbb7cb",
   "metadata": {},
   "outputs": [],
   "source": [
    "# `just` automatically applies itself recursively on lists and dictionary values\n",
    "\n",
    "just_recursive_example = just({\"a\": [1+2j, func]})\n",
    "assert str(just_recursive_example) == \"\\\n",
    "{'a': [ConfigComplex(real=1.0, imag=2.0, _target_='builtins.complex'), <class 'types.Just_func'>]}\"\n",
    "\n",
    "assert instantiate(just_recursive_example) == {\"a\": [1+2j, func]}"
   ]
  },
  {
   "cell_type": "markdown",
   "id": "b3537d44",
   "metadata": {},
   "source": [
    "Lastly, it is useful to note that hydra-zen's `builds` function automatically applies `just` on the target's configured values"
   ]
  },
  {
   "cell_type": "code",
   "execution_count": 13,
   "id": "7b688105",
   "metadata": {},
   "outputs": [],
   "source": [
    "assert instantiate(builds(tuple, [1+2j, func])) == (1+2j, func)"
   ]
  },
  {
   "cell_type": "markdown",
   "id": "d27832e2",
   "metadata": {},
   "source": [
    "This includes fields that are populated from the function's signature."
   ]
  },
  {
   "cell_type": "code",
   "execution_count": 14,
   "id": "93f9b1f5",
   "metadata": {},
   "outputs": [],
   "source": [
    "def has_sig(x=[1+2j, func]): return x\n",
    "\n",
    "Conf = builds(has_sig, populate_full_signature=True)\n",
    "assert OmegaConf.to_yaml(Conf) == \"\"\"\\\n",
    "_target_: __main__.has_sig\n",
    "x:\n",
    "- real: 1.0\n",
    "  imag: 2.0\n",
    "  _target_: builtins.complex\n",
    "- _target_: hydra_zen.funcs.get_obj\n",
    "  path: __main__.func\n",
    "\"\"\"\n",
    "\n",
    "assert instantiate(Conf) == [(1+2j), func]"
   ]
  },
  {
   "cell_type": "markdown",
   "id": "26406865",
   "metadata": {},
   "source": [
    "### Incorporating `recursive_just`\n",
    "\n",
    "As noted above, `just` is currently a pass-through returns all dataclass types and instances. This is true even if the dataclass contains fields that are not compatible with Hydra. \n",
    "\n",
    "Given the "
   ]
  },
  {
   "cell_type": "code",
   "execution_count": 15,
   "id": "d0011073",
   "metadata": {},
   "outputs": [],
   "source": [
    "def recursive_just(obj):\n",
    "    if is_dataclass(obj) and not isinstance(obj, type):\n",
    "        # obj is a dataclass instance\n",
    "        converted_fields = {}\n",
    "        for field in fields(obj):\n",
    "            value = getattr(obj, field.name)\n",
    "            converted_fields[field.name] = recursive_just(value)\n",
    "        return builds(type(obj), **converted_fields, populate_full_signature=True, hydra_convert=\"all\")\n",
    "\n",
    "    else:\n",
    "        return just(obj)"
   ]
  },
  {
   "cell_type": "code",
   "execution_count": 16,
   "id": "0c32abc0",
   "metadata": {},
   "outputs": [],
   "source": [
    "from pydantic.dataclasses import dataclass"
   ]
  },
  {
   "cell_type": "code",
   "execution_count": 17,
   "id": "3a5e30fb",
   "metadata": {},
   "outputs": [],
   "source": [
    "import dataclasses\n",
    "from typing import List, Optional\n",
    "\n",
    "from pydantic import Field\n",
    "from pydantic.dataclasses import dataclass as pydantic_dataclass\n",
    "\n",
    "\n",
    "@pydantic_dataclass\n",
    "class User:\n",
    "    id: int\n",
    "    name: str = 'John Doe'\n",
    "    friends: List[int] = dataclasses.field(default_factory=lambda: [0])\n",
    "    age: Optional[int] = dataclasses.field(\n",
    "        default=None,\n",
    "        metadata=dict(title='The age of the user', description='do not lie!')\n",
    "    )\n",
    "    height: Optional[int] = Field(None, title='The height in cm', ge=50, le=300)"
   ]
  },
  {
   "cell_type": "code",
   "execution_count": 23,
   "id": "1058add9",
   "metadata": {},
   "outputs": [
    {
     "ename": "ValidationError",
     "evalue": "Value 'title='The height in cm' ge=50 le=300 extra={}' of type 'pydantic.fields.FieldInfo' could not be converted to Integer\n    full_key: height\n    object_type=User",
     "output_type": "error",
     "traceback": [
      "\u001b[1;31m---------------------------------------------------------------------------\u001b[0m",
      "\u001b[1;31mValidationError\u001b[0m                           Traceback (most recent call last)",
      "\u001b[1;32m<ipython-input-23-e8f2d459b8f8>\u001b[0m in \u001b[0;36m<module>\u001b[1;34m\u001b[0m\n\u001b[1;32m----> 1\u001b[1;33m \u001b[0minstantiate\u001b[0m\u001b[1;33m(\u001b[0m\u001b[0mUser\u001b[0m\u001b[1;33m)\u001b[0m\u001b[1;33m\u001b[0m\u001b[1;33m\u001b[0m\u001b[0m\n\u001b[0m",
      "\u001b[1;32m~\\Anaconda3\\envs\\hydra-zen\\lib\\site-packages\\hydra\\_internal\\instantiate\\_instantiate2.py\u001b[0m in \u001b[0;36minstantiate\u001b[1;34m(config, *args, **kwargs)\u001b[0m\n\u001b[0;32m    200\u001b[0m     \u001b[1;31m# Structured Config always converted first to OmegaConf\u001b[0m\u001b[1;33m\u001b[0m\u001b[1;33m\u001b[0m\u001b[1;33m\u001b[0m\u001b[0m\n\u001b[0;32m    201\u001b[0m     \u001b[1;32mif\u001b[0m \u001b[0mis_structured_config\u001b[0m\u001b[1;33m(\u001b[0m\u001b[0mconfig\u001b[0m\u001b[1;33m)\u001b[0m \u001b[1;32mor\u001b[0m \u001b[0misinstance\u001b[0m\u001b[1;33m(\u001b[0m\u001b[0mconfig\u001b[0m\u001b[1;33m,\u001b[0m \u001b[1;33m(\u001b[0m\u001b[0mdict\u001b[0m\u001b[1;33m,\u001b[0m \u001b[0mlist\u001b[0m\u001b[1;33m)\u001b[0m\u001b[1;33m)\u001b[0m\u001b[1;33m:\u001b[0m\u001b[1;33m\u001b[0m\u001b[1;33m\u001b[0m\u001b[0m\n\u001b[1;32m--> 202\u001b[1;33m         \u001b[0mconfig\u001b[0m \u001b[1;33m=\u001b[0m \u001b[0mOmegaConf\u001b[0m\u001b[1;33m.\u001b[0m\u001b[0mstructured\u001b[0m\u001b[1;33m(\u001b[0m\u001b[0mconfig\u001b[0m\u001b[1;33m,\u001b[0m \u001b[0mflags\u001b[0m\u001b[1;33m=\u001b[0m\u001b[1;33m{\u001b[0m\u001b[1;34m\"allow_objects\"\u001b[0m\u001b[1;33m:\u001b[0m \u001b[1;32mTrue\u001b[0m\u001b[1;33m}\u001b[0m\u001b[1;33m)\u001b[0m\u001b[1;33m\u001b[0m\u001b[1;33m\u001b[0m\u001b[0m\n\u001b[0m\u001b[0;32m    203\u001b[0m \u001b[1;33m\u001b[0m\u001b[0m\n\u001b[0;32m    204\u001b[0m     \u001b[1;32mif\u001b[0m \u001b[0mOmegaConf\u001b[0m\u001b[1;33m.\u001b[0m\u001b[0mis_dict\u001b[0m\u001b[1;33m(\u001b[0m\u001b[0mconfig\u001b[0m\u001b[1;33m)\u001b[0m\u001b[1;33m:\u001b[0m\u001b[1;33m\u001b[0m\u001b[1;33m\u001b[0m\u001b[0m\n",
      "\u001b[1;32m~\\Anaconda3\\envs\\hydra-zen\\lib\\site-packages\\omegaconf\\omegaconf.py\u001b[0m in \u001b[0;36mstructured\u001b[1;34m(obj, parent, flags)\u001b[0m\n\u001b[0;32m    121\u001b[0m         \u001b[0mflags\u001b[0m\u001b[1;33m:\u001b[0m \u001b[0mOptional\u001b[0m\u001b[1;33m[\u001b[0m\u001b[0mDict\u001b[0m\u001b[1;33m[\u001b[0m\u001b[0mstr\u001b[0m\u001b[1;33m,\u001b[0m \u001b[0mbool\u001b[0m\u001b[1;33m]\u001b[0m\u001b[1;33m]\u001b[0m \u001b[1;33m=\u001b[0m \u001b[1;32mNone\u001b[0m\u001b[1;33m,\u001b[0m\u001b[1;33m\u001b[0m\u001b[1;33m\u001b[0m\u001b[0m\n\u001b[0;32m    122\u001b[0m     ) -> Any:\n\u001b[1;32m--> 123\u001b[1;33m         \u001b[1;32mreturn\u001b[0m \u001b[0mOmegaConf\u001b[0m\u001b[1;33m.\u001b[0m\u001b[0mcreate\u001b[0m\u001b[1;33m(\u001b[0m\u001b[0mobj\u001b[0m\u001b[1;33m,\u001b[0m \u001b[0mparent\u001b[0m\u001b[1;33m,\u001b[0m \u001b[0mflags\u001b[0m\u001b[1;33m)\u001b[0m\u001b[1;33m\u001b[0m\u001b[1;33m\u001b[0m\u001b[0m\n\u001b[0m\u001b[0;32m    124\u001b[0m \u001b[1;33m\u001b[0m\u001b[0m\n\u001b[0;32m    125\u001b[0m     \u001b[1;33m@\u001b[0m\u001b[0mstaticmethod\u001b[0m\u001b[1;33m\u001b[0m\u001b[1;33m\u001b[0m\u001b[0m\n",
      "\u001b[1;32m~\\Anaconda3\\envs\\hydra-zen\\lib\\site-packages\\omegaconf\\omegaconf.py\u001b[0m in \u001b[0;36mcreate\u001b[1;34m(obj, parent, flags)\u001b[0m\n\u001b[0;32m    174\u001b[0m         \u001b[0mflags\u001b[0m\u001b[1;33m:\u001b[0m \u001b[0mOptional\u001b[0m\u001b[1;33m[\u001b[0m\u001b[0mDict\u001b[0m\u001b[1;33m[\u001b[0m\u001b[0mstr\u001b[0m\u001b[1;33m,\u001b[0m \u001b[0mbool\u001b[0m\u001b[1;33m]\u001b[0m\u001b[1;33m]\u001b[0m \u001b[1;33m=\u001b[0m \u001b[1;32mNone\u001b[0m\u001b[1;33m,\u001b[0m\u001b[1;33m\u001b[0m\u001b[1;33m\u001b[0m\u001b[0m\n\u001b[0;32m    175\u001b[0m     ) -> Union[DictConfig, ListConfig]:\n\u001b[1;32m--> 176\u001b[1;33m         return OmegaConf._create_impl(\n\u001b[0m\u001b[0;32m    177\u001b[0m             \u001b[0mobj\u001b[0m\u001b[1;33m=\u001b[0m\u001b[0mobj\u001b[0m\u001b[1;33m,\u001b[0m\u001b[1;33m\u001b[0m\u001b[1;33m\u001b[0m\u001b[0m\n\u001b[0;32m    178\u001b[0m             \u001b[0mparent\u001b[0m\u001b[1;33m=\u001b[0m\u001b[0mparent\u001b[0m\u001b[1;33m,\u001b[0m\u001b[1;33m\u001b[0m\u001b[1;33m\u001b[0m\u001b[0m\n",
      "\u001b[1;32m~\\Anaconda3\\envs\\hydra-zen\\lib\\site-packages\\omegaconf\\omegaconf.py\u001b[0m in \u001b[0;36m_create_impl\u001b[1;34m(obj, parent, flags)\u001b[0m\n\u001b[0;32m    880\u001b[0m                         )\n\u001b[0;32m    881\u001b[0m         \u001b[1;32mexcept\u001b[0m \u001b[0mOmegaConfBaseException\u001b[0m \u001b[1;32mas\u001b[0m \u001b[0me\u001b[0m\u001b[1;33m:\u001b[0m\u001b[1;33m\u001b[0m\u001b[1;33m\u001b[0m\u001b[0m\n\u001b[1;32m--> 882\u001b[1;33m             \u001b[0mformat_and_raise\u001b[0m\u001b[1;33m(\u001b[0m\u001b[0mnode\u001b[0m\u001b[1;33m=\u001b[0m\u001b[1;32mNone\u001b[0m\u001b[1;33m,\u001b[0m \u001b[0mkey\u001b[0m\u001b[1;33m=\u001b[0m\u001b[1;32mNone\u001b[0m\u001b[1;33m,\u001b[0m \u001b[0mvalue\u001b[0m\u001b[1;33m=\u001b[0m\u001b[1;32mNone\u001b[0m\u001b[1;33m,\u001b[0m \u001b[0mmsg\u001b[0m\u001b[1;33m=\u001b[0m\u001b[0mstr\u001b[0m\u001b[1;33m(\u001b[0m\u001b[0me\u001b[0m\u001b[1;33m)\u001b[0m\u001b[1;33m,\u001b[0m \u001b[0mcause\u001b[0m\u001b[1;33m=\u001b[0m\u001b[0me\u001b[0m\u001b[1;33m)\u001b[0m\u001b[1;33m\u001b[0m\u001b[1;33m\u001b[0m\u001b[0m\n\u001b[0m\u001b[0;32m    883\u001b[0m             \u001b[1;32massert\u001b[0m \u001b[1;32mFalse\u001b[0m\u001b[1;33m\u001b[0m\u001b[1;33m\u001b[0m\u001b[0m\n\u001b[0;32m    884\u001b[0m \u001b[1;33m\u001b[0m\u001b[0m\n",
      "\u001b[1;32m~\\Anaconda3\\envs\\hydra-zen\\lib\\site-packages\\omegaconf\\_utils.py\u001b[0m in \u001b[0;36mformat_and_raise\u001b[1;34m(node, key, value, msg, cause, type_override)\u001b[0m\n\u001b[0;32m    791\u001b[0m             \u001b[0mex\u001b[0m \u001b[1;33m=\u001b[0m \u001b[0mtype_override\u001b[0m\u001b[1;33m(\u001b[0m\u001b[0mstr\u001b[0m\u001b[1;33m(\u001b[0m\u001b[0mcause\u001b[0m\u001b[1;33m)\u001b[0m\u001b[1;33m)\u001b[0m\u001b[1;33m\u001b[0m\u001b[1;33m\u001b[0m\u001b[0m\n\u001b[0;32m    792\u001b[0m             \u001b[0mex\u001b[0m\u001b[1;33m.\u001b[0m\u001b[0m__dict__\u001b[0m \u001b[1;33m=\u001b[0m \u001b[0mcopy\u001b[0m\u001b[1;33m.\u001b[0m\u001b[0mdeepcopy\u001b[0m\u001b[1;33m(\u001b[0m\u001b[0mcause\u001b[0m\u001b[1;33m.\u001b[0m\u001b[0m__dict__\u001b[0m\u001b[1;33m)\u001b[0m\u001b[1;33m\u001b[0m\u001b[1;33m\u001b[0m\u001b[0m\n\u001b[1;32m--> 793\u001b[1;33m         \u001b[0m_raise\u001b[0m\u001b[1;33m(\u001b[0m\u001b[0mex\u001b[0m\u001b[1;33m,\u001b[0m \u001b[0mcause\u001b[0m\u001b[1;33m)\u001b[0m\u001b[1;33m\u001b[0m\u001b[1;33m\u001b[0m\u001b[0m\n\u001b[0m\u001b[0;32m    794\u001b[0m \u001b[1;33m\u001b[0m\u001b[0m\n\u001b[0;32m    795\u001b[0m     \u001b[0mobject_type\u001b[0m\u001b[1;33m:\u001b[0m \u001b[0mOptional\u001b[0m\u001b[1;33m[\u001b[0m\u001b[0mType\u001b[0m\u001b[1;33m[\u001b[0m\u001b[0mAny\u001b[0m\u001b[1;33m]\u001b[0m\u001b[1;33m]\u001b[0m\u001b[1;33m\u001b[0m\u001b[1;33m\u001b[0m\u001b[0m\n",
      "\u001b[1;32m~\\Anaconda3\\envs\\hydra-zen\\lib\\site-packages\\omegaconf\\_utils.py\u001b[0m in \u001b[0;36m_raise\u001b[1;34m(ex, cause)\u001b[0m\n\u001b[0;32m    769\u001b[0m     \u001b[1;32melse\u001b[0m\u001b[1;33m:\u001b[0m\u001b[1;33m\u001b[0m\u001b[1;33m\u001b[0m\u001b[0m\n\u001b[0;32m    770\u001b[0m         \u001b[0mex\u001b[0m\u001b[1;33m.\u001b[0m\u001b[0m__cause__\u001b[0m \u001b[1;33m=\u001b[0m \u001b[1;32mNone\u001b[0m\u001b[1;33m\u001b[0m\u001b[1;33m\u001b[0m\u001b[0m\n\u001b[1;32m--> 771\u001b[1;33m     \u001b[1;32mraise\u001b[0m \u001b[0mex\u001b[0m\u001b[1;33m.\u001b[0m\u001b[0mwith_traceback\u001b[0m\u001b[1;33m(\u001b[0m\u001b[0msys\u001b[0m\u001b[1;33m.\u001b[0m\u001b[0mexc_info\u001b[0m\u001b[1;33m(\u001b[0m\u001b[1;33m)\u001b[0m\u001b[1;33m[\u001b[0m\u001b[1;36m2\u001b[0m\u001b[1;33m]\u001b[0m\u001b[1;33m)\u001b[0m  \u001b[1;31m# set env var OC_CAUSE=1 for full trace\u001b[0m\u001b[1;33m\u001b[0m\u001b[1;33m\u001b[0m\u001b[0m\n\u001b[0m\u001b[0;32m    772\u001b[0m \u001b[1;33m\u001b[0m\u001b[0m\n\u001b[0;32m    773\u001b[0m \u001b[1;33m\u001b[0m\u001b[0m\n",
      "\u001b[1;32m~\\Anaconda3\\envs\\hydra-zen\\lib\\site-packages\\omegaconf\\omegaconf.py\u001b[0m in \u001b[0;36m_create_impl\u001b[1;34m(obj, parent, flags)\u001b[0m\n\u001b[0;32m    841\u001b[0m                         \u001b[0mobj_type\u001b[0m \u001b[1;33m=\u001b[0m \u001b[0mOmegaConf\u001b[0m\u001b[1;33m.\u001b[0m\u001b[0mget_type\u001b[0m\u001b[1;33m(\u001b[0m\u001b[0mobj\u001b[0m\u001b[1;33m)\u001b[0m\u001b[1;33m\u001b[0m\u001b[1;33m\u001b[0m\u001b[0m\n\u001b[0;32m    842\u001b[0m                         \u001b[0mkey_type\u001b[0m\u001b[1;33m,\u001b[0m \u001b[0melement_type\u001b[0m \u001b[1;33m=\u001b[0m \u001b[0mget_dict_key_value_types\u001b[0m\u001b[1;33m(\u001b[0m\u001b[0mobj_type\u001b[0m\u001b[1;33m)\u001b[0m\u001b[1;33m\u001b[0m\u001b[1;33m\u001b[0m\u001b[0m\n\u001b[1;32m--> 843\u001b[1;33m                         return DictConfig(\n\u001b[0m\u001b[0;32m    844\u001b[0m                             \u001b[0mcontent\u001b[0m\u001b[1;33m=\u001b[0m\u001b[0mobj\u001b[0m\u001b[1;33m,\u001b[0m\u001b[1;33m\u001b[0m\u001b[1;33m\u001b[0m\u001b[0m\n\u001b[0;32m    845\u001b[0m                             \u001b[0mparent\u001b[0m\u001b[1;33m=\u001b[0m\u001b[0mparent\u001b[0m\u001b[1;33m,\u001b[0m\u001b[1;33m\u001b[0m\u001b[1;33m\u001b[0m\u001b[0m\n",
      "\u001b[1;32m~\\Anaconda3\\envs\\hydra-zen\\lib\\site-packages\\omegaconf\\dictconfig.py\u001b[0m in \u001b[0;36m__init__\u001b[1;34m(self, content, key, parent, ref_type, key_type, element_type, is_optional, flags)\u001b[0m\n\u001b[0;32m    109\u001b[0m                 \u001b[0mself\u001b[0m\u001b[1;33m.\u001b[0m\u001b[0m_set_value\u001b[0m\u001b[1;33m(\u001b[0m\u001b[0mcontent\u001b[0m\u001b[1;33m,\u001b[0m \u001b[0mflags\u001b[0m\u001b[1;33m=\u001b[0m\u001b[0mflags\u001b[0m\u001b[1;33m)\u001b[0m\u001b[1;33m\u001b[0m\u001b[1;33m\u001b[0m\u001b[0m\n\u001b[0;32m    110\u001b[0m         \u001b[1;32mexcept\u001b[0m \u001b[0mException\u001b[0m \u001b[1;32mas\u001b[0m \u001b[0mex\u001b[0m\u001b[1;33m:\u001b[0m\u001b[1;33m\u001b[0m\u001b[1;33m\u001b[0m\u001b[0m\n\u001b[1;32m--> 111\u001b[1;33m             \u001b[0mformat_and_raise\u001b[0m\u001b[1;33m(\u001b[0m\u001b[0mnode\u001b[0m\u001b[1;33m=\u001b[0m\u001b[1;32mNone\u001b[0m\u001b[1;33m,\u001b[0m \u001b[0mkey\u001b[0m\u001b[1;33m=\u001b[0m\u001b[0mkey\u001b[0m\u001b[1;33m,\u001b[0m \u001b[0mvalue\u001b[0m\u001b[1;33m=\u001b[0m\u001b[1;32mNone\u001b[0m\u001b[1;33m,\u001b[0m \u001b[0mcause\u001b[0m\u001b[1;33m=\u001b[0m\u001b[0mex\u001b[0m\u001b[1;33m,\u001b[0m \u001b[0mmsg\u001b[0m\u001b[1;33m=\u001b[0m\u001b[0mstr\u001b[0m\u001b[1;33m(\u001b[0m\u001b[0mex\u001b[0m\u001b[1;33m)\u001b[0m\u001b[1;33m)\u001b[0m\u001b[1;33m\u001b[0m\u001b[1;33m\u001b[0m\u001b[0m\n\u001b[0m\u001b[0;32m    112\u001b[0m \u001b[1;33m\u001b[0m\u001b[0m\n\u001b[0;32m    113\u001b[0m     \u001b[1;32mdef\u001b[0m \u001b[0m__deepcopy__\u001b[0m\u001b[1;33m(\u001b[0m\u001b[0mself\u001b[0m\u001b[1;33m,\u001b[0m \u001b[0mmemo\u001b[0m\u001b[1;33m:\u001b[0m \u001b[0mDict\u001b[0m\u001b[1;33m[\u001b[0m\u001b[0mint\u001b[0m\u001b[1;33m,\u001b[0m \u001b[0mAny\u001b[0m\u001b[1;33m]\u001b[0m\u001b[1;33m)\u001b[0m \u001b[1;33m->\u001b[0m \u001b[1;34m\"DictConfig\"\u001b[0m\u001b[1;33m:\u001b[0m\u001b[1;33m\u001b[0m\u001b[1;33m\u001b[0m\u001b[0m\n",
      "\u001b[1;32m~\\Anaconda3\\envs\\hydra-zen\\lib\\site-packages\\omegaconf\\_utils.py\u001b[0m in \u001b[0;36mformat_and_raise\u001b[1;34m(node, key, value, msg, cause, type_override)\u001b[0m\n\u001b[0;32m    791\u001b[0m             \u001b[0mex\u001b[0m \u001b[1;33m=\u001b[0m \u001b[0mtype_override\u001b[0m\u001b[1;33m(\u001b[0m\u001b[0mstr\u001b[0m\u001b[1;33m(\u001b[0m\u001b[0mcause\u001b[0m\u001b[1;33m)\u001b[0m\u001b[1;33m)\u001b[0m\u001b[1;33m\u001b[0m\u001b[1;33m\u001b[0m\u001b[0m\n\u001b[0;32m    792\u001b[0m             \u001b[0mex\u001b[0m\u001b[1;33m.\u001b[0m\u001b[0m__dict__\u001b[0m \u001b[1;33m=\u001b[0m \u001b[0mcopy\u001b[0m\u001b[1;33m.\u001b[0m\u001b[0mdeepcopy\u001b[0m\u001b[1;33m(\u001b[0m\u001b[0mcause\u001b[0m\u001b[1;33m.\u001b[0m\u001b[0m__dict__\u001b[0m\u001b[1;33m)\u001b[0m\u001b[1;33m\u001b[0m\u001b[1;33m\u001b[0m\u001b[0m\n\u001b[1;32m--> 793\u001b[1;33m         \u001b[0m_raise\u001b[0m\u001b[1;33m(\u001b[0m\u001b[0mex\u001b[0m\u001b[1;33m,\u001b[0m \u001b[0mcause\u001b[0m\u001b[1;33m)\u001b[0m\u001b[1;33m\u001b[0m\u001b[1;33m\u001b[0m\u001b[0m\n\u001b[0m\u001b[0;32m    794\u001b[0m \u001b[1;33m\u001b[0m\u001b[0m\n\u001b[0;32m    795\u001b[0m     \u001b[0mobject_type\u001b[0m\u001b[1;33m:\u001b[0m \u001b[0mOptional\u001b[0m\u001b[1;33m[\u001b[0m\u001b[0mType\u001b[0m\u001b[1;33m[\u001b[0m\u001b[0mAny\u001b[0m\u001b[1;33m]\u001b[0m\u001b[1;33m]\u001b[0m\u001b[1;33m\u001b[0m\u001b[1;33m\u001b[0m\u001b[0m\n",
      "\u001b[1;32m~\\Anaconda3\\envs\\hydra-zen\\lib\\site-packages\\omegaconf\\_utils.py\u001b[0m in \u001b[0;36m_raise\u001b[1;34m(ex, cause)\u001b[0m\n\u001b[0;32m    769\u001b[0m     \u001b[1;32melse\u001b[0m\u001b[1;33m:\u001b[0m\u001b[1;33m\u001b[0m\u001b[1;33m\u001b[0m\u001b[0m\n\u001b[0;32m    770\u001b[0m         \u001b[0mex\u001b[0m\u001b[1;33m.\u001b[0m\u001b[0m__cause__\u001b[0m \u001b[1;33m=\u001b[0m \u001b[1;32mNone\u001b[0m\u001b[1;33m\u001b[0m\u001b[1;33m\u001b[0m\u001b[0m\n\u001b[1;32m--> 771\u001b[1;33m     \u001b[1;32mraise\u001b[0m \u001b[0mex\u001b[0m\u001b[1;33m.\u001b[0m\u001b[0mwith_traceback\u001b[0m\u001b[1;33m(\u001b[0m\u001b[0msys\u001b[0m\u001b[1;33m.\u001b[0m\u001b[0mexc_info\u001b[0m\u001b[1;33m(\u001b[0m\u001b[1;33m)\u001b[0m\u001b[1;33m[\u001b[0m\u001b[1;36m2\u001b[0m\u001b[1;33m]\u001b[0m\u001b[1;33m)\u001b[0m  \u001b[1;31m# set env var OC_CAUSE=1 for full trace\u001b[0m\u001b[1;33m\u001b[0m\u001b[1;33m\u001b[0m\u001b[0m\n\u001b[0m\u001b[0;32m    772\u001b[0m \u001b[1;33m\u001b[0m\u001b[0m\n\u001b[0;32m    773\u001b[0m \u001b[1;33m\u001b[0m\u001b[0m\n",
      "\u001b[1;32m~\\Anaconda3\\envs\\hydra-zen\\lib\\site-packages\\omegaconf\\dictconfig.py\u001b[0m in \u001b[0;36m__init__\u001b[1;34m(self, content, key, parent, ref_type, key_type, element_type, is_optional, flags)\u001b[0m\n\u001b[0;32m     92\u001b[0m \u001b[1;33m\u001b[0m\u001b[0m\n\u001b[0;32m     93\u001b[0m             \u001b[1;32mif\u001b[0m \u001b[0mis_structured_config\u001b[0m\u001b[1;33m(\u001b[0m\u001b[0mcontent\u001b[0m\u001b[1;33m)\u001b[0m \u001b[1;32mor\u001b[0m \u001b[0mis_structured_config\u001b[0m\u001b[1;33m(\u001b[0m\u001b[0mref_type\u001b[0m\u001b[1;33m)\u001b[0m\u001b[1;33m:\u001b[0m\u001b[1;33m\u001b[0m\u001b[1;33m\u001b[0m\u001b[0m\n\u001b[1;32m---> 94\u001b[1;33m                 \u001b[0mself\u001b[0m\u001b[1;33m.\u001b[0m\u001b[0m_set_value\u001b[0m\u001b[1;33m(\u001b[0m\u001b[0mcontent\u001b[0m\u001b[1;33m,\u001b[0m \u001b[0mflags\u001b[0m\u001b[1;33m=\u001b[0m\u001b[0mflags\u001b[0m\u001b[1;33m)\u001b[0m\u001b[1;33m\u001b[0m\u001b[1;33m\u001b[0m\u001b[0m\n\u001b[0m\u001b[0;32m     95\u001b[0m                 if is_structured_config_frozen(content) or is_structured_config_frozen(\n\u001b[0;32m     96\u001b[0m                     \u001b[0mref_type\u001b[0m\u001b[1;33m\u001b[0m\u001b[1;33m\u001b[0m\u001b[0m\n",
      "\u001b[1;32m~\\Anaconda3\\envs\\hydra-zen\\lib\\site-packages\\omegaconf\\dictconfig.py\u001b[0m in \u001b[0;36m_set_value\u001b[1;34m(self, value, flags)\u001b[0m\n\u001b[0;32m    647\u001b[0m         \u001b[1;32mexcept\u001b[0m \u001b[0mException\u001b[0m \u001b[1;32mas\u001b[0m \u001b[0me\u001b[0m\u001b[1;33m:\u001b[0m\u001b[1;33m\u001b[0m\u001b[1;33m\u001b[0m\u001b[0m\n\u001b[0;32m    648\u001b[0m             \u001b[0mself\u001b[0m\u001b[1;33m.\u001b[0m\u001b[0m__dict__\u001b[0m\u001b[1;33m[\u001b[0m\u001b[1;34m\"_content\"\u001b[0m\u001b[1;33m]\u001b[0m \u001b[1;33m=\u001b[0m \u001b[0mprevious_content\u001b[0m\u001b[1;33m\u001b[0m\u001b[1;33m\u001b[0m\u001b[0m\n\u001b[1;32m--> 649\u001b[1;33m             \u001b[1;32mraise\u001b[0m \u001b[0me\u001b[0m\u001b[1;33m\u001b[0m\u001b[1;33m\u001b[0m\u001b[0m\n\u001b[0m\u001b[0;32m    650\u001b[0m \u001b[1;33m\u001b[0m\u001b[0m\n\u001b[0;32m    651\u001b[0m     def _set_value_impl(\n",
      "\u001b[1;32m~\\Anaconda3\\envs\\hydra-zen\\lib\\site-packages\\omegaconf\\dictconfig.py\u001b[0m in \u001b[0;36m_set_value\u001b[1;34m(self, value, flags)\u001b[0m\n\u001b[0;32m    644\u001b[0m         \u001b[1;32mtry\u001b[0m\u001b[1;33m:\u001b[0m\u001b[1;33m\u001b[0m\u001b[1;33m\u001b[0m\u001b[0m\n\u001b[0;32m    645\u001b[0m             \u001b[0mprevious_content\u001b[0m \u001b[1;33m=\u001b[0m \u001b[0mself\u001b[0m\u001b[1;33m.\u001b[0m\u001b[0m__dict__\u001b[0m\u001b[1;33m[\u001b[0m\u001b[1;34m\"_content\"\u001b[0m\u001b[1;33m]\u001b[0m\u001b[1;33m\u001b[0m\u001b[1;33m\u001b[0m\u001b[0m\n\u001b[1;32m--> 646\u001b[1;33m             \u001b[0mself\u001b[0m\u001b[1;33m.\u001b[0m\u001b[0m_set_value_impl\u001b[0m\u001b[1;33m(\u001b[0m\u001b[0mvalue\u001b[0m\u001b[1;33m,\u001b[0m \u001b[0mflags\u001b[0m\u001b[1;33m)\u001b[0m\u001b[1;33m\u001b[0m\u001b[1;33m\u001b[0m\u001b[0m\n\u001b[0m\u001b[0;32m    647\u001b[0m         \u001b[1;32mexcept\u001b[0m \u001b[0mException\u001b[0m \u001b[1;32mas\u001b[0m \u001b[0me\u001b[0m\u001b[1;33m:\u001b[0m\u001b[1;33m\u001b[0m\u001b[1;33m\u001b[0m\u001b[0m\n\u001b[0;32m    648\u001b[0m             \u001b[0mself\u001b[0m\u001b[1;33m.\u001b[0m\u001b[0m__dict__\u001b[0m\u001b[1;33m[\u001b[0m\u001b[1;34m\"_content\"\u001b[0m\u001b[1;33m]\u001b[0m \u001b[1;33m=\u001b[0m \u001b[0mprevious_content\u001b[0m\u001b[1;33m\u001b[0m\u001b[1;33m\u001b[0m\u001b[0m\n",
      "\u001b[1;32m~\\Anaconda3\\envs\\hydra-zen\\lib\\site-packages\\omegaconf\\dictconfig.py\u001b[0m in \u001b[0;36m_set_value_impl\u001b[1;34m(self, value, flags)\u001b[0m\n\u001b[0;32m    674\u001b[0m                 \u001b[0mself\u001b[0m\u001b[1;33m.\u001b[0m\u001b[0m_metadata\u001b[0m\u001b[1;33m.\u001b[0m\u001b[0mobject_type\u001b[0m \u001b[1;33m=\u001b[0m \u001b[1;32mNone\u001b[0m\u001b[1;33m\u001b[0m\u001b[1;33m\u001b[0m\u001b[0m\n\u001b[0;32m    675\u001b[0m                 \u001b[0mao\u001b[0m \u001b[1;33m=\u001b[0m \u001b[0mself\u001b[0m\u001b[1;33m.\u001b[0m\u001b[0m_get_flag\u001b[0m\u001b[1;33m(\u001b[0m\u001b[1;34m\"allow_objects\"\u001b[0m\u001b[1;33m)\u001b[0m\u001b[1;33m\u001b[0m\u001b[1;33m\u001b[0m\u001b[0m\n\u001b[1;32m--> 676\u001b[1;33m                 \u001b[0mdata\u001b[0m \u001b[1;33m=\u001b[0m \u001b[0mget_structured_config_data\u001b[0m\u001b[1;33m(\u001b[0m\u001b[0mvalue\u001b[0m\u001b[1;33m,\u001b[0m \u001b[0mallow_objects\u001b[0m\u001b[1;33m=\u001b[0m\u001b[0mao\u001b[0m\u001b[1;33m)\u001b[0m\u001b[1;33m\u001b[0m\u001b[1;33m\u001b[0m\u001b[0m\n\u001b[0m\u001b[0;32m    677\u001b[0m                 \u001b[1;32mwith\u001b[0m \u001b[0mflag_override\u001b[0m\u001b[1;33m(\u001b[0m\u001b[0mself\u001b[0m\u001b[1;33m,\u001b[0m \u001b[1;33m[\u001b[0m\u001b[1;34m\"struct\"\u001b[0m\u001b[1;33m,\u001b[0m \u001b[1;34m\"readonly\"\u001b[0m\u001b[1;33m]\u001b[0m\u001b[1;33m,\u001b[0m \u001b[1;32mFalse\u001b[0m\u001b[1;33m)\u001b[0m\u001b[1;33m:\u001b[0m\u001b[1;33m\u001b[0m\u001b[1;33m\u001b[0m\u001b[0m\n\u001b[0;32m    678\u001b[0m                     \u001b[1;32mfor\u001b[0m \u001b[0mk\u001b[0m\u001b[1;33m,\u001b[0m \u001b[0mv\u001b[0m \u001b[1;32min\u001b[0m \u001b[0mdata\u001b[0m\u001b[1;33m.\u001b[0m\u001b[0mitems\u001b[0m\u001b[1;33m(\u001b[0m\u001b[1;33m)\u001b[0m\u001b[1;33m:\u001b[0m\u001b[1;33m\u001b[0m\u001b[1;33m\u001b[0m\u001b[0m\n",
      "\u001b[1;32m~\\Anaconda3\\envs\\hydra-zen\\lib\\site-packages\\omegaconf\\_utils.py\u001b[0m in \u001b[0;36mget_structured_config_data\u001b[1;34m(obj, allow_objects)\u001b[0m\n\u001b[0;32m    479\u001b[0m ) -> Dict[str, Any]:\n\u001b[0;32m    480\u001b[0m     \u001b[1;32mif\u001b[0m \u001b[0mis_dataclass\u001b[0m\u001b[1;33m(\u001b[0m\u001b[0mobj\u001b[0m\u001b[1;33m)\u001b[0m\u001b[1;33m:\u001b[0m\u001b[1;33m\u001b[0m\u001b[1;33m\u001b[0m\u001b[0m\n\u001b[1;32m--> 481\u001b[1;33m         \u001b[1;32mreturn\u001b[0m \u001b[0mget_dataclass_data\u001b[0m\u001b[1;33m(\u001b[0m\u001b[0mobj\u001b[0m\u001b[1;33m,\u001b[0m \u001b[0mallow_objects\u001b[0m\u001b[1;33m=\u001b[0m\u001b[0mallow_objects\u001b[0m\u001b[1;33m)\u001b[0m\u001b[1;33m\u001b[0m\u001b[1;33m\u001b[0m\u001b[0m\n\u001b[0m\u001b[0;32m    482\u001b[0m     \u001b[1;32melif\u001b[0m \u001b[0mis_attr_class\u001b[0m\u001b[1;33m(\u001b[0m\u001b[0mobj\u001b[0m\u001b[1;33m)\u001b[0m\u001b[1;33m:\u001b[0m\u001b[1;33m\u001b[0m\u001b[1;33m\u001b[0m\u001b[0m\n\u001b[0;32m    483\u001b[0m         \u001b[1;32mreturn\u001b[0m \u001b[0mget_attr_data\u001b[0m\u001b[1;33m(\u001b[0m\u001b[0mobj\u001b[0m\u001b[1;33m,\u001b[0m \u001b[0mallow_objects\u001b[0m\u001b[1;33m=\u001b[0m\u001b[0mallow_objects\u001b[0m\u001b[1;33m)\u001b[0m\u001b[1;33m\u001b[0m\u001b[1;33m\u001b[0m\u001b[0m\n",
      "\u001b[1;32m~\\Anaconda3\\envs\\hydra-zen\\lib\\site-packages\\omegaconf\\_utils.py\u001b[0m in \u001b[0;36mget_dataclass_data\u001b[1;34m(obj, allow_objects)\u001b[0m\n\u001b[0;32m    407\u001b[0m             )\n\u001b[0;32m    408\u001b[0m         \u001b[1;32mexcept\u001b[0m \u001b[1;33m(\u001b[0m\u001b[0mValidationError\u001b[0m\u001b[1;33m,\u001b[0m \u001b[0mGrammarParseError\u001b[0m\u001b[1;33m)\u001b[0m \u001b[1;32mas\u001b[0m \u001b[0mex\u001b[0m\u001b[1;33m:\u001b[0m\u001b[1;33m\u001b[0m\u001b[1;33m\u001b[0m\u001b[0m\n\u001b[1;32m--> 409\u001b[1;33m             format_and_raise(\n\u001b[0m\u001b[0;32m    410\u001b[0m                 \u001b[0mnode\u001b[0m\u001b[1;33m=\u001b[0m\u001b[0mdummy_parent\u001b[0m\u001b[1;33m,\u001b[0m \u001b[0mkey\u001b[0m\u001b[1;33m=\u001b[0m\u001b[0mname\u001b[0m\u001b[1;33m,\u001b[0m \u001b[0mvalue\u001b[0m\u001b[1;33m=\u001b[0m\u001b[0mvalue\u001b[0m\u001b[1;33m,\u001b[0m \u001b[0mcause\u001b[0m\u001b[1;33m=\u001b[0m\u001b[0mex\u001b[0m\u001b[1;33m,\u001b[0m \u001b[0mmsg\u001b[0m\u001b[1;33m=\u001b[0m\u001b[0mstr\u001b[0m\u001b[1;33m(\u001b[0m\u001b[0mex\u001b[0m\u001b[1;33m)\u001b[0m\u001b[1;33m\u001b[0m\u001b[1;33m\u001b[0m\u001b[0m\n\u001b[0;32m    411\u001b[0m             )\n",
      "\u001b[1;32m~\\Anaconda3\\envs\\hydra-zen\\lib\\site-packages\\omegaconf\\_utils.py\u001b[0m in \u001b[0;36mformat_and_raise\u001b[1;34m(node, key, value, msg, cause, type_override)\u001b[0m\n\u001b[0;32m    871\u001b[0m         \u001b[0mex\u001b[0m\u001b[1;33m.\u001b[0m\u001b[0mref_type_str\u001b[0m \u001b[1;33m=\u001b[0m \u001b[0mref_type_str\u001b[0m\u001b[1;33m\u001b[0m\u001b[1;33m\u001b[0m\u001b[0m\n\u001b[0;32m    872\u001b[0m \u001b[1;33m\u001b[0m\u001b[0m\n\u001b[1;32m--> 873\u001b[1;33m     \u001b[0m_raise\u001b[0m\u001b[1;33m(\u001b[0m\u001b[0mex\u001b[0m\u001b[1;33m,\u001b[0m \u001b[0mcause\u001b[0m\u001b[1;33m)\u001b[0m\u001b[1;33m\u001b[0m\u001b[1;33m\u001b[0m\u001b[0m\n\u001b[0m\u001b[0;32m    874\u001b[0m \u001b[1;33m\u001b[0m\u001b[0m\n\u001b[0;32m    875\u001b[0m \u001b[1;33m\u001b[0m\u001b[0m\n",
      "\u001b[1;32m~\\Anaconda3\\envs\\hydra-zen\\lib\\site-packages\\omegaconf\\_utils.py\u001b[0m in \u001b[0;36m_raise\u001b[1;34m(ex, cause)\u001b[0m\n\u001b[0;32m    769\u001b[0m     \u001b[1;32melse\u001b[0m\u001b[1;33m:\u001b[0m\u001b[1;33m\u001b[0m\u001b[1;33m\u001b[0m\u001b[0m\n\u001b[0;32m    770\u001b[0m         \u001b[0mex\u001b[0m\u001b[1;33m.\u001b[0m\u001b[0m__cause__\u001b[0m \u001b[1;33m=\u001b[0m \u001b[1;32mNone\u001b[0m\u001b[1;33m\u001b[0m\u001b[1;33m\u001b[0m\u001b[0m\n\u001b[1;32m--> 771\u001b[1;33m     \u001b[1;32mraise\u001b[0m \u001b[0mex\u001b[0m\u001b[1;33m.\u001b[0m\u001b[0mwith_traceback\u001b[0m\u001b[1;33m(\u001b[0m\u001b[0msys\u001b[0m\u001b[1;33m.\u001b[0m\u001b[0mexc_info\u001b[0m\u001b[1;33m(\u001b[0m\u001b[1;33m)\u001b[0m\u001b[1;33m[\u001b[0m\u001b[1;36m2\u001b[0m\u001b[1;33m]\u001b[0m\u001b[1;33m)\u001b[0m  \u001b[1;31m# set env var OC_CAUSE=1 for full trace\u001b[0m\u001b[1;33m\u001b[0m\u001b[1;33m\u001b[0m\u001b[0m\n\u001b[0m\u001b[0;32m    772\u001b[0m \u001b[1;33m\u001b[0m\u001b[0m\n\u001b[0;32m    773\u001b[0m \u001b[1;33m\u001b[0m\u001b[0m\n",
      "\u001b[1;32m~\\Anaconda3\\envs\\hydra-zen\\lib\\site-packages\\omegaconf\\_utils.py\u001b[0m in \u001b[0;36mget_dataclass_data\u001b[1;34m(obj, allow_objects)\u001b[0m\n\u001b[0;32m    399\u001b[0m             \u001b[0mformat_and_raise\u001b[0m\u001b[1;33m(\u001b[0m\u001b[0mnode\u001b[0m\u001b[1;33m=\u001b[0m\u001b[1;32mNone\u001b[0m\u001b[1;33m,\u001b[0m \u001b[0mkey\u001b[0m\u001b[1;33m=\u001b[0m\u001b[1;32mNone\u001b[0m\u001b[1;33m,\u001b[0m \u001b[0mvalue\u001b[0m\u001b[1;33m=\u001b[0m\u001b[0mvalue\u001b[0m\u001b[1;33m,\u001b[0m \u001b[0mcause\u001b[0m\u001b[1;33m=\u001b[0m\u001b[0me\u001b[0m\u001b[1;33m,\u001b[0m \u001b[0mmsg\u001b[0m\u001b[1;33m=\u001b[0m\u001b[0mstr\u001b[0m\u001b[1;33m(\u001b[0m\u001b[0me\u001b[0m\u001b[1;33m)\u001b[0m\u001b[1;33m)\u001b[0m\u001b[1;33m\u001b[0m\u001b[1;33m\u001b[0m\u001b[0m\n\u001b[0;32m    400\u001b[0m         \u001b[1;32mtry\u001b[0m\u001b[1;33m:\u001b[0m\u001b[1;33m\u001b[0m\u001b[1;33m\u001b[0m\u001b[0m\n\u001b[1;32m--> 401\u001b[1;33m             d[name] = _maybe_wrap(\n\u001b[0m\u001b[0;32m    402\u001b[0m                 \u001b[0mref_type\u001b[0m\u001b[1;33m=\u001b[0m\u001b[0mtype_\u001b[0m\u001b[1;33m,\u001b[0m\u001b[1;33m\u001b[0m\u001b[1;33m\u001b[0m\u001b[0m\n\u001b[0;32m    403\u001b[0m                 \u001b[0mis_optional\u001b[0m\u001b[1;33m=\u001b[0m\u001b[0mis_optional\u001b[0m\u001b[1;33m,\u001b[0m\u001b[1;33m\u001b[0m\u001b[1;33m\u001b[0m\u001b[0m\n",
      "\u001b[1;32m~\\Anaconda3\\envs\\hydra-zen\\lib\\site-packages\\omegaconf\\omegaconf.py\u001b[0m in \u001b[0;36m_maybe_wrap\u001b[1;34m(ref_type, key, value, is_optional, parent)\u001b[0m\n\u001b[0;32m   1068\u001b[0m         \u001b[1;32mreturn\u001b[0m \u001b[0mvalue\u001b[0m\u001b[1;33m\u001b[0m\u001b[1;33m\u001b[0m\u001b[0m\n\u001b[0;32m   1069\u001b[0m     \u001b[1;32melse\u001b[0m\u001b[1;33m:\u001b[0m\u001b[1;33m\u001b[0m\u001b[1;33m\u001b[0m\u001b[0m\n\u001b[1;32m-> 1070\u001b[1;33m         return _node_wrap(\n\u001b[0m\u001b[0;32m   1071\u001b[0m             \u001b[0mref_type\u001b[0m\u001b[1;33m=\u001b[0m\u001b[0mref_type\u001b[0m\u001b[1;33m,\u001b[0m\u001b[1;33m\u001b[0m\u001b[1;33m\u001b[0m\u001b[0m\n\u001b[0;32m   1072\u001b[0m             \u001b[0mparent\u001b[0m\u001b[1;33m=\u001b[0m\u001b[0mparent\u001b[0m\u001b[1;33m,\u001b[0m\u001b[1;33m\u001b[0m\u001b[1;33m\u001b[0m\u001b[0m\n",
      "\u001b[1;32m~\\Anaconda3\\envs\\hydra-zen\\lib\\site-packages\\omegaconf\\omegaconf.py\u001b[0m in \u001b[0;36m_node_wrap\u001b[1;34m(parent, is_optional, value, key, ref_type)\u001b[0m\n\u001b[0;32m   1035\u001b[0m         )\n\u001b[0;32m   1036\u001b[0m     \u001b[1;32melif\u001b[0m \u001b[0mref_type\u001b[0m \u001b[1;33m==\u001b[0m \u001b[0mint\u001b[0m\u001b[1;33m:\u001b[0m\u001b[1;33m\u001b[0m\u001b[1;33m\u001b[0m\u001b[0m\n\u001b[1;32m-> 1037\u001b[1;33m         \u001b[0mnode\u001b[0m \u001b[1;33m=\u001b[0m \u001b[0mIntegerNode\u001b[0m\u001b[1;33m(\u001b[0m\u001b[0mvalue\u001b[0m\u001b[1;33m=\u001b[0m\u001b[0mvalue\u001b[0m\u001b[1;33m,\u001b[0m \u001b[0mkey\u001b[0m\u001b[1;33m=\u001b[0m\u001b[0mkey\u001b[0m\u001b[1;33m,\u001b[0m \u001b[0mparent\u001b[0m\u001b[1;33m=\u001b[0m\u001b[0mparent\u001b[0m\u001b[1;33m,\u001b[0m \u001b[0mis_optional\u001b[0m\u001b[1;33m=\u001b[0m\u001b[0mis_optional\u001b[0m\u001b[1;33m)\u001b[0m\u001b[1;33m\u001b[0m\u001b[1;33m\u001b[0m\u001b[0m\n\u001b[0m\u001b[0;32m   1038\u001b[0m     \u001b[1;32melif\u001b[0m \u001b[0mref_type\u001b[0m \u001b[1;33m==\u001b[0m \u001b[0mfloat\u001b[0m\u001b[1;33m:\u001b[0m\u001b[1;33m\u001b[0m\u001b[1;33m\u001b[0m\u001b[0m\n\u001b[0;32m   1039\u001b[0m         \u001b[0mnode\u001b[0m \u001b[1;33m=\u001b[0m \u001b[0mFloatNode\u001b[0m\u001b[1;33m(\u001b[0m\u001b[0mvalue\u001b[0m\u001b[1;33m=\u001b[0m\u001b[0mvalue\u001b[0m\u001b[1;33m,\u001b[0m \u001b[0mkey\u001b[0m\u001b[1;33m=\u001b[0m\u001b[0mkey\u001b[0m\u001b[1;33m,\u001b[0m \u001b[0mparent\u001b[0m\u001b[1;33m=\u001b[0m\u001b[0mparent\u001b[0m\u001b[1;33m,\u001b[0m \u001b[0mis_optional\u001b[0m\u001b[1;33m=\u001b[0m\u001b[0mis_optional\u001b[0m\u001b[1;33m)\u001b[0m\u001b[1;33m\u001b[0m\u001b[1;33m\u001b[0m\u001b[0m\n",
      "\u001b[1;32m~\\Anaconda3\\envs\\hydra-zen\\lib\\site-packages\\omegaconf\\nodes.py\u001b[0m in \u001b[0;36m__init__\u001b[1;34m(self, value, key, parent, is_optional, flags)\u001b[0m\n\u001b[0;32m    251\u001b[0m         \u001b[0mflags\u001b[0m\u001b[1;33m:\u001b[0m \u001b[0mOptional\u001b[0m\u001b[1;33m[\u001b[0m\u001b[0mDict\u001b[0m\u001b[1;33m[\u001b[0m\u001b[0mstr\u001b[0m\u001b[1;33m,\u001b[0m \u001b[0mbool\u001b[0m\u001b[1;33m]\u001b[0m\u001b[1;33m]\u001b[0m \u001b[1;33m=\u001b[0m \u001b[1;32mNone\u001b[0m\u001b[1;33m,\u001b[0m\u001b[1;33m\u001b[0m\u001b[1;33m\u001b[0m\u001b[0m\n\u001b[0;32m    252\u001b[0m     ):\n\u001b[1;32m--> 253\u001b[1;33m         super().__init__(\n\u001b[0m\u001b[0;32m    254\u001b[0m             \u001b[0mparent\u001b[0m\u001b[1;33m=\u001b[0m\u001b[0mparent\u001b[0m\u001b[1;33m,\u001b[0m\u001b[1;33m\u001b[0m\u001b[1;33m\u001b[0m\u001b[0m\n\u001b[0;32m    255\u001b[0m             \u001b[0mvalue\u001b[0m\u001b[1;33m=\u001b[0m\u001b[0mvalue\u001b[0m\u001b[1;33m,\u001b[0m\u001b[1;33m\u001b[0m\u001b[1;33m\u001b[0m\u001b[0m\n",
      "\u001b[1;32m~\\Anaconda3\\envs\\hydra-zen\\lib\\site-packages\\omegaconf\\nodes.py\u001b[0m in \u001b[0;36m__init__\u001b[1;34m(self, parent, value, metadata)\u001b[0m\n\u001b[0;32m     27\u001b[0m         \u001b[0msuper\u001b[0m\u001b[1;33m(\u001b[0m\u001b[1;33m)\u001b[0m\u001b[1;33m.\u001b[0m\u001b[0m__init__\u001b[0m\u001b[1;33m(\u001b[0m\u001b[0mparent\u001b[0m\u001b[1;33m=\u001b[0m\u001b[0mparent\u001b[0m\u001b[1;33m,\u001b[0m \u001b[0mmetadata\u001b[0m\u001b[1;33m=\u001b[0m\u001b[0mmetadata\u001b[0m\u001b[1;33m)\u001b[0m\u001b[1;33m\u001b[0m\u001b[1;33m\u001b[0m\u001b[0m\n\u001b[0;32m     28\u001b[0m         \u001b[1;32mwith\u001b[0m \u001b[0mread_write\u001b[0m\u001b[1;33m(\u001b[0m\u001b[0mself\u001b[0m\u001b[1;33m)\u001b[0m\u001b[1;33m:\u001b[0m\u001b[1;33m\u001b[0m\u001b[1;33m\u001b[0m\u001b[0m\n\u001b[1;32m---> 29\u001b[1;33m             \u001b[0mself\u001b[0m\u001b[1;33m.\u001b[0m\u001b[0m_set_value\u001b[0m\u001b[1;33m(\u001b[0m\u001b[0mvalue\u001b[0m\u001b[1;33m)\u001b[0m  \u001b[1;31m# lgtm [py/init-calls-subclass]\u001b[0m\u001b[1;33m\u001b[0m\u001b[1;33m\u001b[0m\u001b[0m\n\u001b[0m\u001b[0;32m     30\u001b[0m \u001b[1;33m\u001b[0m\u001b[0m\n\u001b[0;32m     31\u001b[0m     \u001b[1;32mdef\u001b[0m \u001b[0m_value\u001b[0m\u001b[1;33m(\u001b[0m\u001b[0mself\u001b[0m\u001b[1;33m)\u001b[0m \u001b[1;33m->\u001b[0m \u001b[0mAny\u001b[0m\u001b[1;33m:\u001b[0m\u001b[1;33m\u001b[0m\u001b[1;33m\u001b[0m\u001b[0m\n",
      "\u001b[1;32m~\\Anaconda3\\envs\\hydra-zen\\lib\\site-packages\\omegaconf\\nodes.py\u001b[0m in \u001b[0;36m_set_value\u001b[1;34m(self, value, flags)\u001b[0m\n\u001b[0;32m     44\u001b[0m             \u001b[0mself\u001b[0m\u001b[1;33m.\u001b[0m\u001b[0m_val\u001b[0m \u001b[1;33m=\u001b[0m \u001b[0mvalue\u001b[0m\u001b[1;33m\u001b[0m\u001b[1;33m\u001b[0m\u001b[0m\n\u001b[0;32m     45\u001b[0m         \u001b[1;32melse\u001b[0m\u001b[1;33m:\u001b[0m\u001b[1;33m\u001b[0m\u001b[1;33m\u001b[0m\u001b[0m\n\u001b[1;32m---> 46\u001b[1;33m             \u001b[0mself\u001b[0m\u001b[1;33m.\u001b[0m\u001b[0m_val\u001b[0m \u001b[1;33m=\u001b[0m \u001b[0mself\u001b[0m\u001b[1;33m.\u001b[0m\u001b[0mvalidate_and_convert\u001b[0m\u001b[1;33m(\u001b[0m\u001b[0mvalue\u001b[0m\u001b[1;33m)\u001b[0m\u001b[1;33m\u001b[0m\u001b[1;33m\u001b[0m\u001b[0m\n\u001b[0m\u001b[0;32m     47\u001b[0m \u001b[1;33m\u001b[0m\u001b[0m\n\u001b[0;32m     48\u001b[0m     \u001b[1;32mdef\u001b[0m \u001b[0m_strict_validate_type\u001b[0m\u001b[1;33m(\u001b[0m\u001b[0mself\u001b[0m\u001b[1;33m,\u001b[0m \u001b[0mvalue\u001b[0m\u001b[1;33m:\u001b[0m \u001b[0mAny\u001b[0m\u001b[1;33m)\u001b[0m \u001b[1;33m->\u001b[0m \u001b[1;32mNone\u001b[0m\u001b[1;33m:\u001b[0m\u001b[1;33m\u001b[0m\u001b[1;33m\u001b[0m\u001b[0m\n",
      "\u001b[1;32m~\\Anaconda3\\envs\\hydra-zen\\lib\\site-packages\\omegaconf\\nodes.py\u001b[0m in \u001b[0;36mvalidate_and_convert\u001b[1;34m(self, value)\u001b[0m\n\u001b[0;32m     74\u001b[0m             \u001b[1;32mreturn\u001b[0m \u001b[0mvalue\u001b[0m\u001b[1;33m\u001b[0m\u001b[1;33m\u001b[0m\u001b[0m\n\u001b[0;32m     75\u001b[0m         \u001b[1;32melse\u001b[0m\u001b[1;33m:\u001b[0m\u001b[1;33m\u001b[0m\u001b[1;33m\u001b[0m\u001b[0m\n\u001b[1;32m---> 76\u001b[1;33m             \u001b[1;32mreturn\u001b[0m \u001b[0mself\u001b[0m\u001b[1;33m.\u001b[0m\u001b[0m_validate_and_convert_impl\u001b[0m\u001b[1;33m(\u001b[0m\u001b[0mvalue\u001b[0m\u001b[1;33m)\u001b[0m\u001b[1;33m\u001b[0m\u001b[1;33m\u001b[0m\u001b[0m\n\u001b[0m\u001b[0;32m     77\u001b[0m \u001b[1;33m\u001b[0m\u001b[0m\n\u001b[0;32m     78\u001b[0m     \u001b[1;33m@\u001b[0m\u001b[0mabstractmethod\u001b[0m\u001b[1;33m\u001b[0m\u001b[1;33m\u001b[0m\u001b[0m\n",
      "\u001b[1;32m~\\Anaconda3\\envs\\hydra-zen\\lib\\site-packages\\omegaconf\\nodes.py\u001b[0m in \u001b[0;36m_validate_and_convert_impl\u001b[1;34m(self, value)\u001b[0m\n\u001b[0;32m    270\u001b[0m                 \u001b[1;32mraise\u001b[0m \u001b[0mValueError\u001b[0m\u001b[1;33m(\u001b[0m\u001b[1;33m)\u001b[0m\u001b[1;33m\u001b[0m\u001b[1;33m\u001b[0m\u001b[0m\n\u001b[0;32m    271\u001b[0m         \u001b[1;32mexcept\u001b[0m \u001b[0mValueError\u001b[0m\u001b[1;33m:\u001b[0m\u001b[1;33m\u001b[0m\u001b[1;33m\u001b[0m\u001b[0m\n\u001b[1;32m--> 272\u001b[1;33m             raise ValidationError(\n\u001b[0m\u001b[0;32m    273\u001b[0m                 \u001b[1;34m\"Value '$VALUE' of type '$VALUE_TYPE' could not be converted to Integer\"\u001b[0m\u001b[1;33m\u001b[0m\u001b[1;33m\u001b[0m\u001b[0m\n\u001b[0;32m    274\u001b[0m             )\n",
      "\u001b[1;31mValidationError\u001b[0m: Value 'title='The height in cm' ge=50 le=300 extra={}' of type 'pydantic.fields.FieldInfo' could not be converted to Integer\n    full_key: height\n    object_type=User"
     ]
    }
   ],
   "source": [
    "instantiate(User)"
   ]
  },
  {
   "cell_type": "code",
   "execution_count": 18,
   "id": "9451a795",
   "metadata": {},
   "outputs": [
    {
     "ename": "HydraZenUnsupportedPrimitiveError",
     "evalue": "Building: User ..\n The configured value <factory>, for field `friends`, is not supported by Hydra -- serializing or instantiating this config would ultimately result in an error.\n\nConsider using `hydra_zen.builds(<class 'dataclasses._HAS_DEFAULT_FACTORY_CLASS'>, ...)` create a config for this particular value.",
     "output_type": "error",
     "traceback": [
      "\u001b[1;31m---------------------------------------------------------------------------\u001b[0m",
      "\u001b[1;31mHydraZenUnsupportedPrimitiveError\u001b[0m         Traceback (most recent call last)",
      "\u001b[1;32m<ipython-input-18-4620fc557c18>\u001b[0m in \u001b[0;36m<module>\u001b[1;34m\u001b[0m\n\u001b[1;32m----> 1\u001b[1;33m \u001b[0mbuilds\u001b[0m\u001b[1;33m(\u001b[0m\u001b[0mUser\u001b[0m\u001b[1;33m,\u001b[0m \u001b[0mpopulate_full_signature\u001b[0m\u001b[1;33m=\u001b[0m\u001b[1;32mTrue\u001b[0m\u001b[1;33m)\u001b[0m\u001b[1;33m\u001b[0m\u001b[1;33m\u001b[0m\u001b[0m\n\u001b[0m",
      "\u001b[1;32mc:\\users\\ryan soklaski\\hydra-zen\\src\\hydra_zen\\structured_configs\\_implementations.py\u001b[0m in \u001b[0;36mbuilds\u001b[1;34m(***failed resolving arguments***)\u001b[0m\n\u001b[0;32m   1641\u001b[0m \u001b[1;33m\u001b[0m\u001b[0m\n\u001b[0;32m   1642\u001b[0m             \u001b[1;32mif\u001b[0m \u001b[1;32mnot\u001b[0m \u001b[0misinstance\u001b[0m\u001b[1;33m(\u001b[0m\u001b[0mvalue\u001b[0m\u001b[1;33m,\u001b[0m \u001b[0m_Field\u001b[0m\u001b[1;33m)\u001b[0m\u001b[1;33m:\u001b[0m\u001b[1;33m\u001b[0m\u001b[1;33m\u001b[0m\u001b[0m\n\u001b[1;32m-> 1643\u001b[1;33m                 _field = sanitized_field(\n\u001b[0m\u001b[0;32m   1644\u001b[0m                     \u001b[0mvalue\u001b[0m\u001b[1;33m,\u001b[0m\u001b[1;33m\u001b[0m\u001b[1;33m\u001b[0m\u001b[0m\n\u001b[0;32m   1645\u001b[0m                     \u001b[0merror_prefix\u001b[0m\u001b[1;33m=\u001b[0m\u001b[0mBUILDS_ERROR_PREFIX\u001b[0m\u001b[1;33m,\u001b[0m\u001b[1;33m\u001b[0m\u001b[1;33m\u001b[0m\u001b[0m\n",
      "\u001b[1;32mc:\\users\\ryan soklaski\\hydra-zen\\src\\hydra_zen\\structured_configs\\_implementations.py\u001b[0m in \u001b[0;36msanitized_field\u001b[1;34m(value, init, allow_zen_conversion, error_prefix, field_name, _mutable_default_permitted)\u001b[0m\n\u001b[0;32m    549\u001b[0m \u001b[1;33m\u001b[0m\u001b[0m\n\u001b[0;32m    550\u001b[0m     return _utils.field(\n\u001b[1;32m--> 551\u001b[1;33m         default=sanitized_default_value(\n\u001b[0m\u001b[0;32m    552\u001b[0m             \u001b[0mvalue\u001b[0m\u001b[1;33m,\u001b[0m\u001b[1;33m\u001b[0m\u001b[1;33m\u001b[0m\u001b[0m\n\u001b[0;32m    553\u001b[0m             \u001b[0mallow_zen_conversion\u001b[0m\u001b[1;33m=\u001b[0m\u001b[0mallow_zen_conversion\u001b[0m\u001b[1;33m,\u001b[0m\u001b[1;33m\u001b[0m\u001b[1;33m\u001b[0m\u001b[0m\n",
      "\u001b[1;32mc:\\users\\ryan soklaski\\hydra-zen\\src\\hydra_zen\\structured_configs\\_implementations.py\u001b[0m in \u001b[0;36msanitized_default_value\u001b[1;34m(value, allow_zen_conversion, error_prefix, field_name, structured_conf_permitted)\u001b[0m\n\u001b[0;32m    504\u001b[0m         )\n\u001b[0;32m    505\u001b[0m \u001b[1;33m\u001b[0m\u001b[0m\n\u001b[1;32m--> 506\u001b[1;33m     \u001b[1;32mraise\u001b[0m \u001b[0mHydraZenUnsupportedPrimitiveError\u001b[0m\u001b[1;33m(\u001b[0m\u001b[0merr_msg\u001b[0m\u001b[1;33m)\u001b[0m\u001b[1;33m\u001b[0m\u001b[1;33m\u001b[0m\u001b[0m\n\u001b[0m\u001b[0;32m    507\u001b[0m \u001b[1;33m\u001b[0m\u001b[0m\n\u001b[0;32m    508\u001b[0m \u001b[1;33m\u001b[0m\u001b[0m\n",
      "\u001b[1;31mHydraZenUnsupportedPrimitiveError\u001b[0m: Building: User ..\n The configured value <factory>, for field `friends`, is not supported by Hydra -- serializing or instantiating this config would ultimately result in an error.\n\nConsider using `hydra_zen.builds(<class 'dataclasses._HAS_DEFAULT_FACTORY_CLASS'>, ...)` create a config for this particular value."
     ]
    }
   ],
   "source": [
    "builds(User, populate_full_signature=True)"
   ]
  },
  {
   "cell_type": "code",
   "execution_count": 104,
   "id": "55eb8b3f",
   "metadata": {},
   "outputs": [
    {
     "data": {
      "text/plain": [
       "User(id=0, name='John Doe', friends=[0], age=None, height=None)"
      ]
     },
     "execution_count": 104,
     "metadata": {},
     "output_type": "execute_result"
    }
   ],
   "source": [
    "User(id=False)"
   ]
  },
  {
   "cell_type": "code",
   "execution_count": 24,
   "id": "9a50ae98",
   "metadata": {},
   "outputs": [],
   "source": [
    "jj = recursive_just(User(id=\"22\"))"
   ]
  },
  {
   "cell_type": "code",
   "execution_count": 25,
   "id": "5a96d0b1",
   "metadata": {},
   "outputs": [
    {
     "name": "stdout",
     "output_type": "stream",
     "text": [
      "_target_: __main__.User\n",
      "_convert_: all\n",
      "id: 22\n",
      "name: John Doe\n",
      "friends:\n",
      "- 0\n",
      "age: null\n",
      "height: null\n",
      "\n"
     ]
    }
   ],
   "source": [
    "print(to_yaml(jj))"
   ]
  },
  {
   "cell_type": "code",
   "execution_count": 30,
   "id": "4510ea12",
   "metadata": {},
   "outputs": [
    {
     "data": {
      "text/plain": [
       "User(id=22, name='John Doe', friends=[0], age=None, height=100)"
      ]
     },
     "execution_count": 30,
     "metadata": {},
     "output_type": "execute_result"
    }
   ],
   "source": [
    "instantiate(jj, height=100)"
   ]
  },
  {
   "cell_type": "code",
   "execution_count": 31,
   "id": "c76794ec",
   "metadata": {},
   "outputs": [
    {
     "ename": "InstantiationException",
     "evalue": "Error in call to target '__main__.User':\nValidationError(model='User', errors=[{'loc': ('height',), 'msg': 'ensure this value is greater than or equal to 50', 'type': 'value_error.number.not_ge', 'ctx': {'limit_value': 50}}])",
     "output_type": "error",
     "traceback": [
      "\u001b[1;31m---------------------------------------------------------------------------\u001b[0m",
      "\u001b[1;31mValidationError\u001b[0m                           Traceback (most recent call last)",
      "\u001b[1;32m~\\Anaconda3\\envs\\hydra-zen\\lib\\site-packages\\hydra\\_internal\\instantiate\\_instantiate2.py\u001b[0m in \u001b[0;36m_call_target\u001b[1;34m(_target_, _partial_, args, kwargs, full_key)\u001b[0m\n\u001b[0;32m     91\u001b[0m         \u001b[1;32mtry\u001b[0m\u001b[1;33m:\u001b[0m\u001b[1;33m\u001b[0m\u001b[1;33m\u001b[0m\u001b[0m\n\u001b[1;32m---> 92\u001b[1;33m             \u001b[1;32mreturn\u001b[0m \u001b[0m_target_\u001b[0m\u001b[1;33m(\u001b[0m\u001b[1;33m*\u001b[0m\u001b[0margs\u001b[0m\u001b[1;33m,\u001b[0m \u001b[1;33m**\u001b[0m\u001b[0mkwargs\u001b[0m\u001b[1;33m)\u001b[0m\u001b[1;33m\u001b[0m\u001b[1;33m\u001b[0m\u001b[0m\n\u001b[0m\u001b[0;32m     93\u001b[0m         \u001b[1;32mexcept\u001b[0m \u001b[0mException\u001b[0m \u001b[1;32mas\u001b[0m \u001b[0me\u001b[0m\u001b[1;33m:\u001b[0m\u001b[1;33m\u001b[0m\u001b[1;33m\u001b[0m\u001b[0m\n",
      "\u001b[1;32m<string>\u001b[0m in \u001b[0;36m__init__\u001b[1;34m(self, id, name, friends, age, height)\u001b[0m\n",
      "\u001b[1;32m~\\Anaconda3\\envs\\hydra-zen\\lib\\site-packages\\pydantic\\dataclasses.cp38-win_amd64.pyd\u001b[0m in \u001b[0;36mpydantic.dataclasses._generate_pydantic_post_init._pydantic_post_init\u001b[1;34m()\u001b[0m\n",
      "\u001b[1;31mValidationError\u001b[0m: 1 validation error for User\nheight\n  ensure this value is greater than or equal to 50 (type=value_error.number.not_ge; limit_value=50)",
      "\nThe above exception was the direct cause of the following exception:\n",
      "\u001b[1;31mInstantiationException\u001b[0m                    Traceback (most recent call last)",
      "\u001b[1;32m<ipython-input-31-cff78afd8a10>\u001b[0m in \u001b[0;36m<module>\u001b[1;34m\u001b[0m\n\u001b[1;32m----> 1\u001b[1;33m \u001b[0minstantiate\u001b[0m\u001b[1;33m(\u001b[0m\u001b[0mjj\u001b[0m\u001b[1;33m,\u001b[0m \u001b[0mheight\u001b[0m\u001b[1;33m=\u001b[0m\u001b[1;33m-\u001b[0m\u001b[1;36m10\u001b[0m\u001b[1;33m)\u001b[0m\u001b[1;33m\u001b[0m\u001b[1;33m\u001b[0m\u001b[0m\n\u001b[0m",
      "\u001b[1;32m~\\Anaconda3\\envs\\hydra-zen\\lib\\site-packages\\hydra\\_internal\\instantiate\\_instantiate2.py\u001b[0m in \u001b[0;36minstantiate\u001b[1;34m(config, *args, **kwargs)\u001b[0m\n\u001b[0;32m    220\u001b[0m         \u001b[0m_partial_\u001b[0m \u001b[1;33m=\u001b[0m \u001b[0mconfig\u001b[0m\u001b[1;33m.\u001b[0m\u001b[0mpop\u001b[0m\u001b[1;33m(\u001b[0m\u001b[0m_Keys\u001b[0m\u001b[1;33m.\u001b[0m\u001b[0mPARTIAL\u001b[0m\u001b[1;33m,\u001b[0m \u001b[1;32mFalse\u001b[0m\u001b[1;33m)\u001b[0m\u001b[1;33m\u001b[0m\u001b[1;33m\u001b[0m\u001b[0m\n\u001b[0;32m    221\u001b[0m \u001b[1;33m\u001b[0m\u001b[0m\n\u001b[1;32m--> 222\u001b[1;33m         return instantiate_node(\n\u001b[0m\u001b[0;32m    223\u001b[0m             \u001b[0mconfig\u001b[0m\u001b[1;33m,\u001b[0m \u001b[1;33m*\u001b[0m\u001b[0margs\u001b[0m\u001b[1;33m,\u001b[0m \u001b[0mrecursive\u001b[0m\u001b[1;33m=\u001b[0m\u001b[0m_recursive_\u001b[0m\u001b[1;33m,\u001b[0m \u001b[0mconvert\u001b[0m\u001b[1;33m=\u001b[0m\u001b[0m_convert_\u001b[0m\u001b[1;33m,\u001b[0m \u001b[0mpartial\u001b[0m\u001b[1;33m=\u001b[0m\u001b[0m_partial_\u001b[0m\u001b[1;33m\u001b[0m\u001b[1;33m\u001b[0m\u001b[0m\n\u001b[0;32m    224\u001b[0m         )\n",
      "\u001b[1;32m~\\Anaconda3\\envs\\hydra-zen\\lib\\site-packages\\hydra\\_internal\\instantiate\\_instantiate2.py\u001b[0m in \u001b[0;36minstantiate_node\u001b[1;34m(node, convert, recursive, partial, *args)\u001b[0m\n\u001b[0;32m    337\u001b[0m                     \u001b[0mkwargs\u001b[0m\u001b[1;33m[\u001b[0m\u001b[0mkey\u001b[0m\u001b[1;33m]\u001b[0m \u001b[1;33m=\u001b[0m \u001b[0m_convert_node\u001b[0m\u001b[1;33m(\u001b[0m\u001b[0mvalue\u001b[0m\u001b[1;33m,\u001b[0m \u001b[0mconvert\u001b[0m\u001b[1;33m)\u001b[0m\u001b[1;33m\u001b[0m\u001b[1;33m\u001b[0m\u001b[0m\n\u001b[0;32m    338\u001b[0m \u001b[1;33m\u001b[0m\u001b[0m\n\u001b[1;32m--> 339\u001b[1;33m             \u001b[1;32mreturn\u001b[0m \u001b[0m_call_target\u001b[0m\u001b[1;33m(\u001b[0m\u001b[0m_target_\u001b[0m\u001b[1;33m,\u001b[0m \u001b[0mpartial\u001b[0m\u001b[1;33m,\u001b[0m \u001b[0margs\u001b[0m\u001b[1;33m,\u001b[0m \u001b[0mkwargs\u001b[0m\u001b[1;33m,\u001b[0m \u001b[0mfull_key\u001b[0m\u001b[1;33m)\u001b[0m\u001b[1;33m\u001b[0m\u001b[1;33m\u001b[0m\u001b[0m\n\u001b[0m\u001b[0;32m    340\u001b[0m         \u001b[1;32melse\u001b[0m\u001b[1;33m:\u001b[0m\u001b[1;33m\u001b[0m\u001b[1;33m\u001b[0m\u001b[0m\n\u001b[0;32m    341\u001b[0m             \u001b[1;31m# If ALL or PARTIAL non structured, instantiate in dict and resolve interpolations eagerly.\u001b[0m\u001b[1;33m\u001b[0m\u001b[1;33m\u001b[0m\u001b[1;33m\u001b[0m\u001b[0m\n",
      "\u001b[1;32m~\\Anaconda3\\envs\\hydra-zen\\lib\\site-packages\\hydra\\_internal\\instantiate\\_instantiate2.py\u001b[0m in \u001b[0;36m_call_target\u001b[1;34m(_target_, _partial_, args, kwargs, full_key)\u001b[0m\n\u001b[0;32m     95\u001b[0m             \u001b[1;32mif\u001b[0m \u001b[0mfull_key\u001b[0m\u001b[1;33m:\u001b[0m\u001b[1;33m\u001b[0m\u001b[1;33m\u001b[0m\u001b[0m\n\u001b[0;32m     96\u001b[0m                 \u001b[0mmsg\u001b[0m \u001b[1;33m+=\u001b[0m \u001b[1;34mf\"\\nfull_key: {full_key}\"\u001b[0m\u001b[1;33m\u001b[0m\u001b[1;33m\u001b[0m\u001b[0m\n\u001b[1;32m---> 97\u001b[1;33m             \u001b[1;32mraise\u001b[0m \u001b[0mInstantiationException\u001b[0m\u001b[1;33m(\u001b[0m\u001b[0mmsg\u001b[0m\u001b[1;33m)\u001b[0m \u001b[1;32mfrom\u001b[0m \u001b[0me\u001b[0m\u001b[1;33m\u001b[0m\u001b[1;33m\u001b[0m\u001b[0m\n\u001b[0m\u001b[0;32m     98\u001b[0m \u001b[1;33m\u001b[0m\u001b[0m\n\u001b[0;32m     99\u001b[0m \u001b[1;33m\u001b[0m\u001b[0m\n",
      "\u001b[1;31mInstantiationException\u001b[0m: Error in call to target '__main__.User':\nValidationError(model='User', errors=[{'loc': ('height',), 'msg': 'ensure this value is greater than or equal to 50', 'type': 'value_error.number.not_ge', 'ctx': {'limit_value': 50}}])"
     ]
    }
   ],
   "source": [
    "instantiate(jj, height=-10)"
   ]
  },
  {
   "cell_type": "markdown",
   "id": "45e68364",
   "metadata": {},
   "source": [
    "## Scratch"
   ]
  },
  {
   "cell_type": "code",
   "execution_count": 24,
   "id": "f1516060",
   "metadata": {},
   "outputs": [],
   "source": [
    "# def recursive_just_new(obj):\n",
    "#     if is_dataclass(obj):\n",
    "        \n",
    "#         is_class_obj = isinstance(obj, type)\n",
    "#         type_ = type(obj) if not is_class_obj else obj\n",
    "        \n",
    "#         # obj is a dataclass instance\n",
    "        \n",
    "#         converted_fields = {}\n",
    "#         for field in fields(obj):\n",
    "#             value = getattr(obj, field.name)\n",
    "#             converted_fields[field.name] = recursive_just(value)\n",
    "#         out = builds(type_, **converted_fields)\n",
    "#         if not is_class_obj:\n",
    "#             out = out()\n",
    "#         return out\n",
    "\n",
    "#     else:\n",
    "#         return just(obj)\n",
    "\n",
    "# @dataclass\n",
    "# class FooBar:\n",
    "#     field1: Interface1 = foo\n",
    "#     field2: Interface2 = bar\n",
    "#     field3: Any = 1\n",
    "\n",
    "\n",
    "\n",
    "\n",
    "# foobar = Stuff(foo, bar, Nested(baz))\n",
    "\n",
    "# instantiate(recursive_just(foobar)) == foobar\n",
    "# instantiate(recursive_just(FooBar())) == FooBar()"
   ]
  },
  {
   "cell_type": "code",
   "execution_count": 1,
   "id": "7fdee5d6",
   "metadata": {},
   "outputs": [],
   "source": [
    "from dataclasses import dataclass, field\n",
    "from typing import List\n",
    "\n",
    "@dataclass\n",
    "class Foo:\n",
    "    bar : List[int] = field(default_factory=lambda : [0])"
   ]
  },
  {
   "cell_type": "code",
   "execution_count": 2,
   "id": "a153aa4d",
   "metadata": {},
   "outputs": [
    {
     "name": "stdout",
     "output_type": "stream",
     "text": [
      "[('_target_', <class 'str'>, Field(name=None,type=None,default='__main__.Foo',default_factory=<dataclasses._MISSING_TYPE object at 0x000001CF557F14F0>,init=False,repr=True,hash=None,compare=True,metadata=mappingproxy({}),_field_type=None)), ('bar', typing.List[int], <factory>)]\n",
      "HERE bar <factory>\n",
      "\n",
      "\n"
     ]
    },
    {
     "ename": "AttributeError",
     "evalue": "type object 'Foo' has no attribute 'bar'",
     "output_type": "error",
     "traceback": [
      "\u001b[1;31m---------------------------------------------------------------------------\u001b[0m",
      "\u001b[1;31mAttributeError\u001b[0m                            Traceback (most recent call last)",
      "\u001b[1;32m<ipython-input-2-fcf9ba5263ff>\u001b[0m in \u001b[0;36m<module>\u001b[1;34m\u001b[0m\n\u001b[0;32m      1\u001b[0m \u001b[1;32mfrom\u001b[0m \u001b[0mhydra_zen\u001b[0m \u001b[1;32mimport\u001b[0m \u001b[0mbuilds\u001b[0m\u001b[1;33m,\u001b[0m \u001b[0mto_yaml\u001b[0m\u001b[1;33m\u001b[0m\u001b[1;33m\u001b[0m\u001b[0m\n\u001b[0;32m      2\u001b[0m \u001b[1;33m\u001b[0m\u001b[0m\n\u001b[1;32m----> 3\u001b[1;33m \u001b[0mprint\u001b[0m\u001b[1;33m(\u001b[0m\u001b[0mto_yaml\u001b[0m\u001b[1;33m(\u001b[0m\u001b[0mbuilds\u001b[0m\u001b[1;33m(\u001b[0m\u001b[0mFoo\u001b[0m\u001b[1;33m,\u001b[0m \u001b[0mpopulate_full_signature\u001b[0m\u001b[1;33m=\u001b[0m\u001b[1;32mTrue\u001b[0m\u001b[1;33m)\u001b[0m\u001b[1;33m)\u001b[0m\u001b[1;33m)\u001b[0m\u001b[1;33m\u001b[0m\u001b[1;33m\u001b[0m\u001b[0m\n\u001b[0m",
      "\u001b[1;32mc:\\users\\ryan soklaski\\hydra-zen\\src\\hydra_zen\\structured_configs\\_implementations.py\u001b[0m in \u001b[0;36mbuilds\u001b[1;34m(***failed resolving arguments***)\u001b[0m\n\u001b[0;32m   1658\u001b[0m                 \u001b[0mprint\u001b[0m\u001b[1;33m(\u001b[0m\u001b[1;34m\"\\n\"\u001b[0m\u001b[1;33m)\u001b[0m\u001b[1;33m\u001b[0m\u001b[1;33m\u001b[0m\u001b[0m\n\u001b[0;32m   1659\u001b[0m                 \u001b[1;32mif\u001b[0m \u001b[0misinstance\u001b[0m\u001b[1;33m(\u001b[0m\u001b[0mvalue\u001b[0m\u001b[1;33m,\u001b[0m \u001b[0m_default_factory_type\u001b[0m\u001b[1;33m)\u001b[0m\u001b[1;33m:\u001b[0m\u001b[1;33m\u001b[0m\u001b[1;33m\u001b[0m\u001b[0m\n\u001b[1;32m-> 1660\u001b[1;33m                     \u001b[0mvalue\u001b[0m \u001b[1;33m=\u001b[0m \u001b[0mgetattr\u001b[0m\u001b[1;33m(\u001b[0m\u001b[0mtarget\u001b[0m\u001b[1;33m,\u001b[0m \u001b[0mname\u001b[0m\u001b[1;33m)\u001b[0m\u001b[1;33m(\u001b[0m\u001b[1;33m)\u001b[0m\u001b[1;33m\u001b[0m\u001b[1;33m\u001b[0m\u001b[0m\n\u001b[0m\u001b[0;32m   1661\u001b[0m                 _field = sanitized_field(\n\u001b[0;32m   1662\u001b[0m                     \u001b[0mvalue\u001b[0m\u001b[1;33m,\u001b[0m\u001b[1;33m\u001b[0m\u001b[1;33m\u001b[0m\u001b[0m\n",
      "\u001b[1;31mAttributeError\u001b[0m: type object 'Foo' has no attribute 'bar'"
     ]
    }
   ],
   "source": [
    "from hydra_zen import builds, to_yaml\n",
    "\n",
    "print(to_yaml(builds(Foo, populate_full_signature=True)))"
   ]
  },
  {
   "cell_type": "code",
   "execution_count": 3,
   "id": "49f436c8",
   "metadata": {},
   "outputs": [],
   "source": [
    "from inspect import signature\n",
    "from dataclasses import fields"
   ]
  },
  {
   "cell_type": "code",
   "execution_count": 7,
   "id": "931f7b9d",
   "metadata": {},
   "outputs": [
    {
     "data": {
      "text/plain": [
       "[0]"
      ]
     },
     "execution_count": 7,
     "metadata": {},
     "output_type": "execute_result"
    }
   ],
   "source": [
    "fields(Foo)[0].default_factory()"
   ]
  },
  {
   "cell_type": "code",
   "execution_count": 16,
   "id": "47007032",
   "metadata": {},
   "outputs": [
    {
     "data": {
      "text/plain": [
       "<factory>"
      ]
     },
     "execution_count": 16,
     "metadata": {},
     "output_type": "execute_result"
    }
   ],
   "source": [
    "signature(Foo).parameters[\"bar\"].default"
   ]
  },
  {
   "cell_type": "code",
   "execution_count": 17,
   "id": "3d1b3c7d",
   "metadata": {},
   "outputs": [
    {
     "ename": "TypeError",
     "evalue": "'_HAS_DEFAULT_FACTORY_CLASS' object is not callable",
     "output_type": "error",
     "traceback": [
      "\u001b[1;31m---------------------------------------------------------------------------\u001b[0m",
      "\u001b[1;31mTypeError\u001b[0m                                 Traceback (most recent call last)",
      "\u001b[1;32m<ipython-input-17-56c6b59b6587>\u001b[0m in \u001b[0;36m<module>\u001b[1;34m\u001b[0m\n\u001b[1;32m----> 1\u001b[1;33m \u001b[0msignature\u001b[0m\u001b[1;33m(\u001b[0m\u001b[0mFoo\u001b[0m\u001b[1;33m)\u001b[0m\u001b[1;33m.\u001b[0m\u001b[0mparameters\u001b[0m\u001b[1;33m[\u001b[0m\u001b[1;34m\"bar\"\u001b[0m\u001b[1;33m]\u001b[0m\u001b[1;33m.\u001b[0m\u001b[0mdefault\u001b[0m\u001b[1;33m(\u001b[0m\u001b[1;33m)\u001b[0m\u001b[1;33m\u001b[0m\u001b[1;33m\u001b[0m\u001b[0m\n\u001b[0m",
      "\u001b[1;31mTypeError\u001b[0m: '_HAS_DEFAULT_FACTORY_CLASS' object is not callable"
     ]
    }
   ],
   "source": [
    "signature(Foo).parameters[\"bar\"].default()"
   ]
  },
  {
   "cell_type": "code",
   "execution_count": 10,
   "id": "147b5d8d",
   "metadata": {},
   "outputs": [
    {
     "data": {
      "text/plain": [
       "False"
      ]
     },
     "execution_count": 10,
     "metadata": {},
     "output_type": "execute_result"
    }
   ],
   "source": [
    "from dataclasses import Field\n",
    "isinstance(signature(Foo).parameters[\"bar\"].default, Field)"
   ]
  }
 ],
 "metadata": {
  "kernelspec": {
   "display_name": "Python [conda env:hydra-zen]",
   "language": "python",
   "name": "conda-env-hydra-zen-py"
  },
  "language_info": {
   "codemirror_mode": {
    "name": "ipython",
    "version": 3
   },
   "file_extension": ".py",
   "mimetype": "text/x-python",
   "name": "python",
   "nbconvert_exporter": "python",
   "pygments_lexer": "ipython3",
   "version": "3.8.8"
  }
 },
 "nbformat": 4,
 "nbformat_minor": 5
}
